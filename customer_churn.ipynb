{
 "cells": [
  {
   "cell_type": "markdown",
   "id": "0b506a39-361c-45dc-85ba-a39599939bfd",
   "metadata": {},
   "source": [
    "# Исследование оттока клиентов"
   ]
  },
  {
   "cell_type": "markdown",
   "id": "32d9d03b-6a28-4901-9ee8-0095705b3061",
   "metadata": {},
   "source": [
    "Описание данных:\n",
    "\n",
    "* **RowNumber** — индекс строки в данных\n",
    "* **CustomerId** — уникальный идентификатор клиента\n",
    "* **Surname** — фамилия\n",
    "* **CreditScore** — кредитный рейтинг\n",
    "* **Geography** — страна проживания\n",
    "* **Gender** — пол\n",
    "* **Age** — возраст\n",
    "* **Tenure** — сколько лет человек является клиентом банка\n",
    "* **Balance** — баланс на счёте\n",
    "* **NumOfProducts** — количество продуктов банка, используемых клиентом\n",
    "* **HasCrCard** — наличие кредитной карты\n",
    "* **IsActiveMember** — активность клиента\n",
    "* **EstimatedSalary** — предполагаемая зарплата"
   ]
  },
  {
   "cell_type": "markdown",
   "id": "84e7c90f-c16c-4e1d-8b00-7f12649e3d14",
   "metadata": {},
   "source": [
    "<div style=\"border:solid #9FEDD7 4px; padding: 40px\">\n",
    "\n",
    "**Цель исследования**\n",
    "    \n",
    "Построение модели предсказания, уйдет ли клиент из банка в ближайшее время, с предельно большим значением F1-меры (не менее 0.59).\n",
    "\n",
    "**Ход исследования**\n",
    "\n",
    "* Загрузка и подготовка данных.\n",
    "* Исследование баланса классов, обучение модели без учёта дисбаланса.\n",
    "* Улучшение качества модели, учитывая дисбаланс классов. Обучение разных моделей и поиск лучшей.\n",
    "* Проведение финального тестирования."
   ]
  },
  {
   "cell_type": "markdown",
   "id": "d0b6c86e-68ee-461b-8959-d66eb2c92038",
   "metadata": {},
   "source": [
    "### 1. Загрузите и подготовьте данные"
   ]
  },
  {
   "cell_type": "code",
   "execution_count": 120,
   "id": "f69545f8-1864-43d3-9219-a7ad0279c731",
   "metadata": {},
   "outputs": [],
   "source": [
    "import pandas as pd\n",
    "import seaborn as sns\n",
    "import numpy as np\n",
    "import matplotlib.pyplot as plt\n",
    "from sklearn.model_selection import train_test_split\n",
    "from sklearn.metrics import f1_score\n",
    "\n",
    "from sklearn.model_selection import StratifiedShuffleSplit\n",
    "from sklearn.model_selection import GridSearchCV\n",
    "from sklearn.preprocessing import StandardScaler\n",
    "from sklearn.utils import shuffle\n",
    "import warnings\n",
    "from sklearn.metrics import roc_auc_score\n",
    "from sklearn.model_selection import cross_val_score\n",
    "\n",
    "from sklearn.tree import DecisionTreeClassifier\n",
    "from sklearn.ensemble import RandomForestClassifier\n",
    "from sklearn.linear_model import LogisticRegression\n",
    "from sklearn.dummy import DummyClassifier\n",
    "from sklearn.model_selection import KFold\n",
    "from sklearn.metrics import plot_confusion_matrix\n",
    "from sklearn.metrics import make_scorer\n",
    "from sklearn.metrics import plot_roc_curve\n",
    "from imblearn.pipeline import Pipeline, make_pipeline\n",
    "from imblearn.over_sampling import SMOTE\n",
    "\n",
    "from sklearn.model_selection import StratifiedKFold\n",
    "from sklearn.linear_model import Perceptron\n",
    "\n",
    "import re\n"
   ]
  },
  {
   "cell_type": "markdown",
   "id": "0d373e91-866b-4564-a45c-b54d972e7bcc",
   "metadata": {},
   "source": [
    "#### 1.1. Обзор данных"
   ]
  },
  {
   "cell_type": "markdown",
   "id": "8ae930fb-677c-4df4-81b9-cbbb9c88ae96",
   "metadata": {},
   "source": [
    "\n"
   ]
  },
  {
   "cell_type": "code",
   "execution_count": 121,
   "id": "e83eddda-4751-49b0-afc6-c31b11dfe6f4",
   "metadata": {},
   "outputs": [
    {
     "data": {
      "text/html": [
       "<div>\n",
       "<style scoped>\n",
       "    .dataframe tbody tr th:only-of-type {\n",
       "        vertical-align: middle;\n",
       "    }\n",
       "\n",
       "    .dataframe tbody tr th {\n",
       "        vertical-align: top;\n",
       "    }\n",
       "\n",
       "    .dataframe thead th {\n",
       "        text-align: right;\n",
       "    }\n",
       "</style>\n",
       "<table border=\"1\" class=\"dataframe\">\n",
       "  <thead>\n",
       "    <tr style=\"text-align: right;\">\n",
       "      <th></th>\n",
       "      <th>RowNumber</th>\n",
       "      <th>CustomerId</th>\n",
       "      <th>Surname</th>\n",
       "      <th>CreditScore</th>\n",
       "      <th>Geography</th>\n",
       "      <th>Gender</th>\n",
       "      <th>Age</th>\n",
       "      <th>Tenure</th>\n",
       "      <th>Balance</th>\n",
       "      <th>NumOfProducts</th>\n",
       "      <th>HasCrCard</th>\n",
       "      <th>IsActiveMember</th>\n",
       "      <th>EstimatedSalary</th>\n",
       "      <th>Exited</th>\n",
       "    </tr>\n",
       "  </thead>\n",
       "  <tbody>\n",
       "    <tr>\n",
       "      <th>0</th>\n",
       "      <td>1</td>\n",
       "      <td>15634602</td>\n",
       "      <td>Hargrave</td>\n",
       "      <td>619</td>\n",
       "      <td>France</td>\n",
       "      <td>Female</td>\n",
       "      <td>42</td>\n",
       "      <td>2.0</td>\n",
       "      <td>0.00</td>\n",
       "      <td>1</td>\n",
       "      <td>1</td>\n",
       "      <td>1</td>\n",
       "      <td>101348.88</td>\n",
       "      <td>1</td>\n",
       "    </tr>\n",
       "    <tr>\n",
       "      <th>1</th>\n",
       "      <td>2</td>\n",
       "      <td>15647311</td>\n",
       "      <td>Hill</td>\n",
       "      <td>608</td>\n",
       "      <td>Spain</td>\n",
       "      <td>Female</td>\n",
       "      <td>41</td>\n",
       "      <td>1.0</td>\n",
       "      <td>83807.86</td>\n",
       "      <td>1</td>\n",
       "      <td>0</td>\n",
       "      <td>1</td>\n",
       "      <td>112542.58</td>\n",
       "      <td>0</td>\n",
       "    </tr>\n",
       "    <tr>\n",
       "      <th>2</th>\n",
       "      <td>3</td>\n",
       "      <td>15619304</td>\n",
       "      <td>Onio</td>\n",
       "      <td>502</td>\n",
       "      <td>France</td>\n",
       "      <td>Female</td>\n",
       "      <td>42</td>\n",
       "      <td>8.0</td>\n",
       "      <td>159660.80</td>\n",
       "      <td>3</td>\n",
       "      <td>1</td>\n",
       "      <td>0</td>\n",
       "      <td>113931.57</td>\n",
       "      <td>1</td>\n",
       "    </tr>\n",
       "    <tr>\n",
       "      <th>3</th>\n",
       "      <td>4</td>\n",
       "      <td>15701354</td>\n",
       "      <td>Boni</td>\n",
       "      <td>699</td>\n",
       "      <td>France</td>\n",
       "      <td>Female</td>\n",
       "      <td>39</td>\n",
       "      <td>1.0</td>\n",
       "      <td>0.00</td>\n",
       "      <td>2</td>\n",
       "      <td>0</td>\n",
       "      <td>0</td>\n",
       "      <td>93826.63</td>\n",
       "      <td>0</td>\n",
       "    </tr>\n",
       "    <tr>\n",
       "      <th>4</th>\n",
       "      <td>5</td>\n",
       "      <td>15737888</td>\n",
       "      <td>Mitchell</td>\n",
       "      <td>850</td>\n",
       "      <td>Spain</td>\n",
       "      <td>Female</td>\n",
       "      <td>43</td>\n",
       "      <td>2.0</td>\n",
       "      <td>125510.82</td>\n",
       "      <td>1</td>\n",
       "      <td>1</td>\n",
       "      <td>1</td>\n",
       "      <td>79084.10</td>\n",
       "      <td>0</td>\n",
       "    </tr>\n",
       "  </tbody>\n",
       "</table>\n",
       "</div>"
      ],
      "text/plain": [
       "   RowNumber  CustomerId   Surname  CreditScore Geography  Gender  Age  \\\n",
       "0          1    15634602  Hargrave          619    France  Female   42   \n",
       "1          2    15647311      Hill          608     Spain  Female   41   \n",
       "2          3    15619304      Onio          502    France  Female   42   \n",
       "3          4    15701354      Boni          699    France  Female   39   \n",
       "4          5    15737888  Mitchell          850     Spain  Female   43   \n",
       "\n",
       "   Tenure    Balance  NumOfProducts  HasCrCard  IsActiveMember  \\\n",
       "0     2.0       0.00              1          1               1   \n",
       "1     1.0   83807.86              1          0               1   \n",
       "2     8.0  159660.80              3          1               0   \n",
       "3     1.0       0.00              2          0               0   \n",
       "4     2.0  125510.82              1          1               1   \n",
       "\n",
       "   EstimatedSalary  Exited  \n",
       "0        101348.88       1  \n",
       "1        112542.58       0  \n",
       "2        113931.57       1  \n",
       "3         93826.63       0  \n",
       "4         79084.10       0  "
      ]
     },
     "metadata": {},
     "output_type": "display_data"
    },
    {
     "name": "stdout",
     "output_type": "stream",
     "text": [
      "<class 'pandas.core.frame.DataFrame'>\n",
      "RangeIndex: 10000 entries, 0 to 9999\n",
      "Data columns (total 14 columns):\n",
      " #   Column           Non-Null Count  Dtype  \n",
      "---  ------           --------------  -----  \n",
      " 0   RowNumber        10000 non-null  int64  \n",
      " 1   CustomerId       10000 non-null  int64  \n",
      " 2   Surname          10000 non-null  object \n",
      " 3   CreditScore      10000 non-null  int64  \n",
      " 4   Geography        10000 non-null  object \n",
      " 5   Gender           10000 non-null  object \n",
      " 6   Age              10000 non-null  int64  \n",
      " 7   Tenure           9091 non-null   float64\n",
      " 8   Balance          10000 non-null  float64\n",
      " 9   NumOfProducts    10000 non-null  int64  \n",
      " 10  HasCrCard        10000 non-null  int64  \n",
      " 11  IsActiveMember   10000 non-null  int64  \n",
      " 12  EstimatedSalary  10000 non-null  float64\n",
      " 13  Exited           10000 non-null  int64  \n",
      "dtypes: float64(3), int64(8), object(3)\n",
      "memory usage: 1.1+ MB\n",
      "None\n"
     ]
    }
   ],
   "source": [
    "try:\n",
    "    data=pd.read_csv('Churn.csv')\n",
    "except:\n",
    "    data=pd.read_csv('/datasets/Churn.csv')\n",
    "    \n",
    "display(data.head())\n",
    "print(data.info())\n",
    "warnings.filterwarnings('ignore')"
   ]
  },
  {
   "cell_type": "markdown",
   "id": "c0366290-1337-4642-a159-ce4fed8ef0a3",
   "metadata": {},
   "source": [
    "Мне значительно удобнее пользоваться **snake_case**, поэтому преобразуем названия столбцов из **CamelCase**."
   ]
  },
  {
   "cell_type": "code",
   "execution_count": 122,
   "id": "4849ccb2-b62d-46bc-844f-fa669f0c31da",
   "metadata": {},
   "outputs": [
    {
     "data": {
      "text/html": [
       "<div>\n",
       "<style scoped>\n",
       "    .dataframe tbody tr th:only-of-type {\n",
       "        vertical-align: middle;\n",
       "    }\n",
       "\n",
       "    .dataframe tbody tr th {\n",
       "        vertical-align: top;\n",
       "    }\n",
       "\n",
       "    .dataframe thead th {\n",
       "        text-align: right;\n",
       "    }\n",
       "</style>\n",
       "<table border=\"1\" class=\"dataframe\">\n",
       "  <thead>\n",
       "    <tr style=\"text-align: right;\">\n",
       "      <th></th>\n",
       "      <th>row_number</th>\n",
       "      <th>customer_id</th>\n",
       "      <th>surname</th>\n",
       "      <th>credit_score</th>\n",
       "      <th>geography</th>\n",
       "      <th>gender</th>\n",
       "      <th>age</th>\n",
       "      <th>tenure</th>\n",
       "      <th>balance</th>\n",
       "      <th>num_of_products</th>\n",
       "      <th>has_cr_card</th>\n",
       "      <th>is_active_member</th>\n",
       "      <th>estimated_salary</th>\n",
       "      <th>exited</th>\n",
       "    </tr>\n",
       "  </thead>\n",
       "  <tbody>\n",
       "    <tr>\n",
       "      <th>0</th>\n",
       "      <td>1</td>\n",
       "      <td>15634602</td>\n",
       "      <td>hargrave</td>\n",
       "      <td>619</td>\n",
       "      <td>france</td>\n",
       "      <td>female</td>\n",
       "      <td>42</td>\n",
       "      <td>2.0</td>\n",
       "      <td>0.00</td>\n",
       "      <td>1</td>\n",
       "      <td>1</td>\n",
       "      <td>1</td>\n",
       "      <td>101348.88</td>\n",
       "      <td>1</td>\n",
       "    </tr>\n",
       "    <tr>\n",
       "      <th>1</th>\n",
       "      <td>2</td>\n",
       "      <td>15647311</td>\n",
       "      <td>hill</td>\n",
       "      <td>608</td>\n",
       "      <td>spain</td>\n",
       "      <td>female</td>\n",
       "      <td>41</td>\n",
       "      <td>1.0</td>\n",
       "      <td>83807.86</td>\n",
       "      <td>1</td>\n",
       "      <td>0</td>\n",
       "      <td>1</td>\n",
       "      <td>112542.58</td>\n",
       "      <td>0</td>\n",
       "    </tr>\n",
       "    <tr>\n",
       "      <th>2</th>\n",
       "      <td>3</td>\n",
       "      <td>15619304</td>\n",
       "      <td>onio</td>\n",
       "      <td>502</td>\n",
       "      <td>france</td>\n",
       "      <td>female</td>\n",
       "      <td>42</td>\n",
       "      <td>8.0</td>\n",
       "      <td>159660.80</td>\n",
       "      <td>3</td>\n",
       "      <td>1</td>\n",
       "      <td>0</td>\n",
       "      <td>113931.57</td>\n",
       "      <td>1</td>\n",
       "    </tr>\n",
       "    <tr>\n",
       "      <th>3</th>\n",
       "      <td>4</td>\n",
       "      <td>15701354</td>\n",
       "      <td>boni</td>\n",
       "      <td>699</td>\n",
       "      <td>france</td>\n",
       "      <td>female</td>\n",
       "      <td>39</td>\n",
       "      <td>1.0</td>\n",
       "      <td>0.00</td>\n",
       "      <td>2</td>\n",
       "      <td>0</td>\n",
       "      <td>0</td>\n",
       "      <td>93826.63</td>\n",
       "      <td>0</td>\n",
       "    </tr>\n",
       "    <tr>\n",
       "      <th>4</th>\n",
       "      <td>5</td>\n",
       "      <td>15737888</td>\n",
       "      <td>mitchell</td>\n",
       "      <td>850</td>\n",
       "      <td>spain</td>\n",
       "      <td>female</td>\n",
       "      <td>43</td>\n",
       "      <td>2.0</td>\n",
       "      <td>125510.82</td>\n",
       "      <td>1</td>\n",
       "      <td>1</td>\n",
       "      <td>1</td>\n",
       "      <td>79084.10</td>\n",
       "      <td>0</td>\n",
       "    </tr>\n",
       "  </tbody>\n",
       "</table>\n",
       "</div>"
      ],
      "text/plain": [
       "   row_number  customer_id   surname  credit_score geography  gender  age  \\\n",
       "0           1     15634602  hargrave           619    france  female   42   \n",
       "1           2     15647311      hill           608     spain  female   41   \n",
       "2           3     15619304      onio           502    france  female   42   \n",
       "3           4     15701354      boni           699    france  female   39   \n",
       "4           5     15737888  mitchell           850     spain  female   43   \n",
       "\n",
       "   tenure    balance  num_of_products  has_cr_card  is_active_member  \\\n",
       "0     2.0       0.00                1            1                 1   \n",
       "1     1.0   83807.86                1            0                 1   \n",
       "2     8.0  159660.80                3            1                 0   \n",
       "3     1.0       0.00                2            0                 0   \n",
       "4     2.0  125510.82                1            1                 1   \n",
       "\n",
       "   estimated_salary  exited  \n",
       "0         101348.88       1  \n",
       "1         112542.58       0  \n",
       "2         113931.57       1  \n",
       "3          93826.63       0  \n",
       "4          79084.10       0  "
      ]
     },
     "execution_count": 122,
     "metadata": {},
     "output_type": "execute_result"
    }
   ],
   "source": [
    "\n",
    "columns_name={}\n",
    "for x in data.columns:\n",
    "    new_name=''\n",
    "    separator=re.findall('[A-Z]',x)\n",
    "    if separator:\n",
    "        x=list(x)\n",
    "        for i in range(len(x)):\n",
    "            if x[i] not in separator:\n",
    "                new_name+=str(x[i])\n",
    "            elif i!=0:\n",
    "                new_name=new_name+'_'+str(x[i]).lower()\n",
    "            else:\n",
    "                new_name+=str(x[i]).lower()\n",
    "        columns_name[\"\".join(x)]=new_name\n",
    "        \n",
    "data = data.rename(columns=columns_name)\n",
    "for x in ['surname','geography','gender']:\n",
    "    data[x]=data[x].str.lower()\n",
    "data.head()"
   ]
  },
  {
   "cell_type": "markdown",
   "id": "3e4f499d-0e82-41f9-b37f-9ef91bb73ed1",
   "metadata": {},
   "source": [
    "#### 1.2. Проверка пропусков в данных"
   ]
  },
  {
   "cell_type": "code",
   "execution_count": 123,
   "id": "1fc7465f-340e-4de9-b9f4-89d2c3c05dc9",
   "metadata": {},
   "outputs": [
    {
     "name": "stdout",
     "output_type": "stream",
     "text": [
      "909\n"
     ]
    }
   ],
   "source": [
    "print(data['tenure'].isna().sum())\n",
    "data=data.dropna()\n",
    "data['tenure']=data['tenure'].astype('int64')"
   ]
  },
  {
   "cell_type": "markdown",
   "id": "689af819-244b-4ce4-a562-1b639ef7a191",
   "metadata": {},
   "source": [
    "В столбце **tenure**  909 объектов являются пропусками, данные в нем после их обработки можно преобразовать тип в **int**, т.к. дробных значений в этом признаке нет. Пропущенные значения удалим."
   ]
  },
  {
   "cell_type": "markdown",
   "id": "0c91fbb0-700b-4637-a616-f1ad43e621e7",
   "metadata": {},
   "source": [
    "#### 1.3. Проверка наличия дубликатов"
   ]
  },
  {
   "cell_type": "code",
   "execution_count": 124,
   "id": "1d3dbd65-9124-464a-8297-d5dfac53effb",
   "metadata": {},
   "outputs": [
    {
     "data": {
      "text/plain": [
       "0"
      ]
     },
     "execution_count": 124,
     "metadata": {},
     "output_type": "execute_result"
    }
   ],
   "source": [
    "data.duplicated().sum()"
   ]
  },
  {
   "cell_type": "markdown",
   "id": "99ced05b-f4a1-4e73-b076-d23a699de231",
   "metadata": {},
   "source": [
    "Явных дубликатов в данных нет, а неявные мы рассматривать не будем, т.к. из данных будут удалены номинальные признаки."
   ]
  },
  {
   "cell_type": "markdown",
   "id": "9fc2b8ab-8a65-4708-a185-53cb36eafbf2",
   "metadata": {},
   "source": [
    "#### 1.4. Проверка наличия выбросов"
   ]
  },
  {
   "cell_type": "code",
   "execution_count": 125,
   "id": "215de1ce-0dc0-421c-8836-757801d20b46",
   "metadata": {},
   "outputs": [
    {
     "data": {
      "image/png": "[encoded data removed]",
      "text/plain": [
       "<Figure size 1440x720 with 12 Axes>"
      ]
     },
     "metadata": {
      "needs_background": "light"
     },
     "output_type": "display_data"
    }
   ],
   "source": [
    "fig, axes = plt.subplots(3, 4, sharex=True, figsize=(20,10))\n",
    "fig.suptitle('Features boxplots')\n",
    "i=0\n",
    "j=0\n",
    "for x in data.columns:\n",
    "    if data[x].dtype in ['float64', 'int64']:\n",
    "        sns.boxplot(ax=axes[i][j],data = data[x]).set( xlabel = x, ylabel = 'values', xlim=(-2, 2))\n",
    "        j+=1\n",
    "        if j==4:\n",
    "            i+=1\n",
    "            j=0\n",
    "        if i==3:\n",
    "            break\n",
    "plt.show()"
   ]
  },
  {
   "cell_type": "markdown",
   "id": "5fbd3d76-67f0-4022-bde0-542565dec931",
   "metadata": {},
   "source": [
    "Видим, что в значениях **credit_score, age, num_of_products** присутствуют выбросы, которые предстоит обработать. А также видно, что пресказываемый признак **exited** несбалансированный (объектов класса 0 значительно больше, чем объектов класса 1)\n",
    "\n",
    "Природа выбросов такова, что это скорее просто редкие значения, а не какие-то аномалии. "
   ]
  },
  {
   "cell_type": "markdown",
   "id": "cd26e414-5d77-4d11-8479-3e67828c2100",
   "metadata": {},
   "source": [
    "#### 1.5. Проверка мультиколлинеарности в признаках"
   ]
  },
  {
   "cell_type": "code",
   "execution_count": 126,
   "id": "1b6b2be8-1d7a-48c2-a3d9-e4fdee64b5eb",
   "metadata": {},
   "outputs": [],
   "source": [
    "sns.pairplot(data)\n",
    "plt.show()"
   ]
  },
  {
   "cell_type": "markdown",
   "id": "9b4aa779-ea13-46fa-8e32-603b12408e61",
   "metadata": {},
   "source": [
    "Построим матрицу попарно корреляции признаков, чтобы проверить, нет ли мультиколлинеарности в них.\n",
    "По итогу рассмотрения можно видеть, что прямой корреляции в признаках не наблюдается, что означает, что ни один из признаков не является линейной комбинацией других."
   ]
  },
  {
   "cell_type": "markdown",
   "id": "5b1c02d5-2680-4aad-a69b-c34fdcd22ce7",
   "metadata": {},
   "source": [
    "#### 1.6. Удаление избыточных признаков"
   ]
  },
  {
   "cell_type": "code",
   "execution_count": 127,
   "id": "7bfd64dc-342d-4bf8-b245-dfae8458defc",
   "metadata": {},
   "outputs": [
    {
     "data": {
      "text/html": [
       "<div>\n",
       "<style scoped>\n",
       "    .dataframe tbody tr th:only-of-type {\n",
       "        vertical-align: middle;\n",
       "    }\n",
       "\n",
       "    .dataframe tbody tr th {\n",
       "        vertical-align: top;\n",
       "    }\n",
       "\n",
       "    .dataframe thead th {\n",
       "        text-align: right;\n",
       "    }\n",
       "</style>\n",
       "<table border=\"1\" class=\"dataframe\">\n",
       "  <thead>\n",
       "    <tr style=\"text-align: right;\">\n",
       "      <th></th>\n",
       "      <th>credit_score</th>\n",
       "      <th>geography</th>\n",
       "      <th>gender</th>\n",
       "      <th>age</th>\n",
       "      <th>tenure</th>\n",
       "      <th>balance</th>\n",
       "      <th>num_of_products</th>\n",
       "      <th>has_cr_card</th>\n",
       "      <th>is_active_member</th>\n",
       "      <th>estimated_salary</th>\n",
       "      <th>exited</th>\n",
       "    </tr>\n",
       "  </thead>\n",
       "  <tbody>\n",
       "    <tr>\n",
       "      <th>0</th>\n",
       "      <td>619</td>\n",
       "      <td>france</td>\n",
       "      <td>female</td>\n",
       "      <td>42</td>\n",
       "      <td>2</td>\n",
       "      <td>0.00</td>\n",
       "      <td>1</td>\n",
       "      <td>1</td>\n",
       "      <td>1</td>\n",
       "      <td>101348.88</td>\n",
       "      <td>1</td>\n",
       "    </tr>\n",
       "    <tr>\n",
       "      <th>1</th>\n",
       "      <td>608</td>\n",
       "      <td>spain</td>\n",
       "      <td>female</td>\n",
       "      <td>41</td>\n",
       "      <td>1</td>\n",
       "      <td>83807.86</td>\n",
       "      <td>1</td>\n",
       "      <td>0</td>\n",
       "      <td>1</td>\n",
       "      <td>112542.58</td>\n",
       "      <td>0</td>\n",
       "    </tr>\n",
       "    <tr>\n",
       "      <th>2</th>\n",
       "      <td>502</td>\n",
       "      <td>france</td>\n",
       "      <td>female</td>\n",
       "      <td>42</td>\n",
       "      <td>8</td>\n",
       "      <td>159660.80</td>\n",
       "      <td>3</td>\n",
       "      <td>1</td>\n",
       "      <td>0</td>\n",
       "      <td>113931.57</td>\n",
       "      <td>1</td>\n",
       "    </tr>\n",
       "    <tr>\n",
       "      <th>3</th>\n",
       "      <td>699</td>\n",
       "      <td>france</td>\n",
       "      <td>female</td>\n",
       "      <td>39</td>\n",
       "      <td>1</td>\n",
       "      <td>0.00</td>\n",
       "      <td>2</td>\n",
       "      <td>0</td>\n",
       "      <td>0</td>\n",
       "      <td>93826.63</td>\n",
       "      <td>0</td>\n",
       "    </tr>\n",
       "    <tr>\n",
       "      <th>4</th>\n",
       "      <td>850</td>\n",
       "      <td>spain</td>\n",
       "      <td>female</td>\n",
       "      <td>43</td>\n",
       "      <td>2</td>\n",
       "      <td>125510.82</td>\n",
       "      <td>1</td>\n",
       "      <td>1</td>\n",
       "      <td>1</td>\n",
       "      <td>79084.10</td>\n",
       "      <td>0</td>\n",
       "    </tr>\n",
       "  </tbody>\n",
       "</table>\n",
       "</div>"
      ],
      "text/plain": [
       "   credit_score geography  gender  age  tenure    balance  num_of_products  \\\n",
       "0           619    france  female   42       2       0.00                1   \n",
       "1           608     spain  female   41       1   83807.86                1   \n",
       "2           502    france  female   42       8  159660.80                3   \n",
       "3           699    france  female   39       1       0.00                2   \n",
       "4           850     spain  female   43       2  125510.82                1   \n",
       "\n",
       "   has_cr_card  is_active_member  estimated_salary  exited  \n",
       "0            1                 1         101348.88       1  \n",
       "1            0                 1         112542.58       0  \n",
       "2            1                 0         113931.57       1  \n",
       "3            0                 0          93826.63       0  \n",
       "4            1                 1          79084.10       0  "
      ]
     },
     "execution_count": 127,
     "metadata": {},
     "output_type": "execute_result"
    }
   ],
   "source": [
    "data=data.drop(columns=['row_number','customer_id','surname'])\n",
    "data.head()"
   ]
  },
  {
   "cell_type": "markdown",
   "id": "86824b8b-eba4-46b1-a663-3ba0c85c2a4f",
   "metadata": {},
   "source": [
    "Можно предположить, что столбцы **surname** и **customer_id** нет необходимости рассматривать в данной работе, как номинальные признаки они не несут большого веса в данном случае. Столбец **row_number** избыточный-его можно удалить."
   ]
  },
  {
   "cell_type": "markdown",
   "id": "d2347f1c-2bda-4929-9cf4-5cb6597a7580",
   "metadata": {},
   "source": [
    "#### 1.7. Кодирование признаков"
   ]
  },
  {
   "cell_type": "code",
   "execution_count": 128,
   "id": "785359f3-6db9-4415-9006-593e1b744c87",
   "metadata": {},
   "outputs": [
    {
     "data": {
      "text/html": [
       "<div>\n",
       "<style scoped>\n",
       "    .dataframe tbody tr th:only-of-type {\n",
       "        vertical-align: middle;\n",
       "    }\n",
       "\n",
       "    .dataframe tbody tr th {\n",
       "        vertical-align: top;\n",
       "    }\n",
       "\n",
       "    .dataframe thead th {\n",
       "        text-align: right;\n",
       "    }\n",
       "</style>\n",
       "<table border=\"1\" class=\"dataframe\">\n",
       "  <thead>\n",
       "    <tr style=\"text-align: right;\">\n",
       "      <th></th>\n",
       "      <th>credit_score</th>\n",
       "      <th>age</th>\n",
       "      <th>tenure</th>\n",
       "      <th>balance</th>\n",
       "      <th>num_of_products</th>\n",
       "      <th>has_cr_card</th>\n",
       "      <th>is_active_member</th>\n",
       "      <th>estimated_salary</th>\n",
       "      <th>exited</th>\n",
       "      <th>geography_france</th>\n",
       "      <th>geography_germany</th>\n",
       "      <th>geography_spain</th>\n",
       "      <th>gender_female</th>\n",
       "      <th>gender_male</th>\n",
       "    </tr>\n",
       "  </thead>\n",
       "  <tbody>\n",
       "    <tr>\n",
       "      <th>0</th>\n",
       "      <td>619</td>\n",
       "      <td>42</td>\n",
       "      <td>2</td>\n",
       "      <td>0.00</td>\n",
       "      <td>1</td>\n",
       "      <td>1</td>\n",
       "      <td>1</td>\n",
       "      <td>101348.88</td>\n",
       "      <td>1</td>\n",
       "      <td>1</td>\n",
       "      <td>0</td>\n",
       "      <td>0</td>\n",
       "      <td>1</td>\n",
       "      <td>0</td>\n",
       "    </tr>\n",
       "    <tr>\n",
       "      <th>1</th>\n",
       "      <td>608</td>\n",
       "      <td>41</td>\n",
       "      <td>1</td>\n",
       "      <td>83807.86</td>\n",
       "      <td>1</td>\n",
       "      <td>0</td>\n",
       "      <td>1</td>\n",
       "      <td>112542.58</td>\n",
       "      <td>0</td>\n",
       "      <td>0</td>\n",
       "      <td>0</td>\n",
       "      <td>1</td>\n",
       "      <td>1</td>\n",
       "      <td>0</td>\n",
       "    </tr>\n",
       "    <tr>\n",
       "      <th>2</th>\n",
       "      <td>502</td>\n",
       "      <td>42</td>\n",
       "      <td>8</td>\n",
       "      <td>159660.80</td>\n",
       "      <td>3</td>\n",
       "      <td>1</td>\n",
       "      <td>0</td>\n",
       "      <td>113931.57</td>\n",
       "      <td>1</td>\n",
       "      <td>1</td>\n",
       "      <td>0</td>\n",
       "      <td>0</td>\n",
       "      <td>1</td>\n",
       "      <td>0</td>\n",
       "    </tr>\n",
       "    <tr>\n",
       "      <th>3</th>\n",
       "      <td>699</td>\n",
       "      <td>39</td>\n",
       "      <td>1</td>\n",
       "      <td>0.00</td>\n",
       "      <td>2</td>\n",
       "      <td>0</td>\n",
       "      <td>0</td>\n",
       "      <td>93826.63</td>\n",
       "      <td>0</td>\n",
       "      <td>1</td>\n",
       "      <td>0</td>\n",
       "      <td>0</td>\n",
       "      <td>1</td>\n",
       "      <td>0</td>\n",
       "    </tr>\n",
       "    <tr>\n",
       "      <th>4</th>\n",
       "      <td>850</td>\n",
       "      <td>43</td>\n",
       "      <td>2</td>\n",
       "      <td>125510.82</td>\n",
       "      <td>1</td>\n",
       "      <td>1</td>\n",
       "      <td>1</td>\n",
       "      <td>79084.10</td>\n",
       "      <td>0</td>\n",
       "      <td>0</td>\n",
       "      <td>0</td>\n",
       "      <td>1</td>\n",
       "      <td>1</td>\n",
       "      <td>0</td>\n",
       "    </tr>\n",
       "  </tbody>\n",
       "</table>\n",
       "</div>"
      ],
      "text/plain": [
       "   credit_score  age  tenure    balance  num_of_products  has_cr_card  \\\n",
       "0           619   42       2       0.00                1            1   \n",
       "1           608   41       1   83807.86                1            0   \n",
       "2           502   42       8  159660.80                3            1   \n",
       "3           699   39       1       0.00                2            0   \n",
       "4           850   43       2  125510.82                1            1   \n",
       "\n",
       "   is_active_member  estimated_salary  exited  geography_france  \\\n",
       "0                 1         101348.88       1                 1   \n",
       "1                 1         112542.58       0                 0   \n",
       "2                 0         113931.57       1                 1   \n",
       "3                 0          93826.63       0                 1   \n",
       "4                 1          79084.10       0                 0   \n",
       "\n",
       "   geography_germany  geography_spain  gender_female  gender_male  \n",
       "0                  0                0              1            0  \n",
       "1                  0                1              1            0  \n",
       "2                  0                0              1            0  \n",
       "3                  0                0              1            0  \n",
       "4                  0                1              1            0  "
      ]
     },
     "execution_count": 128,
     "metadata": {},
     "output_type": "execute_result"
    }
   ],
   "source": [
    "data=pd.get_dummies(data, columns=['geography','gender'], drop_first=False)\n",
    "data.head()"
   ]
  },
  {
   "cell_type": "markdown",
   "id": "8156f586-37b4-47fb-87e5-a07700503bba",
   "metadata": {},
   "source": [
    "Столбцы **geography** и **gender** были обработаны OHE-кодировщиком, для удобства работы модели с данными.\n"
   ]
  },
  {
   "cell_type": "markdown",
   "id": "1ac18b9e-2738-4faa-87a1-513c531b2c0c",
   "metadata": {},
   "source": [
    "<div style=\"border:solid #4F6272 1px; padding: 4px\">\n",
    "По итогу раздела был осуществлен обзор датафрейма, найденные пропуски удалены, произведена проверка на наличие дубликатов, произведена проверка наличия выбросов, признаки проверены на мультиколлинеарность, удалены незначимые признаки,а категориальные признаки закодированы."
   ]
  },
  {
   "cell_type": "markdown",
   "id": "e94fbfd7-f4b0-433d-947a-940a1f3eca45",
   "metadata": {},
   "source": [
    "### 2. Исследование баланса классов, обучение модели без учёта дисбаланса."
   ]
  },
  {
   "cell_type": "markdown",
   "id": "e02b31b6-517a-4e7c-81f6-22d4d5720c32",
   "metadata": {},
   "source": [
    "#### 2.1. Разделение на тренировочную, тестовую и валидационную выборки"
   ]
  },
  {
   "cell_type": "markdown",
   "id": "fec677b6-1eb0-479e-a929-53f1fd8c8895",
   "metadata": {},
   "source": [
    "Для основного массива данных"
   ]
  },
  {
   "cell_type": "code",
   "execution_count": 129,
   "id": "ab603f71-ef7d-4164-b3fd-f5e3fda4fb7d",
   "metadata": {},
   "outputs": [
    {
     "name": "stdout",
     "output_type": "stream",
     "text": [
      "Размеры тренировочной, валидационной,тестовой выборок:\n",
      "(5672, 13) (1600, 13) (1819, 13)\n"
     ]
    }
   ],
   "source": [
    "features=data.drop(columns=['exited'])\n",
    "target=data['exited']\n",
    "train_features,test_features,train_target,test_target = train_test_split(features,target, test_size=0.2, random_state=12345)\n",
    "train_features,valid_features,train_target,valid_target = train_test_split(train_features,train_target, test_size=0.22, random_state=12345)\n",
    "\n",
    "print(\"Размеры тренировочной, валидационной,тестовой выборок:\")\n",
    "print(train_features.shape,valid_features.shape,test_features.shape)"
   ]
  },
  {
   "cell_type": "markdown",
   "id": "eaa6c979-a56b-4083-bb61-716aba0d5c06",
   "metadata": {},
   "source": [
    "#### 2.2. Маштабирование признаков"
   ]
  },
  {
   "cell_type": "code",
   "execution_count": 130,
   "id": "f5b84577-6435-46f4-9e4f-9a904ef27f6d",
   "metadata": {},
   "outputs": [
    {
     "name": "stdout",
     "output_type": "stream",
     "text": [
      "(5672, 13)\n",
      "(5672,)\n"
     ]
    }
   ],
   "source": [
    "scaler = StandardScaler()\n",
    "scaler.fit(train_features) \n",
    "\n",
    "train_features = scaler.transform(train_features)\n",
    "valid_features = scaler.transform(valid_features)\n",
    "\n",
    "print(train_features.shape)\n",
    "print(train_target.shape)\n",
    "pd.options.mode.chained_assignment = None"
   ]
  },
  {
   "cell_type": "markdown",
   "id": "4c9b6aae-00a8-4cae-9387-1daafb0f06b7",
   "metadata": {},
   "source": [
    "#### 2.3. Применение модели и проверка качества без учета дисбаланса классов"
   ]
  },
  {
   "cell_type": "code",
   "execution_count": 131,
   "id": "380532e5-9d90-4846-a3b1-cd3a36413424",
   "metadata": {},
   "outputs": [],
   "source": [
    "result_dict={'models':['LogisticRegression_voice','LogisticRegression_ups','DesigionTree_ups','RandomForest_ups','LogisticRegression_voice_b','DesigionTree_voice_b','RandomForest_voice_b'],\n",
    "             'f1_score':[],\n",
    "             'auc_roc':[]}\n",
    "\n",
    "def update_results(s,a):\n",
    "    result_dict['f1_score'].append(s)\n",
    "    result_dict['auc_roc'].append(a)\n",
    "    "
   ]
  },
  {
   "cell_type": "markdown",
   "id": "378af9aa-17d5-424a-af67-b286076324eb",
   "metadata": {},
   "source": [
    "#### 2.3.1 Логистическая регрессия"
   ]
  },
  {
   "cell_type": "code",
   "execution_count": 132,
   "id": "31ca698c-321c-4de5-9d5c-71531d898daf",
   "metadata": {},
   "outputs": [
    {
     "name": "stdout",
     "output_type": "stream",
     "text": [
      "f1 score: 0.29268292682926833\n",
      "AUC-ROC score: 0.7767583404500807\n"
     ]
    }
   ],
   "source": [
    "model_1=LogisticRegression(random_state=12345,solver='liblinear')\n",
    "model_1.fit(train_features,train_target)\n",
    "\n",
    "valid_predictions_1=model_1.predict(valid_features)\n",
    "score_1=f1_score(valid_target,valid_predictions_1)\n",
    "auc_roc_1=roc_auc_score(valid_target,model_1.predict_proba(valid_features)[:, 1])\n",
    "\n",
    "update_results(score_1,auc_roc_1)\n",
    "\n",
    "print('f1 score:',score_1)\n",
    "print('AUC-ROC score:',auc_roc_1)"
   ]
  },
  {
   "cell_type": "markdown",
   "id": "a23be72a-c64a-474f-8503-0b2d81ce7cb5",
   "metadata": {},
   "source": [
    "#### 2.3.2 Случайная модель"
   ]
  },
  {
   "cell_type": "code",
   "execution_count": 133,
   "id": "2a29231c-0ef8-45a6-8045-8e15414b7886",
   "metadata": {},
   "outputs": [
    {
     "name": "stdout",
     "output_type": "stream",
     "text": [
      "f1 score: 0.3219716832721552\n",
      "AUC-ROC score: 0.7767583404500807\n"
     ]
    }
   ],
   "source": [
    "model_2 = DummyClassifier(random_state=12345,constant=1,strategy='constant')\n",
    "model_2.fit(train_features, train_target)\n",
    "valid_predictions_2=model_2.predict(valid_features)\n",
    "score_2=f1_score(valid_target,valid_predictions_2)\n",
    "auc_roc_2=roc_auc_score(valid_target,model_2.predict_proba(valid_features)[:, 1])\n",
    "\n",
    "print('f1 score:',score_2)\n",
    "print('AUC-ROC score:',auc_roc_1)"
   ]
  },
  {
   "cell_type": "code",
   "execution_count": 134,
   "id": "c0fa80e7-0c09-48e5-824c-53a0ec23e4e5",
   "metadata": {},
   "outputs": [
    {
     "data": {
      "image/png": "[encoded data removed]",
      "text/plain": [
       "<Figure size 1080x360 with 4 Axes>"
      ]
     },
     "metadata": {
      "needs_background": "light"
     },
     "output_type": "display_data"
    }
   ],
   "source": [
    "fig, axes = plt.subplots(1, 2, figsize=(15,5))\n",
    "axes[0].title.set_text('Confusion matrix of LogisticRegression')\n",
    "axes[1].title.set_text('Confusion matrix of DummyClassifier')\n",
    "plot_confusion_matrix(ax=axes[0], estimator=model_1, X=valid_features, y_true=valid_target, normalize='true', cmap='BuPu')\n",
    "plot_confusion_matrix(ax=axes[1], estimator=model_2, X=valid_features, y_true=valid_target, normalize='true', cmap='BuPu')\n",
    "plt.show()"
   ]
  },
  {
   "cell_type": "markdown",
   "id": "1bd76b4f-5f22-4889-b16f-c6aabf03352f",
   "metadata": {},
   "source": [
    "#### 2.3.3 Персептрон с использованием кросс-валидации"
   ]
  },
  {
   "cell_type": "code",
   "execution_count": 135,
   "id": "1f5f7f43-9123-490f-9ab2-176d67cb9069",
   "metadata": {},
   "outputs": [
    {
     "name": "stdout",
     "output_type": "stream",
     "text": [
      "mean f1 score: 0.33683638974601837\n"
     ]
    }
   ],
   "source": [
    "perc_model = Perceptron(tol=1e-3, random_state=12345)\n",
    "scores=[]\n",
    "skf = StratifiedKFold(n_splits=5)\n",
    "reshaped_train_target=np.array(train_target).reshape(-1,1)\n",
    "for train_index, test_index in skf.split(train_features, train_target):\n",
    "    train_f, test_f = train_features[train_index], train_features[test_index]\n",
    "    train_t, test_t = reshaped_train_target[train_index], reshaped_train_target[test_index]\n",
    "    perc_model.fit(train_f, train_t)\n",
    "    test_predictions=perc_model.predict(test_f)\n",
    "    score=f1_score(test_t,test_predictions)\n",
    "    scores.append(score)\n",
    "    \n",
    "print('mean f1 score:', np.mean(scores))\n"
   ]
  },
  {
   "cell_type": "markdown",
   "id": "294bd49a-5151-4513-9633-e890053a0b42",
   "metadata": {},
   "source": [
    "#### 2.3.4 Дисбаланс классов"
   ]
  },
  {
   "cell_type": "markdown",
   "id": "e2119ab8-742c-4240-b130-4111c7da8c3b",
   "metadata": {},
   "source": [
    "Отобразим дисбаланс классов в зашумленных данных"
   ]
  },
  {
   "cell_type": "code",
   "execution_count": 136,
   "id": "f2e1ffdb-16fa-4c5d-b748-6dfb8e2ee0a4",
   "metadata": {},
   "outputs": [
    {
     "data": {
      "image/png": "[encoded data removed]",
      "text/plain": [
       "<Figure size 360x216 with 1 Axes>"
      ]
     },
     "metadata": {
      "needs_background": "light"
     },
     "output_type": "display_data"
    }
   ],
   "source": [
    "fig, axes = plt.subplots(1, 1, figsize=(5,3))\n",
    "axes.title.set_text('Class balance')\n",
    "target.plot.hist(ax=axes)\n",
    "plt.show()"
   ]
  },
  {
   "cell_type": "markdown",
   "id": "8f9f3f2d-ead9-4ef2-b002-f884b482ca07",
   "metadata": {},
   "source": [
    "<div style=\"border:solid #4F6272 1px; padding: 4px\">\n",
    "    \n",
    "В сравнении со случайной моделью рассмотренная модель имеет **f1_score** на 0.12 выше. Однако дисбаланс классов приводит к тому, что объекты 0 класса классифицируются верно в **96%** случаев, а для класса 1 только в **22%**. Также можем видеть, что модель, обученная на данных без выбросов выдает аналогичные показатели метрик f1 и AUC-ROC.\n",
    "\n",
    "Объектов 0 класса примерно **в 4 раза больше**, чем первого. Чтобы улучшить качество модели необходимо устранить дисбаланс классов.\n",
    "\n"
   ]
  },
  {
   "cell_type": "markdown",
   "id": "2274d16d-090a-4ed0-9aea-04e04108dfcb",
   "metadata": {},
   "source": [
    "### 3. Улучшение качества модели, учитывая дисбаланс классов. Обучение разных моделей и поиск лучшей."
   ]
  },
  {
   "cell_type": "markdown",
   "id": "ebb1fa9b-e7de-4c0f-b955-305bb0887bd3",
   "metadata": {},
   "source": [
    "#### 3.1. Устранение дисбаланса классов методом Upsample"
   ]
  },
  {
   "cell_type": "code",
   "execution_count": 137,
   "id": "b20454f9-4166-443f-9a59-9e44d484d909",
   "metadata": {},
   "outputs": [],
   "source": [
    "def upsample(features, target, repeat):\n",
    "    features_zeros = features[target == 0]\n",
    "    features_ones = features[target == 1]\n",
    "    target_zeros = target[target == 0]\n",
    "    target_ones = target[target == 1]\n",
    "\n",
    "    features_upsampled = np.concatenate([features_zeros] + [features_ones] * repeat)\n",
    "    target_upsampled = np.concatenate([target_zeros] + [target_ones] * repeat)\n",
    "    \n",
    "    features_upsampled, target_upsampled = shuffle(\n",
    "        features_upsampled, target_upsampled, random_state=12345)\n",
    "    \n",
    "    return features_upsampled, target_upsampled\n",
    "\n",
    "features_upsampled, target_upsampled = upsample(train_features, train_target, 4)"
   ]
  },
  {
   "cell_type": "markdown",
   "id": "1cbf794b-9dcb-4b1e-8022-7858f8ffde79",
   "metadata": {},
   "source": [
    "##### 3.1.1 Модель логистической регрессии"
   ]
  },
  {
   "cell_type": "code",
   "execution_count": 138,
   "id": "bac77806-6c06-4cb5-b21f-6e807b2689ae",
   "metadata": {},
   "outputs": [],
   "source": [
    "def apply_model(model,train_f,train_t,valid_f,valid_t):\n",
    "    model.fit(train_f,train_t)\n",
    "    valid_p=model.predict(valid_f)\n",
    "    score=f1_score(valid_t,valid_p)\n",
    "    auc_roc=roc_auc_score(valid_t,model.predict_proba(valid_f)[:, 1])\n",
    "    print('f1 score:',score)\n",
    "    print('AUC-ROC score:',auc_roc)\n",
    "    return (score, auc_roc)"
   ]
  },
  {
   "cell_type": "code",
   "execution_count": 139,
   "id": "60f2190a-dbae-44cc-915a-b231aa699118",
   "metadata": {},
   "outputs": [
    {
     "name": "stdout",
     "output_type": "stream",
     "text": [
      "f1 score: 0.4875283446712018\n",
      "AUC-ROC score: 0.778315207670468\n"
     ]
    }
   ],
   "source": [
    "model=LogisticRegression(solver='liblinear',random_state=12345)\n",
    "scores, auc_rocs = apply_model(model,features_upsampled, target_upsampled,valid_features,valid_target)\n",
    "\n",
    "update_results(scores, auc_rocs)"
   ]
  },
  {
   "cell_type": "markdown",
   "id": "82f0350e-ecea-4c79-89b6-f4f5055667ae",
   "metadata": {},
   "source": [
    "Видим, что после **upsample** значение метрики f1 на валидационном множестве выросло на 0.12, что является показателем улучшения качества классификации."
   ]
  },
  {
   "cell_type": "markdown",
   "id": "36f33309-6142-437e-ad38-ed2368c8505f",
   "metadata": {},
   "source": [
    "##### 3.1.2. Модель дерева решений и случайного леса"
   ]
  },
  {
   "cell_type": "code",
   "execution_count": 140,
   "id": "cf7ded8e-52df-4685-94a0-1d59bb652df9",
   "metadata": {},
   "outputs": [],
   "source": [
    "models={'decisiontreeclassifier': DecisionTreeClassifier(),'randomforestclassifier': RandomForestClassifier(random_state=12345)}\n",
    "\n",
    "grid = [{'max_depth': range(1,10)},{'n_estimators': range (10, 51, 10),\n",
    "              'max_depth': range (1,21, 2),'min_samples_leaf': range (1,4),'min_samples_split':range(2,5,2)}]\n",
    "\n",
    "scorers={\n",
    "    'f1_score': make_scorer(f1_score),\n",
    "    'auc_roc_score': make_scorer(roc_auc_score),\n",
    "}\n",
    "\n",
    "kf = KFold(n_splits=5, random_state=12345, shuffle=True)\n"
   ]
  },
  {
   "cell_type": "code",
   "execution_count": 141,
   "id": "ddf02245-582b-42a0-a7fb-e19ed4525df7",
   "metadata": {},
   "outputs": [],
   "source": [
    "def apply_gridsearch(models,grid,train_f,train_t,valid_f,valid_t):\n",
    "    best_params=[]\n",
    "    scores=[]\n",
    "    auc_rocs=[]\n",
    "    i=0\n",
    "    for k in models.keys(): \n",
    "        imba_pipeline = make_pipeline(SMOTE(random_state=12345), models[k])\n",
    "        new_params = {k + '__' + key: grid[i][key] for key in grid[i]}\n",
    "        \n",
    "        grid_imba = GridSearchCV(imba_pipeline, param_grid=new_params, cv=kf, scoring='f1')\n",
    "        grid_imba.fit(train_f, train_t)\n",
    "        \n",
    "        print(\"\\nbest model:\",grid_imba.best_estimator_)\n",
    "        valid_p = grid_imba.best_estimator_.named_steps[k].predict(valid_f)\n",
    "        score = f1_score(valid_t,valid_p)\n",
    "        auc_roc = roc_auc_score(valid_t,grid_imba.best_estimator_.predict_proba(valid_f)[:, 1])\n",
    "        \n",
    "        print(\"valid f1 score:\",score)\n",
    "        print('valid AUC-ROC score:',auc_roc)\n",
    "        best_params.append(grid_imba.best_params_)\n",
    "        scores.append(score)\n",
    "        auc_rocs.append(auc_roc)\n",
    "        i+=1\n",
    "    \n",
    "    return (best_params, scores, auc_rocs)\n",
    "\n"
   ]
  },
  {
   "cell_type": "code",
   "execution_count": 142,
   "id": "ec9709eb-40fe-4b07-9ffd-9768f0d5b089",
   "metadata": {},
   "outputs": [
    {
     "name": "stdout",
     "output_type": "stream",
     "text": [
      "\n",
      "best model: Pipeline(steps=[('smote', SMOTE(random_state=12345)),\n",
      "                ('decisiontreeclassifier',\n",
      "                 DecisionTreeClassifier(max_depth=6))])\n",
      "valid f1 score: 0.5584045584045584\n",
      "valid AUC-ROC score: 0.8169093918392949\n",
      "\n",
      "best model: Pipeline(steps=[('smote', SMOTE(random_state=12345)),\n",
      "                ('randomforestclassifier',\n",
      "                 RandomForestClassifier(max_depth=11, min_samples_leaf=3,\n",
      "                                        n_estimators=40, random_state=12345))])\n",
      "valid f1 score: 0.6032689450222882\n",
      "valid AUC-ROC score: 0.8534630218843131\n"
     ]
    }
   ],
   "source": [
    "best_params, scores, auc_rocs = apply_gridsearch(models, grid, train_features, train_target, valid_features, valid_target)\n",
    "\n",
    "for i in range(len(scores)):\n",
    "    update_results(scores[i], auc_rocs[i])"
   ]
  },
  {
   "cell_type": "code",
   "execution_count": 143,
   "id": "7cb968f6-1f0e-4d10-812d-a5b9d2eaedc5",
   "metadata": {},
   "outputs": [
    {
     "name": "stdout",
     "output_type": "stream",
     "text": [
      "{'randomforestclassifier__max_depth': 11, 'randomforestclassifier__min_samples_leaf': 3, 'randomforestclassifier__min_samples_split': 2, 'randomforestclassifier__n_estimators': 40}\n"
     ]
    }
   ],
   "source": [
    "print(best_params[1])"
   ]
  },
  {
   "cell_type": "markdown",
   "id": "a4f667fe-29f0-4a7e-a78c-1e2ff0923212",
   "metadata": {},
   "source": [
    "Подбор гиперпараметров по сетке показал, что лучшая модель после техники **upsample** - это модель **случайного леса** с параметрами: \n",
    "* max_depth=11, \n",
    "* n_estimators=40,\n",
    "* min_samples_split=2\n",
    "* min_samples_leaf=3\n"
   ]
  },
  {
   "cell_type": "markdown",
   "id": "8d817f9d-c563-4801-a2ed-9c3d5a55a89b",
   "metadata": {},
   "source": [
    "#### 3.2. Устранение дисбаланса классов при помощи взвешивания"
   ]
  },
  {
   "cell_type": "markdown",
   "id": "a14e746b-72e6-44b5-b82f-6808a95b8a99",
   "metadata": {},
   "source": [
    "##### 3.2.1 Модель логистической регрессии"
   ]
  },
  {
   "cell_type": "code",
   "execution_count": 144,
   "id": "37219934-2eba-4750-a336-8ac268cde52b",
   "metadata": {},
   "outputs": [
    {
     "name": "stdout",
     "output_type": "stream",
     "text": [
      "f1 score: 0.49365628604382933\n",
      "AUC-ROC score: 0.7782774196311384\n"
     ]
    }
   ],
   "source": [
    "model=LogisticRegression(random_state=12345,solver='liblinear',class_weight='balanced')\n",
    "scores, auc_rocs = apply_model(model,train_features,train_target,valid_features,valid_target)\n",
    "\n",
    "update_results(scores, auc_rocs)"
   ]
  },
  {
   "cell_type": "markdown",
   "id": "67955bee-f8c2-4b98-b1da-3e727038efb5",
   "metadata": {},
   "source": [
    "##### 3.2.1 Модель дерева решений и случайного леса"
   ]
  },
  {
   "cell_type": "code",
   "execution_count": 145,
   "id": "68fe7b92-9d9f-4232-90bc-57616fabccc4",
   "metadata": {},
   "outputs": [],
   "source": [
    "grid = [{'criterion': ['gini', 'entropy'], 'max_depth': range(1,10)},{'n_estimators': range (10, 51, 10),\n",
    "              'max_depth': range (1,21),'min_samples_leaf': range (1,5),'min_samples_split':range(2,10,2)}]\n",
    "\n",
    "models = [DecisionTreeClassifier(class_weight='balanced'),RandomForestClassifier(random_state=12345, class_weight='balanced')]"
   ]
  },
  {
   "cell_type": "code",
   "execution_count": 146,
   "id": "97578d9b-71f9-4065-babe-3c7736c6dfd2",
   "metadata": {},
   "outputs": [],
   "source": [
    "def apply_gridsearch_cv(models,grid,train_f,train_t,valid_f,valid_t):\n",
    "    best_params=[]\n",
    "    scores=[]\n",
    "    auc_rocs=[]\n",
    "    cross_val = StratifiedShuffleSplit(n_splits=5, random_state=12345)\n",
    "    for i in range(len(models)):    \n",
    "        grid_cv = GridSearchCV(estimator=models[i], param_grid = grid[i], scoring = 'f1', cv = cross_val, n_jobs=-1,refit=True)\n",
    "        grid_cv.fit(train_f, train_t)\n",
    "        print(\"best model:\",grid_cv.best_estimator_)\n",
    "        valid_p = grid_cv.best_estimator_.predict(valid_f)\n",
    "        score = f1_score(valid_t,valid_p)\n",
    "        auc_roc = roc_auc_score(valid_t,grid_cv.best_estimator_.predict_proba(valid_f)[:, 1])\n",
    "        print(\"valid f1 score:\",score)\n",
    "        print('valid AUC-ROC score:',auc_roc)\n",
    "        print(\"\\n\")\n",
    "        best_params.append(grid_cv.best_params_)\n",
    "        scores.append(score)\n",
    "        auc_rocs.append(auc_roc)\n",
    "        \n",
    "    return (best_params, scores, auc_rocs)"
   ]
  },
  {
   "cell_type": "code",
   "execution_count": 147,
   "id": "dca0ec94-e2ed-4a34-97dc-6bb2a995381a",
   "metadata": {},
   "outputs": [
    {
     "name": "stdout",
     "output_type": "stream",
     "text": [
      "best model: DecisionTreeClassifier(class_weight='balanced', criterion='entropy',\n",
      "                       max_depth=7)\n",
      "valid f1 score: 0.5416666666666666\n",
      "valid AUC-ROC score: 0.8175442309000357\n",
      "\n",
      "\n",
      "best model: RandomForestClassifier(class_weight='balanced', max_depth=10,\n",
      "                       min_samples_leaf=4, min_samples_split=6, n_estimators=50,\n",
      "                       random_state=12345)\n",
      "valid f1 score: 0.5917721518987341\n",
      "valid AUC-ROC score: 0.8414300505603967\n",
      "\n",
      "\n"
     ]
    }
   ],
   "source": [
    "best_params, scores ,auc_rocs = apply_gridsearch_cv(models,grid,train_features, train_target,valid_features,valid_target)\n",
    "\n",
    "for i in range(len(scores)):\n",
    "    update_results(scores[i], auc_rocs[i])"
   ]
  },
  {
   "cell_type": "markdown",
   "id": "78798319-3ec3-43af-8da2-455ce1be4f45",
   "metadata": {},
   "source": [
    "Подбор гиперпараметров по сетке с применением кросс-валидации показал, что лучшая модель для взвешенных классов - это модель **случайного леса** с параметрами:\n",
    "* max_depth = 10, \n",
    "* min_samples_leaf = 4, \n",
    "* min_samples_split = 6, \n",
    "* n_estimators = 50 "
   ]
  },
  {
   "cell_type": "markdown",
   "id": "2a9ae6db-1a22-4b11-8a93-06714b683f64",
   "metadata": {},
   "source": [
    "#### 3.3 Результаты сравнения"
   ]
  },
  {
   "cell_type": "code",
   "execution_count": 148,
   "id": "4973ddf1-387d-4adb-ac2d-5392923330c0",
   "metadata": {},
   "outputs": [
    {
     "data": {
      "text/html": [
       "<div>\n",
       "<style scoped>\n",
       "    .dataframe tbody tr th:only-of-type {\n",
       "        vertical-align: middle;\n",
       "    }\n",
       "\n",
       "    .dataframe tbody tr th {\n",
       "        vertical-align: top;\n",
       "    }\n",
       "\n",
       "    .dataframe thead th {\n",
       "        text-align: right;\n",
       "    }\n",
       "</style>\n",
       "<table border=\"1\" class=\"dataframe\">\n",
       "  <thead>\n",
       "    <tr style=\"text-align: right;\">\n",
       "      <th></th>\n",
       "      <th>models</th>\n",
       "      <th>f1_score</th>\n",
       "      <th>auc_roc</th>\n",
       "    </tr>\n",
       "  </thead>\n",
       "  <tbody>\n",
       "    <tr>\n",
       "      <th>0</th>\n",
       "      <td>LogisticRegression_voice</td>\n",
       "      <td>0.292683</td>\n",
       "      <td>0.776758</td>\n",
       "    </tr>\n",
       "    <tr>\n",
       "      <th>1</th>\n",
       "      <td>LogisticRegression_ups</td>\n",
       "      <td>0.487528</td>\n",
       "      <td>0.778315</td>\n",
       "    </tr>\n",
       "    <tr>\n",
       "      <th>2</th>\n",
       "      <td>DesigionTree_ups</td>\n",
       "      <td>0.558405</td>\n",
       "      <td>0.816909</td>\n",
       "    </tr>\n",
       "    <tr>\n",
       "      <th>3</th>\n",
       "      <td>RandomForest_ups</td>\n",
       "      <td>0.603269</td>\n",
       "      <td>0.853463</td>\n",
       "    </tr>\n",
       "    <tr>\n",
       "      <th>4</th>\n",
       "      <td>LogisticRegression_voice_b</td>\n",
       "      <td>0.493656</td>\n",
       "      <td>0.778277</td>\n",
       "    </tr>\n",
       "    <tr>\n",
       "      <th>5</th>\n",
       "      <td>DesigionTree_voice_b</td>\n",
       "      <td>0.541667</td>\n",
       "      <td>0.817544</td>\n",
       "    </tr>\n",
       "    <tr>\n",
       "      <th>6</th>\n",
       "      <td>RandomForest_voice_b</td>\n",
       "      <td>0.591772</td>\n",
       "      <td>0.841430</td>\n",
       "    </tr>\n",
       "  </tbody>\n",
       "</table>\n",
       "</div>"
      ],
      "text/plain": [
       "                       models  f1_score   auc_roc\n",
       "0    LogisticRegression_voice  0.292683  0.776758\n",
       "1      LogisticRegression_ups  0.487528  0.778315\n",
       "2            DesigionTree_ups  0.558405  0.816909\n",
       "3            RandomForest_ups  0.603269  0.853463\n",
       "4  LogisticRegression_voice_b  0.493656  0.778277\n",
       "5        DesigionTree_voice_b  0.541667  0.817544\n",
       "6        RandomForest_voice_b  0.591772  0.841430"
      ]
     },
     "metadata": {},
     "output_type": "display_data"
    }
   ],
   "source": [
    "results=pd.DataFrame(result_dict)\n",
    "display(results)"
   ]
  },
  {
   "cell_type": "code",
   "execution_count": 149,
   "id": "078236f4-38d1-48b4-be5a-a155b60b7ce6",
   "metadata": {},
   "outputs": [
    {
     "data": {
      "image/png": "[encoded data removed]",
      "text/plain": [
       "<Figure size 576x288 with 1 Axes>"
      ]
     },
     "metadata": {
      "needs_background": "light"
     },
     "output_type": "display_data"
    }
   ],
   "source": [
    "fig, ax = plt.subplots(1, 1, figsize=(8,4))\n",
    "\n",
    "width = 0.75 # the width of the bars \n",
    "ind = np.arange(results.shape[0])  # the x locations for the groups\n",
    "ax.set_yticks(ind + width/10)\n",
    "ax.set_yticklabels(results['models'], minor=False)\n",
    "ax.barh([x for x in range(results.shape[0])], results['f1_score'], width,color=\"cyan\" )\n",
    "plt.title('Models f1-score analysis')\n",
    "plt.xlabel('f1 score')\n",
    "plt.show()"
   ]
  },
  {
   "cell_type": "markdown",
   "id": "67c01116-20a7-4d03-8c2c-858200cf8804",
   "metadata": {},
   "source": [
    "<div style=\"border:solid #4F6272 1px; padding: 4px\">\n",
    "    \n",
    "По итогу раздела лучшим способом устранения дисбаланса классов оказалась техника upsample, лучшим алгоритмом стала модель случайного леса с подобранными гиперпараметрами при помощи imblearn pipeline."
   ]
  },
  {
   "cell_type": "markdown",
   "id": "f4964884-ce4c-4186-a1e9-b3b7d6d3e1fe",
   "metadata": {},
   "source": [
    "### 4. Проведение финального тестирования."
   ]
  },
  {
   "cell_type": "code",
   "execution_count": 150,
   "id": "30215e9e-6afb-45b9-a8b9-c6d55a9a916a",
   "metadata": {},
   "outputs": [],
   "source": [
    "test_features= scaler.transform(test_features)"
   ]
  },
  {
   "cell_type": "markdown",
   "id": "8a9da653-2de5-4bb9-b898-0c24a99da416",
   "metadata": {},
   "source": [
    "#### 4.1 Модель случайного леса с подобранными гиперпараметрами"
   ]
  },
  {
   "cell_type": "code",
   "execution_count": 151,
   "id": "39349447-b017-47a4-a7ae-93d5cd6d714e",
   "metadata": {},
   "outputs": [
    {
     "name": "stdout",
     "output_type": "stream",
     "text": [
      "f1 score: 0.5431654676258992\n",
      "AUC-ROC score: 0.8554153817400244\n"
     ]
    },
    {
     "data": {
      "text/plain": [
       "(0.5431654676258992, 0.8554153817400244)"
      ]
     },
     "execution_count": 151,
     "metadata": {},
     "output_type": "execute_result"
    }
   ],
   "source": [
    "forest_model=RandomForestClassifier(max_depth=11,n_estimators=40,min_samples_split=2, min_samples_leaf=3, random_state=12345)\n",
    "\n",
    "apply_model(forest_model,train_features, train_target, test_features, test_target)\n"
   ]
  },
  {
   "cell_type": "markdown",
   "id": "2fe6e5aa-62b3-40f6-b32a-4fcbb263c44e",
   "metadata": {},
   "source": [
    "Наилучшая модель случайного леса выдает падение метрики f1 score на тестовом множестве в сравнении с валидационным на 0.06, что говорит о том, что модель нормально обобщается на новые данные."
   ]
  },
  {
   "cell_type": "markdown",
   "id": "8e84c7f8-4818-4c12-9e3a-633cfe4a4c69",
   "metadata": {},
   "source": [
    "#### 4.2 Случайная модель"
   ]
  },
  {
   "cell_type": "code",
   "execution_count": 152,
   "id": "e494f4b3-5048-4fc3-946d-24b571ca928e",
   "metadata": {},
   "outputs": [
    {
     "name": "stdout",
     "output_type": "stream",
     "text": [
      "f1 score: 0.33729433272394876\n",
      "AUC-ROC score: 0.5\n"
     ]
    },
    {
     "data": {
      "text/plain": [
       "(0.33729433272394876, 0.5)"
      ]
     },
     "execution_count": 152,
     "metadata": {},
     "output_type": "execute_result"
    }
   ],
   "source": [
    "dummy_model = DummyClassifier(random_state=12345,constant=1,strategy='constant')\n",
    "apply_model(dummy_model,train_features, train_target, test_features, test_target)"
   ]
  },
  {
   "cell_type": "code",
   "execution_count": 153,
   "id": "41bb97cf-7822-464c-b130-47527b74acf5",
   "metadata": {},
   "outputs": [
    {
     "data": {
      "image/png": "[encoded data removed]",
      "text/plain": [
       "<Figure size 1080x360 with 4 Axes>"
      ]
     },
     "metadata": {
      "needs_background": "light"
     },
     "output_type": "display_data"
    }
   ],
   "source": [
    "fig, axes = plt.subplots(1, 2, figsize=(15,5))\n",
    "axes[0].title.set_text('Confusion matrix of RandomForest')\n",
    "axes[1].title.set_text('Confusion matrix of DummyClassifier')\n",
    "plot_confusion_matrix(ax=axes[0], estimator=forest_model, X=test_features, y_true=test_target, normalize='true', cmap='BuPu')\n",
    "plot_confusion_matrix(ax=axes[1], estimator=dummy_model, X=test_features, y_true=test_target, normalize='true', cmap='BuPu')\n",
    "plt.show()"
   ]
  },
  {
   "cell_type": "code",
   "execution_count": 154,
   "id": "032ebe5f-5d94-403f-85d9-05f890ef7cd9",
   "metadata": {},
   "outputs": [
    {
     "data": {
      "text/plain": [
       "<Figure size 1080x360 with 0 Axes>"
      ]
     },
     "metadata": {},
     "output_type": "display_data"
    },
    {
     "data": {
      "image/png": "[encoded data removed]",
      "text/plain": [
       "<Figure size 432x288 with 1 Axes>"
      ]
     },
     "metadata": {
      "needs_background": "light"
     },
     "output_type": "display_data"
    }
   ],
   "source": [
    "plt.figure(figsize=(15,5))\n",
    "plot_roc_curve(forest_model,test_features, test_target) \n",
    "plt.xlim([0.0, 1.0])\n",
    "plt.ylim([0.0, 1.0])\n",
    "plt.xlabel('False Positive Rate')\n",
    "plt.ylabel('True Positive Rate')\n",
    "plt.title('ROC-кривая')\n",
    "plt.show() \n"
   ]
  },
  {
   "cell_type": "markdown",
   "id": "31398c61-96e7-4e39-8ce1-11597bc6a597",
   "metadata": {},
   "source": [
    "В сравнении со случайной моделью полученная в ходе проекта модель показала лучший результат на тестовых данных."
   ]
  },
  {
   "cell_type": "markdown",
   "id": "7d2c7206-09d4-4b1e-bee5-e13039c090be",
   "metadata": {},
   "source": [
    "#### 4.4 Наиболее важные признаки для полученной модели случайного леса"
   ]
  },
  {
   "cell_type": "code",
   "execution_count": 155,
   "id": "d2bc7f61-d201-4e96-9f1f-28c6e0c9ad32",
   "metadata": {},
   "outputs": [
    {
     "data": {
      "image/png": "[encoded data removed]",
      "text/plain": [
       "<Figure size 576x360 with 1 Axes>"
      ]
     },
     "metadata": {
      "needs_background": "light"
     },
     "output_type": "display_data"
    }
   ],
   "source": [
    "importance = forest_model.feature_importances_\n",
    "x=features.columns\n",
    "fig, ax = plt.subplots(1, 1, figsize=(8,5))\n",
    "\n",
    "width = 0.75  \n",
    "ind = np.arange(len(importance))\n",
    "ax.set_yticks(ind + width/10)\n",
    "ax.set_yticklabels(x, minor=False)\n",
    "ax.set_xlim(0,0.4)\n",
    "ax.barh([x for x in range(len(importance))], importance,width,color=\"pink\" )\n",
    "\n",
    "for i, v in enumerate(importance):\n",
    "    ax.text( v, i-width/3, str(np.round(float(v),3)), color='blue')\n",
    "    \n",
    "plt.title('Feature Importance')\n",
    "plt.xlabel('importance')\n",
    "plt.show()"
   ]
  },
  {
   "cell_type": "markdown",
   "id": "56354d4c-a484-4480-8df0-fd8cd68a9304",
   "metadata": {},
   "source": [
    "Таким образом наиболее значимыми признаками для полученной модели стали:\n",
    "\n",
    "* age\n",
    "* num_of_products\n",
    "* balance\n",
    "* estimated_salary\n",
    "* credit_score"
   ]
  },
  {
   "cell_type": "markdown",
   "id": "8e246202-3d16-433a-8c1e-83a1be38ef91",
   "metadata": {},
   "source": [
    "### 5. Выводы."
   ]
  },
  {
   "cell_type": "markdown",
   "id": "3a56f838-f62d-4b70-8a9e-261979ba1b0a",
   "metadata": {},
   "source": [
    "<div style=\"border:solid #9FEDD7 4px; padding: 40px\">\n",
    "    \n",
    "Задачей исследования было построение модели предсказания ухода клиента из банка с предельно большим значением f1-меры (не менее 0.59).\n",
    "\n",
    "В ходе исследования были изучены предоставленные данные, произведена предобработка данных, включая проверку на пропуски, дубликаты и выбросы, кодирование и маштабирование признаков.\n",
    "\n",
    "Было рассмотрено, как влияет на значение метрики f1 **наличие/отсутствие дисбаланса** классов, а также был произведен поиск наилучшей модели при устраненном дисбалансе классов. Для моделей **случайного леса** и **дерева решений** с устраненным дисбалансом классов на upsample-множестве при помощи imblearn pipeline, а на взвешенном множестве при помощи при помощи перебора по сетке с использованием кросс-валидации,  были подобраны гиперпараметры, дающие наилучший результат на валидационном множестве. Затем модель, проявившая себя лучше всего на валидационном множестве была применена к тестовому множеству. Для иллюстрации построен график сравнения f1 метрики на различных моделях.\n",
    "    \n",
    "**При дисбалансе классов**\n",
    "    \n",
    "Модель линейной регрессии на данных с выбросами и без дала сопоставимые результаты со случайной моделью.\n",
    "\n",
    "**При устраненном дисбалансе классов**\n",
    "    \n",
    "При устраненнии дисбаланса классов лучшей оказалась модель **дерева решений** с **upsample**. Модель дерева решений с  **взвешенными классами** выдала результат метрики f1 на 0.01 ниже, чем наилучшая модель. \n",
    "    \n",
    "*Наилучшая модель:*\n",
    "* f1 на валидационной выборке: **0.60**\n",
    "* AUC-ROC на валидационной выборке: **0.85**\n",
    "\n",
    "**Применение к тестовой выборке**\n",
    "    \n",
    "В ходе применения **наилучшей** полученной модели к тестовой выборке было произведено сопоставление с **константной** моделью. Для иллюстрации построена матрица ошибок.\n",
    "\n",
    "*Наилучшая модель:*  \n",
    "* f1 на тестовой выборке: **0.54** \n",
    "* AUC-ROC на тестовой выборке: **0.84**    \n",
    "   \n",
    "\n",
    "*Случайная модель:*\n",
    "* f1 на тестовой выборке: **0.33**\n",
    "* AUC-ROC на тестовой выборке: **0.5**\n",
    "    \n",
    "Для наилучшей модели был произведен анализ значимости признаков. Наиболее значимыми признаками оказались: возраст, количество продуктов у клиента, текущий баланс, предполагаемая зарплата и кредитный рейтинг.  \n",
    "__________________________\n",
    "Рекомендации: Для подбора модели с более высоким качеством имеет смысл рассмотреть также модели на основе стекинга и бустинга, также, если это возможно, попытаться дополнить исходное множество данных, на основе иных источников."
   ]
  },
  {
   "cell_type": "code",
   "execution_count": null,
   "id": "322b44a0-e1ee-46f5-bdc3-c4ad7d27e32f",
   "metadata": {},
   "outputs": [],
   "source": []
  },
  {
   "cell_type": "code",
   "execution_count": null,
   "id": "5689f378-6687-47cc-a69b-760c4529f258",
   "metadata": {},
   "outputs": [],
   "source": []
  }
 ],
 "metadata": {
  "kernelspec": {
   "display_name": "Python 3 (ipykernel)",
   "language": "python",
   "name": "python3"
  },
  "language_info": {
   "codemirror_mode": {
    "name": "ipython",
    "version": 3
   },
   "file_extension": ".py",
   "mimetype": "text/x-python",
   "name": "python",
   "nbconvert_exporter": "python",
   "pygments_lexer": "ipython3",
   "version": "3.9.7"
  },
  "toc": {
   "base_numbering": 1,
   "nav_menu": {},
   "number_sections": true,
   "sideBar": true,
   "skip_h1_title": true,
   "title_cell": "Table of Contents",
   "title_sidebar": "Contents",
   "toc_cell": false,
   "toc_position": {},
   "toc_section_display": true,
   "toc_window_display": false
  }
 },
 "nbformat": 4,
 "nbformat_minor": 5
}
