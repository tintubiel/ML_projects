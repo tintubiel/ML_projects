{
 "cells": [
  {
   "cell_type": "markdown",
   "metadata": {
    "id": "j5dXNM3l2HWm"
   },
   "source": [
    "## **Прогнозирование количество заказов такси на следующий час**\n",
    "\n",
    "**Цель исследования:**\n",
    "\n",
    "Построить модель для прогнозирования количества заказов такси на следующий час. При оценке качества использовать метрику RMSE.\n",
    "\n",
    "**Ход исследования:**\n",
    "- Загрузка и подготовка данных.\n",
    "- Обучение разных моделей и поиск лучшей.\n",
    "- Проведение анализа качества модели\n",
    "\n",
    "\n",
    "\n"
   ]
  },
  {
   "cell_type": "code",
   "execution_count": 18,
   "metadata": {
    "id": "vtMNn9I62_xH"
   },
   "outputs": [],
   "source": [
    "import pandas as pd\n",
    "import seaborn as sns\n",
    "import numpy as np\n",
    "import time\n",
    "from statsmodels.tsa.seasonal import seasonal_decompose\n",
    "import matplotlib.pyplot as plt\n",
    "from sklearn.model_selection import train_test_split\n",
    "from sklearn.metrics import mean_squared_error\n",
    "from sklearn.preprocessing import StandardScaler\n",
    "import random\n",
    "from sklearn.model_selection import GridSearchCV\n",
    "from sklearn.model_selection import TimeSeriesSplit\n",
    "from lightgbm import LGBMRegressor as lgbr\n",
    "from sklearn.linear_model import ElasticNet\n",
    "import warnings\n",
    "warnings.filterwarnings(\"ignore\")"
   ]
  },
  {
   "cell_type": "markdown",
   "metadata": {
    "id": "Yd8t2yHl2mfh"
   },
   "source": [
    "## 1. Загрузите и подготовьте данные"
   ]
  },
  {
   "cell_type": "markdown",
   "metadata": {
    "id": "aNpP7e5i2G1U"
   },
   "source": [
    "### 1.1. Обзор данных"
   ]
  },
  {
   "cell_type": "code",
   "execution_count": 19,
   "metadata": {
    "colab": {
     "base_uri": "https://localhost:8080/",
     "height": 367
    },
    "id": "n-GK_JeU25gH",
    "outputId": "191994e4-00a7-41de-d528-7f27cca31675",
    "scrolled": true
   },
   "outputs": [
    {
     "data": {
      "text/html": [
       "<div>\n",
       "<style scoped>\n",
       "    .dataframe tbody tr th:only-of-type {\n",
       "        vertical-align: middle;\n",
       "    }\n",
       "\n",
       "    .dataframe tbody tr th {\n",
       "        vertical-align: top;\n",
       "    }\n",
       "\n",
       "    .dataframe thead th {\n",
       "        text-align: right;\n",
       "    }\n",
       "</style>\n",
       "<table border=\"1\" class=\"dataframe\">\n",
       "  <thead>\n",
       "    <tr style=\"text-align: right;\">\n",
       "      <th></th>\n",
       "      <th>datetime</th>\n",
       "      <th>num_orders</th>\n",
       "    </tr>\n",
       "  </thead>\n",
       "  <tbody>\n",
       "    <tr>\n",
       "      <th>0</th>\n",
       "      <td>2018-03-01 00:00:00</td>\n",
       "      <td>9</td>\n",
       "    </tr>\n",
       "    <tr>\n",
       "      <th>1</th>\n",
       "      <td>2018-03-01 00:10:00</td>\n",
       "      <td>14</td>\n",
       "    </tr>\n",
       "    <tr>\n",
       "      <th>2</th>\n",
       "      <td>2018-03-01 00:20:00</td>\n",
       "      <td>28</td>\n",
       "    </tr>\n",
       "    <tr>\n",
       "      <th>3</th>\n",
       "      <td>2018-03-01 00:30:00</td>\n",
       "      <td>20</td>\n",
       "    </tr>\n",
       "    <tr>\n",
       "      <th>4</th>\n",
       "      <td>2018-03-01 00:40:00</td>\n",
       "      <td>32</td>\n",
       "    </tr>\n",
       "  </tbody>\n",
       "</table>\n",
       "</div>"
      ],
      "text/plain": [
       "             datetime  num_orders\n",
       "0 2018-03-01 00:00:00           9\n",
       "1 2018-03-01 00:10:00          14\n",
       "2 2018-03-01 00:20:00          28\n",
       "3 2018-03-01 00:30:00          20\n",
       "4 2018-03-01 00:40:00          32"
      ]
     },
     "metadata": {},
     "output_type": "display_data"
    },
    {
     "name": "stdout",
     "output_type": "stream",
     "text": [
      "<class 'pandas.core.frame.DataFrame'>\n",
      "RangeIndex: 26496 entries, 0 to 26495\n",
      "Data columns (total 2 columns):\n",
      " #   Column      Non-Null Count  Dtype         \n",
      "---  ------      --------------  -----         \n",
      " 0   datetime    26496 non-null  datetime64[ns]\n",
      " 1   num_orders  26496 non-null  int64         \n",
      "dtypes: datetime64[ns](1), int64(1)\n",
      "memory usage: 414.1 KB\n"
     ]
    }
   ],
   "source": [
    "try:\n",
    "  data = pd.read_csv(\"/datasets/taxi.csv\", error_bad_lines=False,  parse_dates=['datetime'])\n",
    "except:\n",
    "  data=pd.read_csv('https://code.s3.yandex.net/datasets/taxi.csv', error_bad_lines=False,  parse_dates=['datetime'])\n",
    "display(data.head())\n",
    "data.info()"
   ]
  },
  {
   "cell_type": "code",
   "execution_count": 20,
   "metadata": {
    "colab": {
     "base_uri": "https://localhost:8080/"
    },
    "id": "XY48Rx9fBmVQ",
    "outputId": "9d59efb8-415c-459a-e390-24f36ece8b10"
   },
   "outputs": [
    {
     "name": "stdout",
     "output_type": "stream",
     "text": [
      "Пропусков в данных:\n",
      "datetime      0\n",
      "num_orders    0\n",
      "dtype: int64\n",
      "\n",
      "Дубликатов в данных:\n",
      "0\n"
     ]
    }
   ],
   "source": [
    "print(\"Пропусков в данных:\")\n",
    "print(data.isna().sum())\n",
    "print()\n",
    "\n",
    "print(\"Дубликатов в данных:\")\n",
    "print(data.duplicated().sum())"
   ]
  },
  {
   "cell_type": "markdown",
   "metadata": {
    "id": "WxoUjwigkmmG"
   },
   "source": [
    "Пропусков и дубликатов в данных не обнаружено, данные подходят для дальнейшей работы с ними."
   ]
  },
  {
   "cell_type": "markdown",
   "metadata": {
    "id": "K00JNb5YDTdU"
   },
   "source": [
    "### 1.2. Ресемплирование данных"
   ]
  },
  {
   "cell_type": "code",
   "execution_count": 21,
   "metadata": {
    "id": "29lkKDiHCEqQ"
   },
   "outputs": [],
   "source": [
    "data = data.set_index('datetime')\n",
    "data.sort_index(inplace=True)\n",
    "data_hour = data.resample('1H').sum()\n",
    "data_month= data.resample('1M').sum()\n",
    "data_week = data.resample('1W').sum()"
   ]
  },
  {
   "cell_type": "markdown",
   "metadata": {},
   "source": [
    "Произведем ресемплирование по часу, неделе и месяцу, чтобы проанализировать данные."
   ]
  },
  {
   "cell_type": "code",
   "execution_count": 22,
   "metadata": {
    "scrolled": false
   },
   "outputs": [
    {
     "data": {
      "image/png": "[encoded data removed]",
      "text/plain": [
       "<Figure size 1080x288 with 1 Axes>"
      ]
     },
     "metadata": {
      "needs_background": "light"
     },
     "output_type": "display_data"
    }
   ],
   "source": [
    "data_month.plot(figsize=(15,4), grid = \"on\", color = \"pink\")\n",
    "plt.title('Зависимость числа заказов от месяца')\n",
    "plt.show()"
   ]
  },
  {
   "cell_type": "markdown",
   "metadata": {},
   "source": [
    "Начиная с июня наблюдаем значительный рост числа заказов, при этом общая динамика возрастающая на протяжении всего рассматриваемого периода."
   ]
  },
  {
   "cell_type": "code",
   "execution_count": 23,
   "metadata": {
    "scrolled": false
   },
   "outputs": [
    {
     "data": {
      "image/png": "[encoded data removed]",
      "text/plain": [
       "<Figure size 1080x288 with 1 Axes>"
      ]
     },
     "metadata": {
      "needs_background": "light"
     },
     "output_type": "display_data"
    }
   ],
   "source": [
    "data_week.plot(figsize=(15,4), grid = \"on\", color = \"cyan\")\n",
    "plt.title('Зависимость числа заказов от недели')\n",
    "plt.show()"
   ]
  },
  {
   "cell_type": "markdown",
   "metadata": {},
   "source": [
    "Пиковое число заказов приходится на третью неделю августа. Затем мы наблюдаем падение числа заказов до значения на момент начала второй недели."
   ]
  },
  {
   "cell_type": "code",
   "execution_count": 24,
   "metadata": {
    "colab": {
     "base_uri": "https://localhost:8080/",
     "height": 484
    },
    "id": "5c6UAHoAHZcQ",
    "outputId": "d39cd618-d1a1-4643-dbe6-8419373010ab",
    "scrolled": true
   },
   "outputs": [
    {
     "data": {
      "image/png": "[encoded data removed]",
      "text/plain": [
       "<Figure size 1080x288 with 1 Axes>"
      ]
     },
     "metadata": {
      "needs_background": "light"
     },
     "output_type": "display_data"
    }
   ],
   "source": [
    "data_hour.plot(figsize=(15,4), grid = \"on\")\n",
    "plt.title('Зависимость числа заказов от часа')\n",
    "plt.show()"
   ]
  },
  {
   "cell_type": "markdown",
   "metadata": {},
   "source": [
    "В некоторые отдельные часы в августе число заказов превышает значение 400."
   ]
  },
  {
   "cell_type": "code",
   "execution_count": 25,
   "metadata": {
    "scrolled": true
   },
   "outputs": [
    {
     "data": {
      "image/png": "[encoded data removed]",
      "text/plain": [
       "<Figure size 1080x288 with 1 Axes>"
      ]
     },
     "metadata": {
      "needs_background": "light"
     },
     "output_type": "display_data"
    }
   ],
   "source": [
    "decomposed = seasonal_decompose(data_hour)\n",
    "\n",
    "decomposed.trend.plot(ax=plt.gca(),figsize=(15,4), grid=\"on\")\n",
    "plt.title('Тренд')\n",
    "plt.show()"
   ]
  },
  {
   "cell_type": "markdown",
   "metadata": {},
   "source": [
    "На графике тренда видим, что тренд восходящий, начиная с июня месяца значительно возрастающий"
   ]
  },
  {
   "cell_type": "code",
   "execution_count": 26,
   "metadata": {},
   "outputs": [
    {
     "data": {
      "image/png": "[encoded data removed]",
      "text/plain": [
       "<Figure size 1080x288 with 1 Axes>"
      ]
     },
     "metadata": {
      "needs_background": "light"
     },
     "output_type": "display_data"
    }
   ],
   "source": [
    "decomposed.seasonal['2018-03-12':'2018-03-13'].plot(ax=plt.gca(),figsize=(15,4), grid=\"on\")\n",
    "plt.title('Сезонность в течение дня')\n",
    "plt.show()"
   ]
  },
  {
   "cell_type": "markdown",
   "metadata": {},
   "source": [
    "Самое пиковое время заказов такси в 0 часов, самое маленькое число заказов наблюдается в 6 утра."
   ]
  },
  {
   "cell_type": "code",
   "execution_count": 27,
   "metadata": {
    "scrolled": true
   },
   "outputs": [
    {
     "data": {
      "image/png": "[encoded data removed]",
      "text/plain": [
       "<Figure size 1080x288 with 1 Axes>"
      ]
     },
     "metadata": {
      "needs_background": "light"
     },
     "output_type": "display_data"
    }
   ],
   "source": [
    "decomposed.resid.plot(ax=plt.gca(),figsize=(15,4), grid=\"on\")\n",
    "plt.title('Остатки декомпозиции')\n",
    "plt.show()"
   ]
  },
  {
   "cell_type": "markdown",
   "metadata": {},
   "source": [
    "По итогу анализа данных видим, что на число заказов напрямую влияет само время заказа, а также день недели, в который делают заказ. Используем полученные данные для создания признаков."
   ]
  },
  {
   "cell_type": "code",
   "execution_count": 28,
   "metadata": {},
   "outputs": [],
   "source": [
    "def make_features(data, max_lag, rolling_mean_size):\n",
    "    data['hour'] = data.index.hour\n",
    "    data['day'] = data.index.day\n",
    "    data['dayofweek'] = data.index.dayofweek\n",
    "\n",
    "    for lag in range(1, max_lag + 1):\n",
    "        data['lag_{}'.format(lag)] = data['num_orders'].shift(lag)\n",
    "    data['rolling_mean'] = data['num_orders'].shift().rolling(rolling_mean_size).mean()"
   ]
  },
  {
   "cell_type": "code",
   "execution_count": 29,
   "metadata": {},
   "outputs": [
    {
     "data": {
      "text/html": [
       "<div>\n",
       "<style scoped>\n",
       "    .dataframe tbody tr th:only-of-type {\n",
       "        vertical-align: middle;\n",
       "    }\n",
       "\n",
       "    .dataframe tbody tr th {\n",
       "        vertical-align: top;\n",
       "    }\n",
       "\n",
       "    .dataframe thead th {\n",
       "        text-align: right;\n",
       "    }\n",
       "</style>\n",
       "<table border=\"1\" class=\"dataframe\">\n",
       "  <thead>\n",
       "    <tr style=\"text-align: right;\">\n",
       "      <th></th>\n",
       "      <th>num_orders</th>\n",
       "      <th>hour</th>\n",
       "      <th>day</th>\n",
       "      <th>dayofweek</th>\n",
       "      <th>lag_1</th>\n",
       "      <th>lag_2</th>\n",
       "      <th>lag_3</th>\n",
       "      <th>lag_4</th>\n",
       "      <th>lag_5</th>\n",
       "      <th>lag_6</th>\n",
       "      <th>...</th>\n",
       "      <th>lag_192</th>\n",
       "      <th>lag_193</th>\n",
       "      <th>lag_194</th>\n",
       "      <th>lag_195</th>\n",
       "      <th>lag_196</th>\n",
       "      <th>lag_197</th>\n",
       "      <th>lag_198</th>\n",
       "      <th>lag_199</th>\n",
       "      <th>lag_200</th>\n",
       "      <th>rolling_mean</th>\n",
       "    </tr>\n",
       "    <tr>\n",
       "      <th>datetime</th>\n",
       "      <th></th>\n",
       "      <th></th>\n",
       "      <th></th>\n",
       "      <th></th>\n",
       "      <th></th>\n",
       "      <th></th>\n",
       "      <th></th>\n",
       "      <th></th>\n",
       "      <th></th>\n",
       "      <th></th>\n",
       "      <th></th>\n",
       "      <th></th>\n",
       "      <th></th>\n",
       "      <th></th>\n",
       "      <th></th>\n",
       "      <th></th>\n",
       "      <th></th>\n",
       "      <th></th>\n",
       "      <th></th>\n",
       "      <th></th>\n",
       "      <th></th>\n",
       "    </tr>\n",
       "  </thead>\n",
       "  <tbody>\n",
       "    <tr>\n",
       "      <th>2018-03-01 00:00:00</th>\n",
       "      <td>124</td>\n",
       "      <td>0</td>\n",
       "      <td>1</td>\n",
       "      <td>3</td>\n",
       "      <td>NaN</td>\n",
       "      <td>NaN</td>\n",
       "      <td>NaN</td>\n",
       "      <td>NaN</td>\n",
       "      <td>NaN</td>\n",
       "      <td>NaN</td>\n",
       "      <td>...</td>\n",
       "      <td>NaN</td>\n",
       "      <td>NaN</td>\n",
       "      <td>NaN</td>\n",
       "      <td>NaN</td>\n",
       "      <td>NaN</td>\n",
       "      <td>NaN</td>\n",
       "      <td>NaN</td>\n",
       "      <td>NaN</td>\n",
       "      <td>NaN</td>\n",
       "      <td>NaN</td>\n",
       "    </tr>\n",
       "    <tr>\n",
       "      <th>2018-03-01 01:00:00</th>\n",
       "      <td>85</td>\n",
       "      <td>1</td>\n",
       "      <td>1</td>\n",
       "      <td>3</td>\n",
       "      <td>124.0</td>\n",
       "      <td>NaN</td>\n",
       "      <td>NaN</td>\n",
       "      <td>NaN</td>\n",
       "      <td>NaN</td>\n",
       "      <td>NaN</td>\n",
       "      <td>...</td>\n",
       "      <td>NaN</td>\n",
       "      <td>NaN</td>\n",
       "      <td>NaN</td>\n",
       "      <td>NaN</td>\n",
       "      <td>NaN</td>\n",
       "      <td>NaN</td>\n",
       "      <td>NaN</td>\n",
       "      <td>NaN</td>\n",
       "      <td>NaN</td>\n",
       "      <td>NaN</td>\n",
       "    </tr>\n",
       "    <tr>\n",
       "      <th>2018-03-01 02:00:00</th>\n",
       "      <td>71</td>\n",
       "      <td>2</td>\n",
       "      <td>1</td>\n",
       "      <td>3</td>\n",
       "      <td>85.0</td>\n",
       "      <td>124.0</td>\n",
       "      <td>NaN</td>\n",
       "      <td>NaN</td>\n",
       "      <td>NaN</td>\n",
       "      <td>NaN</td>\n",
       "      <td>...</td>\n",
       "      <td>NaN</td>\n",
       "      <td>NaN</td>\n",
       "      <td>NaN</td>\n",
       "      <td>NaN</td>\n",
       "      <td>NaN</td>\n",
       "      <td>NaN</td>\n",
       "      <td>NaN</td>\n",
       "      <td>NaN</td>\n",
       "      <td>NaN</td>\n",
       "      <td>NaN</td>\n",
       "    </tr>\n",
       "    <tr>\n",
       "      <th>2018-03-01 03:00:00</th>\n",
       "      <td>66</td>\n",
       "      <td>3</td>\n",
       "      <td>1</td>\n",
       "      <td>3</td>\n",
       "      <td>71.0</td>\n",
       "      <td>85.0</td>\n",
       "      <td>124.0</td>\n",
       "      <td>NaN</td>\n",
       "      <td>NaN</td>\n",
       "      <td>NaN</td>\n",
       "      <td>...</td>\n",
       "      <td>NaN</td>\n",
       "      <td>NaN</td>\n",
       "      <td>NaN</td>\n",
       "      <td>NaN</td>\n",
       "      <td>NaN</td>\n",
       "      <td>NaN</td>\n",
       "      <td>NaN</td>\n",
       "      <td>NaN</td>\n",
       "      <td>NaN</td>\n",
       "      <td>NaN</td>\n",
       "    </tr>\n",
       "    <tr>\n",
       "      <th>2018-03-01 04:00:00</th>\n",
       "      <td>43</td>\n",
       "      <td>4</td>\n",
       "      <td>1</td>\n",
       "      <td>3</td>\n",
       "      <td>66.0</td>\n",
       "      <td>71.0</td>\n",
       "      <td>85.0</td>\n",
       "      <td>124.0</td>\n",
       "      <td>NaN</td>\n",
       "      <td>NaN</td>\n",
       "      <td>...</td>\n",
       "      <td>NaN</td>\n",
       "      <td>NaN</td>\n",
       "      <td>NaN</td>\n",
       "      <td>NaN</td>\n",
       "      <td>NaN</td>\n",
       "      <td>NaN</td>\n",
       "      <td>NaN</td>\n",
       "      <td>NaN</td>\n",
       "      <td>NaN</td>\n",
       "      <td>NaN</td>\n",
       "    </tr>\n",
       "  </tbody>\n",
       "</table>\n",
       "<p>5 rows × 205 columns</p>\n",
       "</div>"
      ],
      "text/plain": [
       "                     num_orders  hour  day  dayofweek  lag_1  lag_2  lag_3  \\\n",
       "datetime                                                                     \n",
       "2018-03-01 00:00:00         124     0    1          3    NaN    NaN    NaN   \n",
       "2018-03-01 01:00:00          85     1    1          3  124.0    NaN    NaN   \n",
       "2018-03-01 02:00:00          71     2    1          3   85.0  124.0    NaN   \n",
       "2018-03-01 03:00:00          66     3    1          3   71.0   85.0  124.0   \n",
       "2018-03-01 04:00:00          43     4    1          3   66.0   71.0   85.0   \n",
       "\n",
       "                     lag_4  lag_5  lag_6  ...  lag_192  lag_193  lag_194  \\\n",
       "datetime                                  ...                              \n",
       "2018-03-01 00:00:00    NaN    NaN    NaN  ...      NaN      NaN      NaN   \n",
       "2018-03-01 01:00:00    NaN    NaN    NaN  ...      NaN      NaN      NaN   \n",
       "2018-03-01 02:00:00    NaN    NaN    NaN  ...      NaN      NaN      NaN   \n",
       "2018-03-01 03:00:00    NaN    NaN    NaN  ...      NaN      NaN      NaN   \n",
       "2018-03-01 04:00:00  124.0    NaN    NaN  ...      NaN      NaN      NaN   \n",
       "\n",
       "                     lag_195  lag_196  lag_197  lag_198  lag_199  lag_200  \\\n",
       "datetime                                                                    \n",
       "2018-03-01 00:00:00      NaN      NaN      NaN      NaN      NaN      NaN   \n",
       "2018-03-01 01:00:00      NaN      NaN      NaN      NaN      NaN      NaN   \n",
       "2018-03-01 02:00:00      NaN      NaN      NaN      NaN      NaN      NaN   \n",
       "2018-03-01 03:00:00      NaN      NaN      NaN      NaN      NaN      NaN   \n",
       "2018-03-01 04:00:00      NaN      NaN      NaN      NaN      NaN      NaN   \n",
       "\n",
       "                     rolling_mean  \n",
       "datetime                           \n",
       "2018-03-01 00:00:00           NaN  \n",
       "2018-03-01 01:00:00           NaN  \n",
       "2018-03-01 02:00:00           NaN  \n",
       "2018-03-01 03:00:00           NaN  \n",
       "2018-03-01 04:00:00           NaN  \n",
       "\n",
       "[5 rows x 205 columns]"
      ]
     },
     "metadata": {},
     "output_type": "display_data"
    },
    {
     "data": {
      "text/plain": [
       "(26496, 1)"
      ]
     },
     "execution_count": 29,
     "metadata": {},
     "output_type": "execute_result"
    }
   ],
   "source": [
    "make_features(data_hour, 200, 30)\n",
    "display(data_hour.head(5))\n",
    "data.shape"
   ]
  },
  {
   "cell_type": "markdown",
   "metadata": {
    "id": "g5UAMPvlHskg"
   },
   "source": [
    "## 2. Обучение модели."
   ]
  },
  {
   "cell_type": "markdown",
   "metadata": {
    "id": "UDBxa7VaIciZ"
   },
   "source": [
    "### 2.1. Разделение на тренировочную и тестовую выборки\n",
    "\n",
    "\n"
   ]
  },
  {
   "cell_type": "code",
   "execution_count": 30,
   "metadata": {
    "id": "NqfW1SwJfwq8"
   },
   "outputs": [],
   "source": [
    "train, test = train_test_split(data_hour, shuffle=False, test_size=0.1)\n",
    "train = train.dropna()\n",
    "\n",
    "train_features = train.drop(['num_orders'], axis = 1)\n",
    "test_features = test.drop(['num_orders'], axis = 1)\n",
    "train_target = train['num_orders']\n",
    "test_target = test['num_orders']\n"
   ]
  },
  {
   "cell_type": "markdown",
   "metadata": {
    "id": "hxeqXClJInzz"
   },
   "source": [
    "### 2.2. Обучение разных моделей с подбором гиперпараметров и поиск лучшей."
   ]
  },
  {
   "cell_type": "markdown",
   "metadata": {
    "id": "tlB75escIsTO"
   },
   "source": [
    "#### 2.3.1 Линейная регрессия с L1 и L2 регуляризацией"
   ]
  },
  {
   "cell_type": "markdown",
   "metadata": {
    "id": "pXCVks7VNO7_"
   },
   "source": [
    "До подбора гиперпараметров"
   ]
  },
  {
   "cell_type": "code",
   "execution_count": 31,
   "metadata": {
    "colab": {
     "base_uri": "https://localhost:8080/"
    },
    "id": "qPaZI0_mHSfp",
    "outputId": "87b7d2a8-3cbd-4dc7-ca70-af891bc25456"
   },
   "outputs": [
    {
     "name": "stdout",
     "output_type": "stream",
     "text": [
      "RMSE обучающей выборки: 20.136231178166657\n",
      "RMSE тестовой выборки:  34.23475613656576\n"
     ]
    }
   ],
   "source": [
    "model = ElasticNet()# < обучите модель >\n",
    "model.fit(train_features, train_target)\n",
    "predictions_t = model.predict(train_features)\n",
    "predictions_f = model.predict(test_features)\n",
    " \n",
    "print(\"RMSE обучающей выборки:\", np.sqrt(mean_squared_error(train_target, predictions_t)))\n",
    "print(\"RMSE тестовой выборки: \", np.sqrt(mean_squared_error(test_target, predictions_f)))"
   ]
  },
  {
   "cell_type": "markdown",
   "metadata": {
    "id": "kVUVGZWANVg5"
   },
   "source": [
    "После подбора гиперпараметров"
   ]
  },
  {
   "cell_type": "code",
   "execution_count": null,
   "metadata": {
    "colab": {
     "base_uri": "https://localhost:8080/"
    },
    "id": "0kiu5HtpIQF_",
    "outputId": "aeaab2ed-e7f1-49bf-dd93-75be31f1331b"
   },
   "outputs": [],
   "source": [
    "tscv = TimeSeriesSplit(n_splits = 10)\n",
    "parametersGrid = {\"alpha\": [ 0.1, 1, 10, 100],\n",
    "                  \"l1_ratio\": np.arange(0.0, 1.1, 0.1)}\n",
    "gr_s = GridSearchCV(model, parametersGrid, scoring = 'neg_mean_squared_error', cv=tscv)\n",
    "gr_s.fit(train_features, train_target)\n",
    "print(\"Лучшие параметры модели: \", gr_s.best_params_)\n",
    "print(\"RMSE тестовой выборки: \", np.sqrt(gr_s.best_score_*(-1)))"
   ]
  },
  {
   "cell_type": "markdown",
   "metadata": {
    "id": "JCYt_vYuNazw"
   },
   "source": [
    "#### 2.3.2 LightGBM"
   ]
  },
  {
   "cell_type": "markdown",
   "metadata": {
    "id": "06zcMx7fNoxH"
   },
   "source": [
    "До подбора гиперпараметров"
   ]
  },
  {
   "cell_type": "code",
   "execution_count": null,
   "metadata": {
    "colab": {
     "base_uri": "https://localhost:8080/"
    },
    "id": "m0UD3WoZNEmt",
    "outputId": "13852d63-337f-4af3-ea8f-204224e0ff6c"
   },
   "outputs": [],
   "source": [
    "model = lgbr()\n",
    "model.fit(train_features, train_target)\n",
    "test_predictions = model.predict(test_features)\n",
    "\n",
    "print(\"Значение RMSE на валидационной выборке:\", np.sqrt(mean_squared_error(test_target, test_predictions)))"
   ]
  },
  {
   "cell_type": "markdown",
   "metadata": {
    "id": "JoMmzuNdNqfi"
   },
   "source": [
    "После подбора гиперпараметров"
   ]
  },
  {
   "cell_type": "code",
   "execution_count": null,
   "metadata": {
    "colab": {
     "base_uri": "https://localhost:8080/"
    },
    "id": "Ym5X66mFNlua",
    "outputId": "15219d8f-7b21-4961-aaac-4e8f3329db82"
   },
   "outputs": [],
   "source": [
    "#(reg_alpha=0.3, num_leaves=30, n_estimators=180)37.43\n",
    "model = lgbr()\n",
    "params = {\"reg_alpha\" :[0.1, 0.2, 0.3],\n",
    "          \"num_leaves\" : [10, 20, 30],\n",
    "          \"n_estimators\" : [150, 180, 200]}\n",
    "gr_s = GridSearchCV(model, params, scoring = 'neg_mean_squared_error', cv=tscv)\n",
    "gr_s.fit(train_features, valid_target)\n",
    "print(\"Лучшие параметры модели: \", gr_s.best_params_)\n",
    "print(\"RMSE валидационной выборки: \", np.sqrt(gr_s.best_score_*(-1)))"
   ]
  },
  {
   "cell_type": "markdown",
   "metadata": {
    "id": "dysfGutvj49i"
   },
   "source": [
    "По итогу раздела лучшим образом показала себя линейная модель с L1 и L2 регуляризацией, значение метрики RMSE на валидационной выборке  составило 28."
   ]
  },
  {
   "cell_type": "markdown",
   "metadata": {
    "id": "Loq_gXZufhKV"
   },
   "source": [
    "### 3. Применение лучшей модели к тестовой выборке."
   ]
  },
  {
   "cell_type": "code",
   "execution_count": null,
   "metadata": {
    "colab": {
     "base_uri": "https://localhost:8080/"
    },
    "id": "ATX18vr6ku7O",
    "outputId": "677c9dbd-a8e5-430d-9a11-d966d11ead43"
   },
   "outputs": [],
   "source": [
    "model = ElasticNet()\n",
    "model.fit(train_features, train_target)\n",
    "test_predictions= model.predict(test_features)\n",
    "print(\"Значение RMSE на тестовой выборке:\", np.sqrt(mean_squared_error(test_target, test_predictions)))\n"
   ]
  },
  {
   "cell_type": "markdown",
   "metadata": {
    "id": "kW8WH6OSjNWa"
   },
   "source": [
    "### 4. Выводы."
   ]
  },
  {
   "cell_type": "markdown",
   "metadata": {
    "id": "VYPfUsgglFSa"
   },
   "source": [
    "Задачей исследования было построение модели прогнозирования количества заказов такси на следующий час. Значение метрики RMSE не должно превышать 58.\n",
    "\n",
    "В ходе исследования были изучены предоставленные данные, произведена проверка на пропуски, дубликаты, ресепмплирование данных и генерация признаков.\n",
    "\n",
    "Были рассмотрены две регрессионных модели: линейная регрессия с L1 и L2 регуляризацией и ансамблевая модель LightGBM. Для моделей при помощи при помощи перебора по сетке с использованием кросс-валидации, был осуществлен подбор гиперпараметров.\n",
    "\n",
    "По итогам исследования худший результат показала модель **LightGBM**. Значение метрики на валидационной выборке при использовании модели составляет **30.04**. \n",
    "\n",
    "Самой сильной оказалась модель **линейной регрессии с регуляризацией**. Более простая модель для имющихся данных оказалась способна увидеть зависимости в них. Значение метрики составило на валидационном множестве **28.05**. После применения модели на тестовых данных значение метрики составило **34.6**\n",
    "\n",
    "Рекомендации: Модель ElasticNet обладает хорошей точностью предсказания и малым временем обучения. Для получения более надежных предсказаний стоит учитывать сезонность и тренды в данных, а также иметь представление о зависимости каких-то внешних событий на число заказов такси."
   ]
  }
 ],
 "metadata": {
  "ExecuteTimeLog": [
   {
    "duration": 3649,
    "start_time": "2023-05-02T06:20:35.591Z"
   },
   {
    "duration": 124,
    "start_time": "2023-05-02T06:20:39.292Z"
   },
   {
    "duration": 10,
    "start_time": "2023-05-02T06:20:39.418Z"
   },
   {
    "duration": 65,
    "start_time": "2023-05-02T06:20:39.430Z"
   },
   {
    "duration": 9,
    "start_time": "2023-05-02T06:20:39.498Z"
   },
   {
    "duration": 518,
    "start_time": "2023-05-02T06:20:39.509Z"
   },
   {
    "duration": 5,
    "start_time": "2023-05-02T06:20:40.029Z"
   },
   {
    "duration": 326,
    "start_time": "2023-05-02T06:20:40.093Z"
   },
   {
    "duration": 86,
    "start_time": "2023-05-02T06:20:40.421Z"
   },
   {
    "duration": 2483,
    "start_time": "2023-05-02T06:20:40.510Z"
   },
   {
    "duration": 218504,
    "start_time": "2023-05-02T06:20:42.995Z"
   },
   {
    "duration": 522903,
    "start_time": "2023-05-02T06:36:21.096Z"
   },
   {
    "duration": 1799,
    "start_time": "2023-05-02T06:45:04.002Z"
   },
   {
    "duration": 1994,
    "start_time": "2023-05-03T11:29:31.322Z"
   },
   {
    "duration": 6,
    "start_time": "2023-05-03T11:29:37.214Z"
   },
   {
    "duration": 7,
    "start_time": "2023-05-03T11:29:40.390Z"
   },
   {
    "duration": 191,
    "start_time": "2023-05-03T11:29:41.424Z"
   },
   {
    "duration": 11,
    "start_time": "2023-05-03T11:29:43.733Z"
   },
   {
    "duration": 10,
    "start_time": "2023-05-03T11:29:46.640Z"
   },
   {
    "duration": 7,
    "start_time": "2023-05-03T11:29:58.724Z"
   },
   {
    "duration": 273,
    "start_time": "2023-05-03T11:30:01.487Z"
   },
   {
    "duration": 7,
    "start_time": "2023-05-03T11:31:34.615Z"
   },
   {
    "duration": 244,
    "start_time": "2023-05-03T11:32:12.138Z"
   },
   {
    "duration": 235,
    "start_time": "2023-05-03T11:32:22.715Z"
   },
   {
    "duration": 336,
    "start_time": "2023-05-03T11:32:38.217Z"
   },
   {
    "duration": 263,
    "start_time": "2023-05-03T11:32:47.084Z"
   },
   {
    "duration": 267,
    "start_time": "2023-05-03T11:33:48.138Z"
   },
   {
    "duration": 321,
    "start_time": "2023-05-03T11:34:24.128Z"
   },
   {
    "duration": 1804,
    "start_time": "2023-05-03T17:22:16.154Z"
   },
   {
    "duration": 162,
    "start_time": "2023-05-03T17:22:17.962Z"
   },
   {
    "duration": 10,
    "start_time": "2023-05-03T17:22:18.126Z"
   },
   {
    "duration": 130,
    "start_time": "2023-05-03T17:22:20.553Z"
   },
   {
    "duration": 15,
    "start_time": "2023-05-03T17:22:37.025Z"
   },
   {
    "duration": 4,
    "start_time": "2023-05-03T17:22:48.312Z"
   },
   {
    "duration": 70,
    "start_time": "2023-05-03T17:22:54.663Z"
   },
   {
    "duration": 12,
    "start_time": "2023-05-03T17:22:58.772Z"
   },
   {
    "duration": 16,
    "start_time": "2023-05-03T17:23:00.411Z"
   },
   {
    "duration": 11,
    "start_time": "2023-05-03T17:23:21.997Z"
   },
   {
    "duration": 4,
    "start_time": "2023-05-03T17:23:31.584Z"
   },
   {
    "duration": 121,
    "start_time": "2023-05-03T17:23:31.591Z"
   },
   {
    "duration": 14,
    "start_time": "2023-05-03T17:23:31.714Z"
   },
   {
    "duration": 23,
    "start_time": "2023-05-03T17:23:35.653Z"
   },
   {
    "duration": 251,
    "start_time": "2023-05-03T17:25:25.328Z"
   },
   {
    "duration": 150,
    "start_time": "2023-05-03T17:25:39.917Z"
   },
   {
    "duration": 218,
    "start_time": "2023-05-03T17:25:52.512Z"
   },
   {
    "duration": 240,
    "start_time": "2023-05-03T17:27:19.371Z"
   },
   {
    "duration": 187,
    "start_time": "2023-05-03T17:27:30.319Z"
   },
   {
    "duration": 160,
    "start_time": "2023-05-03T17:28:01.314Z"
   },
   {
    "duration": 280,
    "start_time": "2023-05-03T17:28:14.444Z"
   },
   {
    "duration": 265,
    "start_time": "2023-05-03T17:28:25.753Z"
   },
   {
    "duration": 24,
    "start_time": "2023-05-03T17:30:51.907Z"
   },
   {
    "duration": 271,
    "start_time": "2023-05-03T17:31:03.459Z"
   },
   {
    "duration": 246,
    "start_time": "2023-05-03T17:31:09.828Z"
   },
   {
    "duration": 358,
    "start_time": "2023-05-03T17:31:24.939Z"
   },
   {
    "duration": 238,
    "start_time": "2023-05-03T17:31:38.308Z"
   },
   {
    "duration": 178,
    "start_time": "2023-05-03T17:32:14.044Z"
   },
   {
    "duration": 168,
    "start_time": "2023-05-03T17:32:36.406Z"
   },
   {
    "duration": 205,
    "start_time": "2023-05-03T17:33:11.509Z"
   },
   {
    "duration": 277,
    "start_time": "2023-05-03T17:33:16.456Z"
   },
   {
    "duration": 266,
    "start_time": "2023-05-03T17:33:22.942Z"
   },
   {
    "duration": 191,
    "start_time": "2023-05-03T17:33:44.952Z"
   },
   {
    "duration": 196,
    "start_time": "2023-05-03T17:33:52.505Z"
   },
   {
    "duration": 200,
    "start_time": "2023-05-03T17:34:02.461Z"
   },
   {
    "duration": 388,
    "start_time": "2023-05-03T17:34:24.267Z"
   },
   {
    "duration": 283,
    "start_time": "2023-05-03T17:34:32.262Z"
   },
   {
    "duration": 262,
    "start_time": "2023-05-03T17:34:53.917Z"
   },
   {
    "duration": 278,
    "start_time": "2023-05-03T17:35:12.288Z"
   },
   {
    "duration": 279,
    "start_time": "2023-05-03T17:35:33.599Z"
   },
   {
    "duration": 88,
    "start_time": "2023-05-03T17:35:46.072Z"
   },
   {
    "duration": 274,
    "start_time": "2023-05-03T17:35:50.468Z"
   },
   {
    "duration": 348,
    "start_time": "2023-05-03T17:36:00.318Z"
   },
   {
    "duration": 197,
    "start_time": "2023-05-03T17:36:05.940Z"
   },
   {
    "duration": 213,
    "start_time": "2023-05-03T17:37:02.129Z"
   },
   {
    "duration": 373,
    "start_time": "2023-05-03T17:37:07.665Z"
   },
   {
    "duration": 263,
    "start_time": "2023-05-03T17:37:17.255Z"
   },
   {
    "duration": 184,
    "start_time": "2023-05-03T17:38:08.828Z"
   },
   {
    "duration": 178,
    "start_time": "2023-05-03T17:38:24.669Z"
   },
   {
    "duration": 190,
    "start_time": "2023-05-03T17:38:37.262Z"
   },
   {
    "duration": 191,
    "start_time": "2023-05-03T17:38:47.293Z"
   },
   {
    "duration": 77,
    "start_time": "2023-05-04T21:40:31.323Z"
   },
   {
    "duration": 6,
    "start_time": "2023-05-04T21:41:44.475Z"
   },
   {
    "duration": 2346,
    "start_time": "2023-05-04T21:41:49.961Z"
   },
   {
    "duration": 148,
    "start_time": "2023-05-04T21:41:52.309Z"
   },
   {
    "duration": 10,
    "start_time": "2023-05-04T21:41:52.461Z"
   },
   {
    "duration": 33,
    "start_time": "2023-05-04T21:41:52.645Z"
   },
   {
    "duration": 178,
    "start_time": "2023-05-04T21:41:53.365Z"
   },
   {
    "duration": 207,
    "start_time": "2023-05-04T21:42:02.672Z"
   },
   {
    "duration": 246,
    "start_time": "2023-05-04T21:42:03.744Z"
   },
   {
    "duration": 94,
    "start_time": "2023-05-04T21:42:41.261Z"
   },
   {
    "duration": 290,
    "start_time": "2023-05-04T21:42:45.519Z"
   },
   {
    "duration": 263,
    "start_time": "2023-05-04T21:42:46.705Z"
   },
   {
    "duration": 176,
    "start_time": "2023-05-04T21:43:52.249Z"
   },
   {
    "duration": 173,
    "start_time": "2023-05-04T21:44:00.274Z"
   },
   {
    "duration": 168,
    "start_time": "2023-05-04T21:44:18.100Z"
   },
   {
    "duration": 163,
    "start_time": "2023-05-04T21:44:40.193Z"
   },
   {
    "duration": 239,
    "start_time": "2023-05-04T21:44:49.045Z"
   },
   {
    "duration": 46,
    "start_time": "2023-05-04T21:51:18.435Z"
   },
   {
    "duration": 45,
    "start_time": "2023-05-04T21:52:10.060Z"
   },
   {
    "duration": 56,
    "start_time": "2023-05-04T21:53:24.580Z"
   },
   {
    "duration": 47,
    "start_time": "2023-05-04T21:56:11.219Z"
   },
   {
    "duration": 226,
    "start_time": "2023-05-04T21:57:41.772Z"
   },
   {
    "duration": 11,
    "start_time": "2023-05-04T21:58:44.121Z"
   },
   {
    "duration": 10,
    "start_time": "2023-05-04T21:58:48.365Z"
   },
   {
    "duration": 69,
    "start_time": "2023-05-04T21:58:52.492Z"
   },
   {
    "duration": 16,
    "start_time": "2023-05-04T21:59:03.026Z"
   },
   {
    "duration": 5,
    "start_time": "2023-05-04T21:59:09.026Z"
   },
   {
    "duration": 59,
    "start_time": "2023-05-04T21:59:10.488Z"
   },
   {
    "duration": 8,
    "start_time": "2023-05-04T21:59:11.105Z"
   },
   {
    "duration": 13,
    "start_time": "2023-05-04T21:59:11.984Z"
   },
   {
    "duration": 232,
    "start_time": "2023-05-04T21:59:13.499Z"
   },
   {
    "duration": 212,
    "start_time": "2023-05-04T21:59:14.123Z"
   },
   {
    "duration": 282,
    "start_time": "2023-05-04T21:59:14.581Z"
   },
   {
    "duration": 227,
    "start_time": "2023-05-04T21:59:15.419Z"
   },
   {
    "duration": 162,
    "start_time": "2023-05-04T21:59:15.997Z"
   },
   {
    "duration": 230,
    "start_time": "2023-05-04T21:59:17.398Z"
   },
   {
    "duration": 8,
    "start_time": "2023-05-04T21:59:21.755Z"
   },
   {
    "duration": 68,
    "start_time": "2023-05-04T21:59:24.699Z"
   },
   {
    "duration": 9,
    "start_time": "2023-05-04T21:59:55.306Z"
   },
   {
    "duration": 63,
    "start_time": "2023-05-04T21:59:58.294Z"
   },
   {
    "duration": 4,
    "start_time": "2023-05-04T22:00:47.709Z"
   },
   {
    "duration": 4,
    "start_time": "2023-05-04T22:01:14.103Z"
   },
   {
    "duration": 146,
    "start_time": "2023-05-04T22:01:14.707Z"
   },
   {
    "duration": 5,
    "start_time": "2023-05-04T22:01:35.476Z"
   },
   {
    "duration": 65,
    "start_time": "2023-05-04T22:01:35.483Z"
   },
   {
    "duration": 10,
    "start_time": "2023-05-04T22:01:35.550Z"
   },
   {
    "duration": 17,
    "start_time": "2023-05-04T22:01:35.563Z"
   },
   {
    "duration": 187,
    "start_time": "2023-05-04T22:01:35.582Z"
   },
   {
    "duration": 227,
    "start_time": "2023-05-04T22:01:35.770Z"
   },
   {
    "duration": 345,
    "start_time": "2023-05-04T22:01:35.999Z"
   },
   {
    "duration": 250,
    "start_time": "2023-05-04T22:01:36.349Z"
   },
   {
    "duration": 194,
    "start_time": "2023-05-04T22:01:36.601Z"
   },
   {
    "duration": 265,
    "start_time": "2023-05-04T22:01:36.798Z"
   },
   {
    "duration": 5,
    "start_time": "2023-05-04T22:01:37.065Z"
   },
   {
    "duration": 5,
    "start_time": "2023-05-04T22:02:11.545Z"
   },
   {
    "duration": 124,
    "start_time": "2023-05-04T22:02:12.106Z"
   },
   {
    "duration": 11,
    "start_time": "2023-05-04T22:02:19.420Z"
   },
   {
    "duration": 4,
    "start_time": "2023-05-04T22:02:27.177Z"
   },
   {
    "duration": 58,
    "start_time": "2023-05-04T22:02:28.362Z"
   },
   {
    "duration": 11,
    "start_time": "2023-05-04T22:02:28.786Z"
   },
   {
    "duration": 14,
    "start_time": "2023-05-04T22:02:29.868Z"
   },
   {
    "duration": 164,
    "start_time": "2023-05-04T22:02:31.467Z"
   },
   {
    "duration": 253,
    "start_time": "2023-05-04T22:02:31.943Z"
   },
   {
    "duration": 258,
    "start_time": "2023-05-04T22:02:32.357Z"
   },
   {
    "duration": 354,
    "start_time": "2023-05-04T22:02:32.758Z"
   },
   {
    "duration": 176,
    "start_time": "2023-05-04T22:02:33.156Z"
   },
   {
    "duration": 229,
    "start_time": "2023-05-04T22:02:33.602Z"
   },
   {
    "duration": 5,
    "start_time": "2023-05-04T22:02:34.447Z"
   },
   {
    "duration": 130,
    "start_time": "2023-05-04T22:02:34.745Z"
   },
   {
    "duration": 70,
    "start_time": "2023-05-04T22:02:45.130Z"
   },
   {
    "duration": 28,
    "start_time": "2023-05-04T22:03:23.231Z"
   },
   {
    "duration": 1935,
    "start_time": "2023-05-04T22:03:24.614Z"
   },
   {
    "duration": 1456,
    "start_time": "2023-05-04T22:11:01.638Z"
   },
   {
    "duration": 71,
    "start_time": "2023-05-04T22:11:03.096Z"
   },
   {
    "duration": 14,
    "start_time": "2023-05-04T22:11:03.170Z"
   },
   {
    "duration": 21,
    "start_time": "2023-05-04T22:11:03.875Z"
   },
   {
    "duration": 196,
    "start_time": "2023-05-04T22:11:04.781Z"
   },
   {
    "duration": 230,
    "start_time": "2023-05-04T22:11:05.288Z"
   },
   {
    "duration": 263,
    "start_time": "2023-05-04T22:11:05.764Z"
   },
   {
    "duration": 304,
    "start_time": "2023-05-04T22:11:06.117Z"
   },
   {
    "duration": 178,
    "start_time": "2023-05-04T22:11:06.536Z"
   },
   {
    "duration": 279,
    "start_time": "2023-05-04T22:11:06.935Z"
   },
   {
    "duration": 3,
    "start_time": "2023-05-04T22:11:07.351Z"
   },
   {
    "duration": 173,
    "start_time": "2023-05-04T22:11:08.011Z"
   },
   {
    "duration": 31,
    "start_time": "2023-05-04T22:11:09.492Z"
   },
   {
    "duration": 1573,
    "start_time": "2023-05-04T22:11:12.095Z"
   },
   {
    "duration": 451335,
    "start_time": "2023-05-04T22:11:16.898Z"
   },
   {
    "duration": 0,
    "start_time": "2023-05-04T22:18:48.235Z"
   },
   {
    "duration": 60,
    "start_time": "2023-05-04T22:19:24.664Z"
   },
   {
    "duration": 1879,
    "start_time": "2023-05-05T08:07:32.838Z"
   },
   {
    "duration": 156,
    "start_time": "2023-05-05T08:07:34.719Z"
   },
   {
    "duration": 10,
    "start_time": "2023-05-05T08:07:34.878Z"
   },
   {
    "duration": 31,
    "start_time": "2023-05-05T08:07:34.890Z"
   },
   {
    "duration": 183,
    "start_time": "2023-05-05T08:07:34.923Z"
   },
   {
    "duration": 231,
    "start_time": "2023-05-05T08:07:35.108Z"
   },
   {
    "duration": 270,
    "start_time": "2023-05-05T08:07:35.341Z"
   },
   {
    "duration": 288,
    "start_time": "2023-05-05T08:07:35.613Z"
   },
   {
    "duration": 174,
    "start_time": "2023-05-05T08:07:35.902Z"
   },
   {
    "duration": 241,
    "start_time": "2023-05-05T08:07:36.078Z"
   },
   {
    "duration": 5,
    "start_time": "2023-05-05T08:07:36.320Z"
   },
   {
    "duration": 151,
    "start_time": "2023-05-05T08:07:36.326Z"
   },
   {
    "duration": 23,
    "start_time": "2023-05-05T08:07:36.479Z"
   },
   {
    "duration": 1454,
    "start_time": "2023-05-05T08:07:36.503Z"
   },
   {
    "duration": 1825,
    "start_time": "2023-05-05T09:48:30.473Z"
   },
   {
    "duration": 208,
    "start_time": "2023-05-05T09:48:32.306Z"
   },
   {
    "duration": 25,
    "start_time": "2023-05-05T09:48:32.517Z"
   },
   {
    "duration": 22,
    "start_time": "2023-05-05T09:48:33.590Z"
   },
   {
    "duration": 188,
    "start_time": "2023-05-05T09:48:35.497Z"
   },
   {
    "duration": 243,
    "start_time": "2023-05-05T09:48:35.929Z"
   },
   {
    "duration": 298,
    "start_time": "2023-05-05T09:48:36.385Z"
   },
   {
    "duration": 352,
    "start_time": "2023-05-05T09:48:37.129Z"
   },
   {
    "duration": 249,
    "start_time": "2023-05-05T09:48:37.838Z"
   },
   {
    "duration": 303,
    "start_time": "2023-05-05T09:48:38.564Z"
   },
   {
    "duration": 4,
    "start_time": "2023-05-05T09:48:40.233Z"
   },
   {
    "duration": 187,
    "start_time": "2023-05-05T09:48:42.293Z"
   },
   {
    "duration": 89,
    "start_time": "2023-05-05T09:49:30.924Z"
   },
   {
    "duration": 104,
    "start_time": "2023-05-05T09:49:37.448Z"
   },
   {
    "duration": 34,
    "start_time": "2023-05-05T09:49:41.222Z"
   },
   {
    "duration": 2087,
    "start_time": "2023-05-05T09:49:42.205Z"
   },
   {
    "duration": 980801,
    "start_time": "2023-05-05T09:49:44.301Z"
   },
   {
    "duration": 5,
    "start_time": "2023-05-05T10:52:30.929Z"
   },
   {
    "duration": 62,
    "start_time": "2023-05-05T10:52:32.338Z"
   },
   {
    "duration": 21,
    "start_time": "2023-05-05T10:52:33.089Z"
   },
   {
    "duration": 16,
    "start_time": "2023-05-05T10:52:33.770Z"
   },
   {
    "duration": 163,
    "start_time": "2023-05-05T10:52:35.091Z"
   },
   {
    "duration": 245,
    "start_time": "2023-05-05T10:52:35.584Z"
   },
   {
    "duration": 272,
    "start_time": "2023-05-05T10:52:36.037Z"
   },
   {
    "duration": 339,
    "start_time": "2023-05-05T10:52:36.535Z"
   },
   {
    "duration": 188,
    "start_time": "2023-05-05T10:52:37.119Z"
   },
   {
    "duration": 260,
    "start_time": "2023-05-05T10:52:37.877Z"
   },
   {
    "duration": 4,
    "start_time": "2023-05-05T10:52:38.269Z"
   },
   {
    "duration": 160,
    "start_time": "2023-05-05T10:52:46.223Z"
   },
   {
    "duration": 24,
    "start_time": "2023-05-05T10:52:49.575Z"
   },
   {
    "duration": 2318,
    "start_time": "2023-05-05T10:52:51.400Z"
   }
  ],
  "accelerator": "GPU",
  "colab": {
   "provenance": []
  },
  "gpuClass": "standard",
  "kernelspec": {
   "display_name": "Python 3 (ipykernel)",
   "language": "python",
   "name": "python3"
  },
  "language_info": {
   "codemirror_mode": {
    "name": "ipython",
    "version": 3
   },
   "file_extension": ".py",
   "mimetype": "text/x-python",
   "name": "python",
   "nbconvert_exporter": "python",
   "pygments_lexer": "ipython3",
   "version": "3.11.2"
  },
  "toc": {
   "base_numbering": 1,
   "nav_menu": {},
   "number_sections": true,
   "sideBar": true,
   "skip_h1_title": true,
   "title_cell": "Table of Contents",
   "title_sidebar": "Contents",
   "toc_cell": false,
   "toc_position": {},
   "toc_section_display": true,
   "toc_window_display": false
  }
 },
 "nbformat": 4,
 "nbformat_minor": 1
}
