{
 "cells": [
  {
   "cell_type": "markdown",
   "metadata": {
    "id": "CUK0cJvwRtjd"
   },
   "source": [
    "## **Предсказание стоимости автомобиля**\n",
    "\n",
    "**Цель исследования:**\n",
    "\n",
    "Построить модель для определения стоимости автомобиля, с учетом качества предсказания, скорости предсказания и времени обучения. При оценке качества использовать метрику RMSE.\n",
    "\n",
    "**Ход исследования:**\n",
    "- Загрузка и подготовка данных.\n",
    "- Обучение разных моделей и поиск лучшей.\n",
    "- Проведение анализа скорости и качества моделей\n",
    "\n"
   ]
  },
  {
   "cell_type": "markdown",
   "metadata": {
    "id": "awY6Ba18mEvE"
   },
   "source": [
    "**Описание данных:**\n",
    "\n",
    "**Признаки**\n",
    "- DateCrawled — дата скачивания анкеты из базы\n",
    "- VehicleType — тип автомобильного кузова\n",
    "- RegistrationYear — год регистрации автомобиля\n",
    "- Gearbox — тип коробки передач\n",
    "- Power — мощность (л. с.)\n",
    "- Model — модель автомобиля\n",
    "- Kilometer — пробег (км)\n",
    "- RegistrationMonth — месяц регистрации автомобиля\n",
    "- FuelType — тип топлива\n",
    "- Brand — марка автомобиля\n",
    "- NotRepaired — была машина в ремонте или нет\n",
    "- DateCreated — дата создания анкеты\n",
    "- NumberOfPictures — количество фотографий автомобиля\n",
    "- PostalCode — почтовый индекс владельца анкеты (пользователя)\n",
    "- LastSeen — дата последней активности пользователя\n",
    "\n",
    "**Целевой признак**\n",
    "- Price — цена (евро)"
   ]
  },
  {
   "cell_type": "code",
   "execution_count": 1,
   "metadata": {},
   "outputs": [],
   "source": [
    "# установим последнюю версию scikit-learn, если она не установлена\n",
    "# теперь для OneHotEncoder работает одновремеено drop='first' и handle_unknown='ignore'\n",
    "!pip -q install scikit-learn==1.1.3"
   ]
  },
  {
   "cell_type": "code",
   "execution_count": 2,
   "metadata": {
    "id": "9a-4PnfOSdVu"
   },
   "outputs": [],
   "source": [
    "import pandas as pd\n",
    "import seaborn as sns\n",
    "import numpy as np\n",
    "import time\n",
    "import matplotlib.pyplot as plt\n",
    "import matplotlib.pyplot as plt\n",
    "from sklearn.model_selection import train_test_split\n",
    "from sklearn.metrics import mean_squared_error\n",
    "from sklearn.preprocessing import StandardScaler\n",
    "import random\n",
    "from sklearn.model_selection import GridSearchCV\n",
    "from lightgbm import LGBMRegressor\n",
    "from sklearn.preprocessing import OneHotEncoder\n",
    "from sklearn.preprocessing import OrdinalEncoder\n",
    "from sklearn.linear_model import LinearRegression\n",
    "from sklearn.preprocessing import OrdinalEncoder"
   ]
  },
  {
   "cell_type": "code",
   "execution_count": 3,
   "metadata": {
    "id": "qslm400MpnX9"
   },
   "outputs": [],
   "source": [
    "from sklearn.model_selection import ParameterGrid\n",
    "import torch\n",
    "import torch.nn as nn\n",
    "from torch.utils.data import TensorDataset,DataLoader\n",
    "from tqdm.notebook import tqdm"
   ]
  },
  {
   "cell_type": "markdown",
   "metadata": {
    "id": "41-714pKUPvA"
   },
   "source": [
    "## 1. Загрузите и подготовьте данные"
   ]
  },
  {
   "cell_type": "markdown",
   "metadata": {
    "id": "Yj8USpD9V7EU"
   },
   "source": [
    "### 1.1. Обзор данных"
   ]
  },
  {
   "cell_type": "code",
   "execution_count": 4,
   "metadata": {
    "colab": {
     "base_uri": "https://localhost:8080/",
     "height": 926
    },
    "id": "jNj4eyb_UzIu",
    "outputId": "602b31e6-ff69-4b17-d343-cf3ee6666eba"
   },
   "outputs": [
    {
     "data": {
      "text/html": [
       "<div>\n",
       "<style scoped>\n",
       "    .dataframe tbody tr th:only-of-type {\n",
       "        vertical-align: middle;\n",
       "    }\n",
       "\n",
       "    .dataframe tbody tr th {\n",
       "        vertical-align: top;\n",
       "    }\n",
       "\n",
       "    .dataframe thead th {\n",
       "        text-align: right;\n",
       "    }\n",
       "</style>\n",
       "<table border=\"1\" class=\"dataframe\">\n",
       "  <thead>\n",
       "    <tr style=\"text-align: right;\">\n",
       "      <th></th>\n",
       "      <th>DateCrawled</th>\n",
       "      <th>Price</th>\n",
       "      <th>VehicleType</th>\n",
       "      <th>RegistrationYear</th>\n",
       "      <th>Gearbox</th>\n",
       "      <th>Power</th>\n",
       "      <th>Model</th>\n",
       "      <th>Kilometer</th>\n",
       "      <th>RegistrationMonth</th>\n",
       "      <th>FuelType</th>\n",
       "      <th>Brand</th>\n",
       "      <th>Repaired</th>\n",
       "      <th>DateCreated</th>\n",
       "      <th>NumberOfPictures</th>\n",
       "      <th>PostalCode</th>\n",
       "      <th>LastSeen</th>\n",
       "    </tr>\n",
       "  </thead>\n",
       "  <tbody>\n",
       "    <tr>\n",
       "      <th>0</th>\n",
       "      <td>2016-03-24 11:52:17</td>\n",
       "      <td>480</td>\n",
       "      <td>NaN</td>\n",
       "      <td>1993</td>\n",
       "      <td>manual</td>\n",
       "      <td>0</td>\n",
       "      <td>golf</td>\n",
       "      <td>150000</td>\n",
       "      <td>0</td>\n",
       "      <td>petrol</td>\n",
       "      <td>volkswagen</td>\n",
       "      <td>NaN</td>\n",
       "      <td>2016-03-24 00:00:00</td>\n",
       "      <td>0</td>\n",
       "      <td>70435</td>\n",
       "      <td>2016-04-07 03:16:57</td>\n",
       "    </tr>\n",
       "    <tr>\n",
       "      <th>1</th>\n",
       "      <td>2016-03-24 10:58:45</td>\n",
       "      <td>18300</td>\n",
       "      <td>coupe</td>\n",
       "      <td>2011</td>\n",
       "      <td>manual</td>\n",
       "      <td>190</td>\n",
       "      <td>NaN</td>\n",
       "      <td>125000</td>\n",
       "      <td>5</td>\n",
       "      <td>gasoline</td>\n",
       "      <td>audi</td>\n",
       "      <td>yes</td>\n",
       "      <td>2016-03-24 00:00:00</td>\n",
       "      <td>0</td>\n",
       "      <td>66954</td>\n",
       "      <td>2016-04-07 01:46:50</td>\n",
       "    </tr>\n",
       "    <tr>\n",
       "      <th>2</th>\n",
       "      <td>2016-03-14 12:52:21</td>\n",
       "      <td>9800</td>\n",
       "      <td>suv</td>\n",
       "      <td>2004</td>\n",
       "      <td>auto</td>\n",
       "      <td>163</td>\n",
       "      <td>grand</td>\n",
       "      <td>125000</td>\n",
       "      <td>8</td>\n",
       "      <td>gasoline</td>\n",
       "      <td>jeep</td>\n",
       "      <td>NaN</td>\n",
       "      <td>2016-03-14 00:00:00</td>\n",
       "      <td>0</td>\n",
       "      <td>90480</td>\n",
       "      <td>2016-04-05 12:47:46</td>\n",
       "    </tr>\n",
       "    <tr>\n",
       "      <th>3</th>\n",
       "      <td>2016-03-17 16:54:04</td>\n",
       "      <td>1500</td>\n",
       "      <td>small</td>\n",
       "      <td>2001</td>\n",
       "      <td>manual</td>\n",
       "      <td>75</td>\n",
       "      <td>golf</td>\n",
       "      <td>150000</td>\n",
       "      <td>6</td>\n",
       "      <td>petrol</td>\n",
       "      <td>volkswagen</td>\n",
       "      <td>no</td>\n",
       "      <td>2016-03-17 00:00:00</td>\n",
       "      <td>0</td>\n",
       "      <td>91074</td>\n",
       "      <td>2016-03-17 17:40:17</td>\n",
       "    </tr>\n",
       "    <tr>\n",
       "      <th>4</th>\n",
       "      <td>2016-03-31 17:25:20</td>\n",
       "      <td>3600</td>\n",
       "      <td>small</td>\n",
       "      <td>2008</td>\n",
       "      <td>manual</td>\n",
       "      <td>69</td>\n",
       "      <td>fabia</td>\n",
       "      <td>90000</td>\n",
       "      <td>7</td>\n",
       "      <td>gasoline</td>\n",
       "      <td>skoda</td>\n",
       "      <td>no</td>\n",
       "      <td>2016-03-31 00:00:00</td>\n",
       "      <td>0</td>\n",
       "      <td>60437</td>\n",
       "      <td>2016-04-06 10:17:21</td>\n",
       "    </tr>\n",
       "  </tbody>\n",
       "</table>\n",
       "</div>"
      ],
      "text/plain": [
       "           DateCrawled  Price VehicleType  RegistrationYear Gearbox  Power  \\\n",
       "0  2016-03-24 11:52:17    480         NaN              1993  manual      0   \n",
       "1  2016-03-24 10:58:45  18300       coupe              2011  manual    190   \n",
       "2  2016-03-14 12:52:21   9800         suv              2004    auto    163   \n",
       "3  2016-03-17 16:54:04   1500       small              2001  manual     75   \n",
       "4  2016-03-31 17:25:20   3600       small              2008  manual     69   \n",
       "\n",
       "   Model  Kilometer  RegistrationMonth  FuelType       Brand Repaired  \\\n",
       "0   golf     150000                  0    petrol  volkswagen      NaN   \n",
       "1    NaN     125000                  5  gasoline        audi      yes   \n",
       "2  grand     125000                  8  gasoline        jeep      NaN   \n",
       "3   golf     150000                  6    petrol  volkswagen       no   \n",
       "4  fabia      90000                  7  gasoline       skoda       no   \n",
       "\n",
       "           DateCreated  NumberOfPictures  PostalCode             LastSeen  \n",
       "0  2016-03-24 00:00:00                 0       70435  2016-04-07 03:16:57  \n",
       "1  2016-03-24 00:00:00                 0       66954  2016-04-07 01:46:50  \n",
       "2  2016-03-14 00:00:00                 0       90480  2016-04-05 12:47:46  \n",
       "3  2016-03-17 00:00:00                 0       91074  2016-03-17 17:40:17  \n",
       "4  2016-03-31 00:00:00                 0       60437  2016-04-06 10:17:21  "
      ]
     },
     "metadata": {},
     "output_type": "display_data"
    },
    {
     "name": "stdout",
     "output_type": "stream",
     "text": [
      "<class 'pandas.core.frame.DataFrame'>\n",
      "RangeIndex: 354369 entries, 0 to 354368\n",
      "Data columns (total 16 columns):\n",
      " #   Column             Non-Null Count   Dtype \n",
      "---  ------             --------------   ----- \n",
      " 0   DateCrawled        354369 non-null  object\n",
      " 1   Price              354369 non-null  int64 \n",
      " 2   VehicleType        316879 non-null  object\n",
      " 3   RegistrationYear   354369 non-null  int64 \n",
      " 4   Gearbox            334536 non-null  object\n",
      " 5   Power              354369 non-null  int64 \n",
      " 6   Model              334664 non-null  object\n",
      " 7   Kilometer          354369 non-null  int64 \n",
      " 8   RegistrationMonth  354369 non-null  int64 \n",
      " 9   FuelType           321474 non-null  object\n",
      " 10  Brand              354369 non-null  object\n",
      " 11  Repaired           283215 non-null  object\n",
      " 12  DateCreated        354369 non-null  object\n",
      " 13  NumberOfPictures   354369 non-null  int64 \n",
      " 14  PostalCode         354369 non-null  int64 \n",
      " 15  LastSeen           354369 non-null  object\n",
      "dtypes: int64(7), object(9)\n",
      "memory usage: 43.3+ MB\n"
     ]
    }
   ],
   "source": [
    "try:\n",
    "    data = pd.read_csv(\"/datasets/autos.csv\")\n",
    "except:\n",
    "    data=pd.read_csv('https://code.s3.yandex.net/datasets/autos.csv', error_bad_lines=False)\n",
    "display(data.head())\n",
    "data.info()"
   ]
  },
  {
   "cell_type": "markdown",
   "metadata": {
    "id": "2lWZpmUEFN30"
   },
   "source": [
    "### 1.2. Поиск особенностей в данных"
   ]
  },
  {
   "cell_type": "code",
   "execution_count": 5,
   "metadata": {
    "colab": {
     "base_uri": "https://localhost:8080/",
     "height": 440
    },
    "id": "EBBd8al8FT4y",
    "outputId": "8c00b62b-8890-4009-a8bb-f459fbe70bd0"
   },
   "outputs": [
    {
     "data": {
      "image/png": "[encoded data removed]",
      "text/plain": [
       "<Figure size 1440x720 with 6 Axes>"
      ]
     },
     "metadata": {
      "needs_background": "light"
     },
     "output_type": "display_data"
    }
   ],
   "source": [
    "fig, axes = plt.subplots(2, 3, figsize=(20,10))\n",
    "fig.suptitle('Features histplots')\n",
    "i=0\n",
    "j=0\n",
    "y_limits = [[20000, 50, 100], [20000, 50000, 10000]]\n",
    "x_limits = [[300000, 300000,300000], [150000, 50, 1000]]\n",
    "bins = [[50, 20, 50], [50, 12, 12]]\n",
    "\n",
    "for column in ['Price', \"RegistrationYear\", \"Power\", \"Kilometer\", \"RegistrationMonth\", \"NumberOfPictures\"]:\n",
    "    data[column].hist(bins = bins[i][j] , ax=axes[i][j],color = \"mediumslateblue\")\n",
    "    axes[i][j].set_title(column)\n",
    "    axes[i][j].set_ylim(0, y_limits[i][j])\n",
    "    if i!=1 and j!=0:\n",
    "        axes[i][j].set_xlim(0, 20000)\n",
    "    j+=1\n",
    "    if j==3:\n",
    "        i+=1\n",
    "        j=0\n",
    "    if i==2:\n",
    "        break\n",
    "\n",
    "plt.show()"
   ]
  },
  {
   "cell_type": "code",
   "execution_count": 6,
   "metadata": {
    "colab": {
     "base_uri": "https://localhost:8080/"
    },
    "id": "yHOEz5yb5C7B",
    "outputId": "2e8caf15-bb9f-4144-eec9-ad869650022f"
   },
   "outputs": [
    {
     "data": {
      "text/plain": [
       "array([1000, 1001, 1039, 1111, 1200, 1234, 1253, 1255, 1300, 1400, 1500,\n",
       "       1600, 1602, 1688, 1800, 1910, 1915, 1919, 1920, 1923, 1925, 1927,\n",
       "       1928, 1929, 1930, 1931, 1932, 1933, 1934, 1935, 1936, 1937, 1938,\n",
       "       1940, 1941, 1942, 1943, 1944, 1945, 1946, 1947, 1948, 1949, 1950,\n",
       "       1951, 1952, 1953, 1954, 1955, 1956, 1957, 1958, 1959, 1960, 1961,\n",
       "       1962, 1963, 1964, 1965, 1966, 1967, 1968, 1969, 1970, 1971, 1972,\n",
       "       1973, 1974, 1975, 1976, 1977, 1978, 1979, 1980, 1981, 1982, 1983,\n",
       "       1984, 1985, 1986, 1987, 1988, 1989, 1990, 1991, 1992, 1993, 1994,\n",
       "       1995, 1996, 1997, 1998, 1999, 2000, 2001, 2002, 2003, 2004, 2005,\n",
       "       2006, 2007, 2008, 2009, 2010, 2011, 2012, 2013, 2014, 2015, 2016,\n",
       "       2017, 2018, 2019, 2066, 2200, 2222, 2290, 2500, 2800, 2900, 3000,\n",
       "       3200, 3500, 3700, 3800, 4000, 4100, 4500, 4800, 5000, 5300, 5555,\n",
       "       5600, 5900, 5911, 6000, 6500, 7000, 7100, 7500, 7800, 8000, 8200,\n",
       "       8455, 8500, 8888, 9000, 9229, 9450, 9996, 9999])"
      ]
     },
     "execution_count": 6,
     "metadata": {},
     "output_type": "execute_result"
    }
   ],
   "source": [
    "data[\"RegistrationYear\"].sort_values().unique()"
   ]
  },
  {
   "cell_type": "code",
   "execution_count": 7,
   "metadata": {
    "colab": {
     "base_uri": "https://localhost:8080/"
    },
    "id": "3UnOWaaz5Z8A",
    "outputId": "a6e72c62-e574-4eb5-d6e3-4223965952c4"
   },
   "outputs": [
    {
     "data": {
      "text/plain": [
       "array([    0,     1,     2, ..., 19998, 19999, 20000])"
      ]
     },
     "execution_count": 7,
     "metadata": {},
     "output_type": "execute_result"
    }
   ],
   "source": [
    "data[\"Price\"].sort_values().unique()"
   ]
  },
  {
   "cell_type": "code",
   "execution_count": 8,
   "metadata": {
    "colab": {
     "base_uri": "https://localhost:8080/"
    },
    "id": "RuEAYmA_5u2-",
    "outputId": "35eb086b-00b2-4f19-fd0f-e8a93b66a5a9"
   },
   "outputs": [
    {
     "data": {
      "text/plain": [
       "array([0])"
      ]
     },
     "execution_count": 8,
     "metadata": {},
     "output_type": "execute_result"
    }
   ],
   "source": [
    "data[\"NumberOfPictures\"].sort_values().unique()"
   ]
  },
  {
   "cell_type": "code",
   "execution_count": 9,
   "metadata": {
    "colab": {
     "base_uri": "https://localhost:8080/"
    },
    "id": "1sTIoXqBnQTo",
    "outputId": "f45ee669-6571-40a9-dba0-aaa6c2f5604c"
   },
   "outputs": [
    {
     "data": {
      "text/plain": [
       "array(['2014-03-10 00:00:00', '2015-03-20 00:00:00',\n",
       "       '2015-06-18 00:00:00', '2015-08-07 00:00:00',\n",
       "       '2015-08-10 00:00:00', '2015-09-04 00:00:00',\n",
       "       '2015-09-09 00:00:00', '2015-11-02 00:00:00',\n",
       "       '2015-11-08 00:00:00', '2015-11-10 00:00:00',\n",
       "       '2015-11-12 00:00:00', '2015-11-17 00:00:00',\n",
       "       '2015-11-23 00:00:00', '2015-11-24 00:00:00',\n",
       "       '2015-12-05 00:00:00', '2015-12-06 00:00:00',\n",
       "       '2015-12-17 00:00:00', '2015-12-27 00:00:00',\n",
       "       '2015-12-30 00:00:00', '2016-01-02 00:00:00',\n",
       "       '2016-01-03 00:00:00', '2016-01-06 00:00:00',\n",
       "       '2016-01-07 00:00:00', '2016-01-08 00:00:00',\n",
       "       '2016-01-10 00:00:00', '2016-01-13 00:00:00',\n",
       "       '2016-01-15 00:00:00', '2016-01-16 00:00:00',\n",
       "       '2016-01-17 00:00:00', '2016-01-18 00:00:00',\n",
       "       '2016-01-19 00:00:00', '2016-01-20 00:00:00',\n",
       "       '2016-01-22 00:00:00', '2016-01-23 00:00:00',\n",
       "       '2016-01-24 00:00:00', '2016-01-25 00:00:00',\n",
       "       '2016-01-26 00:00:00', '2016-01-27 00:00:00',\n",
       "       '2016-01-28 00:00:00', '2016-01-29 00:00:00',\n",
       "       '2016-01-30 00:00:00', '2016-01-31 00:00:00',\n",
       "       '2016-02-01 00:00:00', '2016-02-02 00:00:00',\n",
       "       '2016-02-03 00:00:00', '2016-02-04 00:00:00',\n",
       "       '2016-02-05 00:00:00', '2016-02-06 00:00:00',\n",
       "       '2016-02-07 00:00:00', '2016-02-08 00:00:00',\n",
       "       '2016-02-09 00:00:00', '2016-02-10 00:00:00',\n",
       "       '2016-02-11 00:00:00', '2016-02-12 00:00:00',\n",
       "       '2016-02-13 00:00:00', '2016-02-14 00:00:00',\n",
       "       '2016-02-15 00:00:00', '2016-02-16 00:00:00',\n",
       "       '2016-02-17 00:00:00', '2016-02-18 00:00:00',\n",
       "       '2016-02-19 00:00:00', '2016-02-20 00:00:00',\n",
       "       '2016-02-21 00:00:00', '2016-02-22 00:00:00',\n",
       "       '2016-02-23 00:00:00', '2016-02-24 00:00:00',\n",
       "       '2016-02-25 00:00:00', '2016-02-26 00:00:00',\n",
       "       '2016-02-27 00:00:00', '2016-02-28 00:00:00',\n",
       "       '2016-02-29 00:00:00', '2016-03-01 00:00:00',\n",
       "       '2016-03-02 00:00:00', '2016-03-03 00:00:00',\n",
       "       '2016-03-04 00:00:00', '2016-03-05 00:00:00',\n",
       "       '2016-03-06 00:00:00', '2016-03-07 00:00:00',\n",
       "       '2016-03-08 00:00:00', '2016-03-09 00:00:00',\n",
       "       '2016-03-10 00:00:00', '2016-03-11 00:00:00',\n",
       "       '2016-03-12 00:00:00', '2016-03-13 00:00:00',\n",
       "       '2016-03-14 00:00:00', '2016-03-15 00:00:00',\n",
       "       '2016-03-16 00:00:00', '2016-03-17 00:00:00',\n",
       "       '2016-03-18 00:00:00', '2016-03-19 00:00:00',\n",
       "       '2016-03-20 00:00:00', '2016-03-21 00:00:00',\n",
       "       '2016-03-22 00:00:00', '2016-03-23 00:00:00',\n",
       "       '2016-03-24 00:00:00', '2016-03-25 00:00:00',\n",
       "       '2016-03-26 00:00:00', '2016-03-27 00:00:00',\n",
       "       '2016-03-28 00:00:00', '2016-03-29 00:00:00',\n",
       "       '2016-03-30 00:00:00', '2016-03-31 00:00:00',\n",
       "       '2016-04-01 00:00:00', '2016-04-02 00:00:00',\n",
       "       '2016-04-03 00:00:00', '2016-04-04 00:00:00',\n",
       "       '2016-04-05 00:00:00', '2016-04-06 00:00:00',\n",
       "       '2016-04-07 00:00:00'], dtype=object)"
      ]
     },
     "execution_count": 9,
     "metadata": {},
     "output_type": "execute_result"
    }
   ],
   "source": [
    "data[\"DateCreated\"].sort_values().unique()"
   ]
  },
  {
   "cell_type": "markdown",
   "metadata": {
    "id": "ckGBBCsEdDss"
   },
   "source": [
    "Как видим - среди признаков неинформативным является признак с числом картинок в объявлении, его можно удалить, т.к. все значения в нем сосредоточены в 0. Также можно заметить странную особенность - в столбце Price не менее 20000 объявлений с нулевой стоимостью. Таже имеются позиции в столбце Power существуют объекты с нулевой мощностью или мощностью, превышающей 2500 л.с. Также в столбце RegistrationYear наблюдаем значения, превышающие текущий год или значения ранее 1900г. Столбцы с датами создания анкеты, последней активности пользователя и даты скачивания анкеты не являются значимыми."
   ]
  },
  {
   "cell_type": "code",
   "execution_count": 10,
   "metadata": {
    "colab": {
     "base_uri": "https://localhost:8080/",
     "height": 448
    },
    "id": "anrGDkg2ofn_",
    "outputId": "d9a2a489-a2c5-4740-b515-62bffc3fcf16"
   },
   "outputs": [
    {
     "data": {
      "image/png": "[encoded data removed]",
      "text/plain": [
       "<Figure size 1440x720 with 6 Axes>"
      ]
     },
     "metadata": {
      "needs_background": "light"
     },
     "output_type": "display_data"
    }
   ],
   "source": [
    "fig, axes = plt.subplots(2, 3, figsize=(20,10))\n",
    "fig.suptitle('Features boxplots')\n",
    "i=0\n",
    "j=0\n",
    "\n",
    "for column in ['Price', \"RegistrationYear\", \"Power\", \"Kilometer\", \"RegistrationMonth\", \"NumberOfPictures\"]:\n",
    "        sns.set_palette(\"pastel\")\n",
    "        sns.set_style(\"whitegrid\")\n",
    "        sns.boxplot(ax=axes[i][j],data = data[column]).set( xlabel = column, ylabel = 'values', xlim=(-2, 2))\n",
    "        j+=1\n",
    "        if j==3:\n",
    "            i+=1\n",
    "            j=0\n",
    "        if i==2:\n",
    "            break\n",
    "plt.show()"
   ]
  },
  {
   "cell_type": "markdown",
   "metadata": {
    "id": "PBC3sBMEUdW_"
   },
   "source": [
    "### 1.3. Удаление неинформативных признаков"
   ]
  },
  {
   "cell_type": "code",
   "execution_count": 11,
   "metadata": {
    "id": "zPtWvoBA4t1T"
   },
   "outputs": [],
   "source": [
    "data = data.drop(columns= [\"NumberOfPictures\", \"PostalCode\", \"DateCrawled\", \"LastSeen\", \"DateCreated\"])"
   ]
  },
  {
   "cell_type": "markdown",
   "metadata": {
    "id": "kt82XLx72MmP"
   },
   "source": [
    "### 1.4. Обработка аномальных значений и пропусков в данных"
   ]
  },
  {
   "cell_type": "code",
   "execution_count": 12,
   "metadata": {
    "colab": {
     "base_uri": "https://localhost:8080/"
    },
    "id": "4_46NWZ5FjZx",
    "outputId": "13fc2dca-47e8-47a1-ee78-75a6dfbe75be"
   },
   "outputs": [
    {
     "name": "stdout",
     "output_type": "stream",
     "text": [
      "Число строк с пропусками больше трех 8020\n"
     ]
    }
   ],
   "source": [
    "print(\"Число строк с пропусками больше трех\", data[data.isnull().sum(axis=1) >= 4][\"Price\"].count())"
   ]
  },
  {
   "cell_type": "markdown",
   "metadata": {
    "id": "hWBHwQHSbUY6"
   },
   "source": [
    "В данных присутствуют пропуски. Средний процент пропущенных значений по столбцам составляет 10%-12%. В столбце Repaired пропусков близится к 20%, что составляет значительную часть данных. "
   ]
  },
  {
   "cell_type": "code",
   "execution_count": 13,
   "metadata": {
    "colab": {
     "base_uri": "https://localhost:8080/"
    },
    "id": "z0_dtVZ72Z6B",
    "outputId": "ba9c46b9-9253-404e-b3e4-041335f6690a"
   },
   "outputs": [
    {
     "name": "stdout",
     "output_type": "stream",
     "text": [
      "before\n",
      "Price                    0\n",
      "VehicleType          29829\n",
      "RegistrationYear         0\n",
      "Gearbox              12664\n",
      "Power                    0\n",
      "Model                15659\n",
      "Kilometer                0\n",
      "RegistrationMonth        0\n",
      "FuelType             25319\n",
      "Brand                    0\n",
      "Repaired             63289\n",
      "dtype: int64\n",
      "\n",
      "after\n",
      "Price                0\n",
      "VehicleType          0\n",
      "RegistrationYear     0\n",
      "Gearbox              0\n",
      "Power                0\n",
      "Model                0\n",
      "Kilometer            0\n",
      "RegistrationMonth    0\n",
      "FuelType             0\n",
      "Brand                0\n",
      "Repaired             0\n",
      "dtype: int64\n"
     ]
    }
   ],
   "source": [
    "data = data[data.isnull().sum(axis=1) < 4]\n",
    "print(\"before\")\n",
    "print(data.isna().sum())\n",
    "for column in [\"VehicleType\", \"Gearbox\", \"Model\", \"FuelType\", 'Repaired']:\n",
    "    data[column] = data[column].fillna(\"unknown\")\n",
    "print()\n",
    "print(\"after\")\n",
    "print(data.isna().sum())"
   ]
  },
  {
   "cell_type": "markdown",
   "metadata": {
    "id": "Bp1G4xDhFd8n"
   },
   "source": [
    "Обработка аномальных значений"
   ]
  },
  {
   "cell_type": "code",
   "execution_count": 14,
   "metadata": {
    "colab": {
     "base_uri": "https://localhost:8080/"
    },
    "id": "M6uc6wj42Vru",
    "outputId": "a8210a71-4da1-457f-832c-7adc97fa67ec"
   },
   "outputs": [
    {
     "name": "stdout",
     "output_type": "stream",
     "text": [
      "Число аномальных значений в столбце Price: 10052\n",
      "Число аномальных значений в столбце Power: 34119\n",
      "Число аномальных значений в столбце RegistrationYear: 51\n"
     ]
    }
   ],
   "source": [
    "print(\"Число аномальных значений в столбце Price:\", data.loc[data[\"Price\"] <= 10, \"Price\"].count())\n",
    "print(\"Число аномальных значений в столбце Power:\", data.loc[(data[\"Power\"] < 5) | (data[\"Power\"] > 2500), \"Power\"].count())\n",
    "print(\"Число аномальных значений в столбце RegistrationYear:\", data.loc[(data[\"RegistrationYear\"] > 2023) | (data[\"RegistrationYear\"] < 1910), \"RegistrationYear\"].count())"
   ]
  },
  {
   "cell_type": "markdown",
   "metadata": {
    "id": "k07yCNkPEkKY"
   },
   "source": [
    "Процент аномальных данных довольно высок, данные с пропущенным годом и ценой можно удалить, а вот данные с незаполненной мощностью постараться заполнить."
   ]
  },
  {
   "cell_type": "code",
   "execution_count": 15,
   "metadata": {
    "id": "USnmGExSD5fM"
   },
   "outputs": [],
   "source": [
    "data = data[(data[\"RegistrationYear\"] > 1910) & (data[\"RegistrationYear\"] < 2023)]\n",
    "data = data[data[\"Price\"] > 10].reset_index(drop=True)"
   ]
  },
  {
   "cell_type": "code",
   "execution_count": 16,
   "metadata": {
    "colab": {
     "base_uri": "https://localhost:8080/",
     "height": 270
    },
    "id": "NKHQpaXOsoKU",
    "outputId": "06acb6f5-a952-4a93-98de-c68425937558"
   },
   "outputs": [
    {
     "data": {
      "text/html": [
       "<div>\n",
       "<style scoped>\n",
       "    .dataframe tbody tr th:only-of-type {\n",
       "        vertical-align: middle;\n",
       "    }\n",
       "\n",
       "    .dataframe tbody tr th {\n",
       "        vertical-align: top;\n",
       "    }\n",
       "\n",
       "    .dataframe thead th {\n",
       "        text-align: right;\n",
       "    }\n",
       "</style>\n",
       "<table border=\"1\" class=\"dataframe\">\n",
       "  <thead>\n",
       "    <tr style=\"text-align: right;\">\n",
       "      <th></th>\n",
       "      <th>Price</th>\n",
       "      <th>VehicleType</th>\n",
       "      <th>RegistrationYear</th>\n",
       "      <th>Gearbox</th>\n",
       "      <th>Power</th>\n",
       "      <th>Model</th>\n",
       "      <th>Kilometer</th>\n",
       "      <th>RegistrationMonth</th>\n",
       "      <th>FuelType</th>\n",
       "      <th>Brand</th>\n",
       "      <th>Repaired</th>\n",
       "    </tr>\n",
       "  </thead>\n",
       "  <tbody>\n",
       "    <tr>\n",
       "      <th>0</th>\n",
       "      <td>480</td>\n",
       "      <td>unknown</td>\n",
       "      <td>1993</td>\n",
       "      <td>manual</td>\n",
       "      <td>0</td>\n",
       "      <td>golf</td>\n",
       "      <td>150000</td>\n",
       "      <td>0</td>\n",
       "      <td>petrol</td>\n",
       "      <td>volkswagen</td>\n",
       "      <td>unknown</td>\n",
       "    </tr>\n",
       "    <tr>\n",
       "      <th>30</th>\n",
       "      <td>245</td>\n",
       "      <td>sedan</td>\n",
       "      <td>1994</td>\n",
       "      <td>unknown</td>\n",
       "      <td>0</td>\n",
       "      <td>golf</td>\n",
       "      <td>150000</td>\n",
       "      <td>2</td>\n",
       "      <td>petrol</td>\n",
       "      <td>volkswagen</td>\n",
       "      <td>no</td>\n",
       "    </tr>\n",
       "    <tr>\n",
       "      <th>35</th>\n",
       "      <td>1500</td>\n",
       "      <td>unknown</td>\n",
       "      <td>2016</td>\n",
       "      <td>unknown</td>\n",
       "      <td>0</td>\n",
       "      <td>kangoo</td>\n",
       "      <td>150000</td>\n",
       "      <td>1</td>\n",
       "      <td>gasoline</td>\n",
       "      <td>renault</td>\n",
       "      <td>no</td>\n",
       "    </tr>\n",
       "    <tr>\n",
       "      <th>51</th>\n",
       "      <td>4700</td>\n",
       "      <td>wagon</td>\n",
       "      <td>2005</td>\n",
       "      <td>manual</td>\n",
       "      <td>0</td>\n",
       "      <td>signum</td>\n",
       "      <td>150000</td>\n",
       "      <td>0</td>\n",
       "      <td>unknown</td>\n",
       "      <td>opel</td>\n",
       "      <td>no</td>\n",
       "    </tr>\n",
       "    <tr>\n",
       "      <th>52</th>\n",
       "      <td>550</td>\n",
       "      <td>wagon</td>\n",
       "      <td>1999</td>\n",
       "      <td>manual</td>\n",
       "      <td>0</td>\n",
       "      <td>astra</td>\n",
       "      <td>150000</td>\n",
       "      <td>8</td>\n",
       "      <td>gasoline</td>\n",
       "      <td>opel</td>\n",
       "      <td>yes</td>\n",
       "    </tr>\n",
       "  </tbody>\n",
       "</table>\n",
       "</div>"
      ],
      "text/plain": [
       "    Price VehicleType  RegistrationYear  Gearbox  Power   Model  Kilometer  \\\n",
       "0     480     unknown              1993   manual      0    golf     150000   \n",
       "30    245       sedan              1994  unknown      0    golf     150000   \n",
       "35   1500     unknown              2016  unknown      0  kangoo     150000   \n",
       "51   4700       wagon              2005   manual      0  signum     150000   \n",
       "52    550       wagon              1999   manual      0   astra     150000   \n",
       "\n",
       "    RegistrationMonth  FuelType       Brand Repaired  \n",
       "0                   0    petrol  volkswagen  unknown  \n",
       "30                  2    petrol  volkswagen       no  \n",
       "35                  1  gasoline     renault       no  \n",
       "51                  0   unknown        opel       no  \n",
       "52                  8  gasoline        opel      yes  "
      ]
     },
     "execution_count": 16,
     "metadata": {},
     "output_type": "execute_result"
    }
   ],
   "source": [
    "data[(data[\"Power\"] < 5) | (data[\"Power\"] > 2500)][\"Price\"].count()\n",
    "data[(data[\"Power\"] < 5) | (data[\"Power\"] > 2500)].head()"
   ]
  },
  {
   "cell_type": "markdown",
   "metadata": {
    "id": "GWbVUIOO8zyr"
   },
   "source": [
    "Найдем медианные значения мощности в зависимости от типа автомобиля. Этими данными заполним пропуски в соответствующем стобце."
   ]
  },
  {
   "cell_type": "code",
   "execution_count": 17,
   "metadata": {
    "id": "LQdi59gT6mJ6"
   },
   "outputs": [],
   "source": [
    "median_power = data.groupby('Model')[\"Power\"].agg('median')\n",
    "\n",
    "for model in data['Model'].unique():\n",
    "    data.loc[(data[\"Power\"] < 5) | (data[\"Power\"] > 2500) & (data[\"Model\"] == model), \"Power\"] = median_power[model]"
   ]
  },
  {
   "cell_type": "code",
   "execution_count": 18,
   "metadata": {
    "colab": {
     "base_uri": "https://localhost:8080/"
    },
    "id": "9kpjO-9GS2nQ",
    "outputId": "03e9af02-0273-494d-9ad0-0dbd523361b7"
   },
   "outputs": [
    {
     "data": {
      "text/plain": [
       "0"
      ]
     },
     "execution_count": 18,
     "metadata": {},
     "output_type": "execute_result"
    }
   ],
   "source": [
    "data[(data[\"Power\"] < 5) | (data[\"Power\"] > 2500)][\"Price\"].count()"
   ]
  },
  {
   "cell_type": "markdown",
   "metadata": {
    "id": "QroWG7ugTII2"
   },
   "source": [
    "Таким образом мы полностью избавились от аномальных значений в данных и обработали все пропуски."
   ]
  },
  {
   "cell_type": "markdown",
   "metadata": {
    "id": "0O50CGy5WBq0"
   },
   "source": [
    "### 1.5. Проверка наличия дубликатов"
   ]
  },
  {
   "cell_type": "code",
   "execution_count": 19,
   "metadata": {
    "colab": {
     "base_uri": "https://localhost:8080/"
    },
    "id": "Nozzd103WHT1",
    "outputId": "0a79ccf6-1183-4a66-9416-302d8aab9fa2"
   },
   "outputs": [
    {
     "name": "stdout",
     "output_type": "stream",
     "text": [
      "Число явных дубликатов: 25644\n"
     ]
    }
   ],
   "source": [
    "print(\"Число явных дубликатов:\", data.duplicated().sum())\n",
    "data = data.drop_duplicates().reset_index(drop=True)"
   ]
  },
  {
   "cell_type": "markdown",
   "metadata": {
    "id": "TK-gyDIQnGEP"
   },
   "source": [
    "После удаления неинформативных признаков число явных дубликатов выросло с 5 до 25664. Эти данные мы удалим."
   ]
  },
  {
   "cell_type": "code",
   "execution_count": 20,
   "metadata": {
    "colab": {
     "base_uri": "https://localhost:8080/",
     "height": 270
    },
    "id": "rq0NONK4QX71",
    "outputId": "20cc4aca-eb0b-4557-e25a-1da56449c819"
   },
   "outputs": [
    {
     "data": {
      "text/html": [
       "<div>\n",
       "<style scoped>\n",
       "    .dataframe tbody tr th:only-of-type {\n",
       "        vertical-align: middle;\n",
       "    }\n",
       "\n",
       "    .dataframe tbody tr th {\n",
       "        vertical-align: top;\n",
       "    }\n",
       "\n",
       "    .dataframe thead th {\n",
       "        text-align: right;\n",
       "    }\n",
       "</style>\n",
       "<table border=\"1\" class=\"dataframe\">\n",
       "  <thead>\n",
       "    <tr style=\"text-align: right;\">\n",
       "      <th></th>\n",
       "      <th>Price</th>\n",
       "      <th>VehicleType</th>\n",
       "      <th>RegistrationYear</th>\n",
       "      <th>Gearbox</th>\n",
       "      <th>Power</th>\n",
       "      <th>Model</th>\n",
       "      <th>Kilometer</th>\n",
       "      <th>RegistrationMonth</th>\n",
       "      <th>FuelType</th>\n",
       "      <th>Brand</th>\n",
       "      <th>Repaired</th>\n",
       "    </tr>\n",
       "  </thead>\n",
       "  <tbody>\n",
       "    <tr>\n",
       "      <th>0</th>\n",
       "      <td>480</td>\n",
       "      <td>unknown</td>\n",
       "      <td>1993</td>\n",
       "      <td>manual</td>\n",
       "      <td>100.0</td>\n",
       "      <td>golf</td>\n",
       "      <td>150000</td>\n",
       "      <td>0</td>\n",
       "      <td>petrol</td>\n",
       "      <td>volkswagen</td>\n",
       "      <td>unknown</td>\n",
       "    </tr>\n",
       "    <tr>\n",
       "      <th>1</th>\n",
       "      <td>18300</td>\n",
       "      <td>coupe</td>\n",
       "      <td>2011</td>\n",
       "      <td>manual</td>\n",
       "      <td>190.0</td>\n",
       "      <td>unknown</td>\n",
       "      <td>125000</td>\n",
       "      <td>5</td>\n",
       "      <td>gasoline</td>\n",
       "      <td>audi</td>\n",
       "      <td>yes</td>\n",
       "    </tr>\n",
       "    <tr>\n",
       "      <th>2</th>\n",
       "      <td>9800</td>\n",
       "      <td>suv</td>\n",
       "      <td>2004</td>\n",
       "      <td>auto</td>\n",
       "      <td>163.0</td>\n",
       "      <td>grand</td>\n",
       "      <td>125000</td>\n",
       "      <td>8</td>\n",
       "      <td>gasoline</td>\n",
       "      <td>jeep</td>\n",
       "      <td>unknown</td>\n",
       "    </tr>\n",
       "    <tr>\n",
       "      <th>3</th>\n",
       "      <td>1500</td>\n",
       "      <td>small</td>\n",
       "      <td>2001</td>\n",
       "      <td>manual</td>\n",
       "      <td>75.0</td>\n",
       "      <td>golf</td>\n",
       "      <td>150000</td>\n",
       "      <td>6</td>\n",
       "      <td>petrol</td>\n",
       "      <td>volkswagen</td>\n",
       "      <td>no</td>\n",
       "    </tr>\n",
       "    <tr>\n",
       "      <th>4</th>\n",
       "      <td>3600</td>\n",
       "      <td>small</td>\n",
       "      <td>2008</td>\n",
       "      <td>manual</td>\n",
       "      <td>69.0</td>\n",
       "      <td>fabia</td>\n",
       "      <td>90000</td>\n",
       "      <td>7</td>\n",
       "      <td>gasoline</td>\n",
       "      <td>skoda</td>\n",
       "      <td>no</td>\n",
       "    </tr>\n",
       "  </tbody>\n",
       "</table>\n",
       "</div>"
      ],
      "text/plain": [
       "   Price VehicleType  RegistrationYear Gearbox  Power    Model  Kilometer  \\\n",
       "0    480     unknown              1993  manual  100.0     golf     150000   \n",
       "1  18300       coupe              2011  manual  190.0  unknown     125000   \n",
       "2   9800         suv              2004    auto  163.0    grand     125000   \n",
       "3   1500       small              2001  manual   75.0     golf     150000   \n",
       "4   3600       small              2008  manual   69.0    fabia      90000   \n",
       "\n",
       "   RegistrationMonth  FuelType       Brand Repaired  \n",
       "0                  0    petrol  volkswagen  unknown  \n",
       "1                  5  gasoline        audi      yes  \n",
       "2                  8  gasoline        jeep  unknown  \n",
       "3                  6    petrol  volkswagen       no  \n",
       "4                  7  gasoline       skoda       no  "
      ]
     },
     "execution_count": 20,
     "metadata": {},
     "output_type": "execute_result"
    }
   ],
   "source": [
    "data.head()"
   ]
  },
  {
   "cell_type": "markdown",
   "metadata": {
    "id": "91gE50kSWIIM"
   },
   "source": [
    "### 1.6. Проверка мультиколлинеарности признаков"
   ]
  },
  {
   "cell_type": "code",
   "execution_count": 21,
   "metadata": {
    "colab": {
     "base_uri": "https://localhost:8080/",
     "height": 653
    },
    "id": "llgL2JTVWLeH",
    "outputId": "4785dd62-4a1e-4d53-87c6-e80b9a569ec8"
   },
   "outputs": [
    {
     "data": {
      "image/png": "[encoded data removed]",
      "text/plain": [
       "<Figure size 720x504 with 2 Axes>"
      ]
     },
     "metadata": {},
     "output_type": "display_data"
    }
   ],
   "source": [
    "fig, axes = plt.subplots(1, 1, sharex=True, figsize=(10,7))\n",
    "\n",
    "sns.heatmap(data.corr(), annot=True, fmt='.1g')\n",
    "plt.show()"
   ]
  },
  {
   "cell_type": "markdown",
   "metadata": {
    "id": "_8NeCU3smcmK"
   },
   "source": [
    "Среди признаков не наблюдается сильной коллинеарности."
   ]
  },
  {
   "cell_type": "markdown",
   "metadata": {
    "id": "ggWjjlYFnXs6"
   },
   "source": [
    "По итогу раздела был осуществлен обзор датафрейма, обработаны пропуски и аномалии в данных, произведена проверка на наличие дубликатов, признаки проверены на мультиколлинеарность, удалены незначимые признаки."
   ]
  },
  {
   "cell_type": "markdown",
   "metadata": {
    "id": "8LAE0KD1WZvx"
   },
   "source": [
    "## 2. Обучение модели."
   ]
  },
  {
   "cell_type": "markdown",
   "metadata": {
    "id": "b80oOpKDW1f3"
   },
   "source": [
    "### 2.1. Разделение на тренировочную, тестовую и валидационную выборки"
   ]
  },
  {
   "cell_type": "code",
   "execution_count": 22,
   "metadata": {
    "id": "4LrZA23dWZBN"
   },
   "outputs": [],
   "source": [
    "def split_sample(data):\n",
    "    features = data.drop(columns=['Price'])\n",
    "    target = data['Price']\n",
    "    train_features, test_features, train_target, test_target = train_test_split(features, target, test_size=0.2, random_state=12345)\n",
    "    train_features, valid_features, train_target, valid_target = train_test_split(train_features, train_target, test_size=0.22, random_state=12345)\n",
    "    train_features.head()\n",
    "    print(\"Размеры тренировочной, валидационной,тестовой выборок:\")\n",
    "    print(train_features.shape, valid_features.shape, test_features.shape)\n",
    "\n",
    "    return train_features, valid_features, test_features, train_target,  valid_target, test_target"
   ]
  },
  {
   "cell_type": "code",
   "execution_count": 23,
   "metadata": {
    "colab": {
     "base_uri": "https://localhost:8080/"
    },
    "id": "gbLzDAMiGx-O",
    "outputId": "3eccfe3c-0f9d-4069-d8b5-a1f44f41fcd2"
   },
   "outputs": [
    {
     "name": "stdout",
     "output_type": "stream",
     "text": [
      "Размеры тренировочной, валидационной,тестовой выборок:\n",
      "(193811, 10) (54665, 10) (62120, 10)\n"
     ]
    }
   ],
   "source": [
    "train_features, valid_features, test_features, train_target,  valid_target, test_target = split_sample(data)"
   ]
  },
  {
   "cell_type": "markdown",
   "metadata": {
    "id": "OAjsXCuEWVqg"
   },
   "source": [
    "### 2.2. Кодирование категориальных признаков"
   ]
  },
  {
   "cell_type": "code",
   "execution_count": 24,
   "metadata": {
    "id": "R5tKg6G3kPhI"
   },
   "outputs": [],
   "source": [
    "cat_cols = [\"VehicleType\", \"Gearbox\", \"Brand\", \"FuelType\", 'Repaired']"
   ]
  },
  {
   "cell_type": "code",
   "execution_count": 25,
   "metadata": {
    "colab": {
     "base_uri": "https://localhost:8080/"
    },
    "id": "z98Jahg9c_TC",
    "outputId": "b47561e0-2365-4680-cca0-1993e0adf10c"
   },
   "outputs": [],
   "source": [
    "enc_ohe = OneHotEncoder(sparse=False, handle_unknown='ignore')\n",
    "enc_oe = OrdinalEncoder(handle_unknown='use_encoded_value', unknown_value=-1)\n",
    "\n",
    "enc_ohe.fit(train_features[cat_cols])\n",
    "enc_oe.fit(train_features[[\"Model\"]])\n",
    "def encoding_data(df):\n",
    "    df[enc_ohe.get_feature_names_out()] = enc_ohe.transform(df[cat_cols])\n",
    "    df = df.drop(columns = cat_cols)\n",
    "    df[\"Model\"] = enc_oe.transform(df[[\"Model\"]])\n",
    "    return df"
   ]
  },
  {
   "cell_type": "code",
   "execution_count": 26,
   "metadata": {
    "id": "2S-OcT_-fF_d"
   },
   "outputs": [],
   "source": [
    "train_features = encoding_data(train_features)\n",
    "valid_features = encoding_data(valid_features)\n",
    "test_features = encoding_data(test_features)"
   ]
  },
  {
   "cell_type": "code",
   "execution_count": 27,
   "metadata": {
    "colab": {
     "base_uri": "https://localhost:8080/"
    },
    "id": "QbfpRd92u5TV",
    "outputId": "a4303427-8a53-454b-b67b-8bd94807dd57"
   },
   "outputs": [
    {
     "name": "stdout",
     "output_type": "stream",
     "text": [
      "Размеры тренировочной, валидационной,тестовой выборок:\n",
      "(193811, 68) (54665, 68) (62120, 68)\n"
     ]
    }
   ],
   "source": [
    "print(\"Размеры тренировочной, валидационной,тестовой выборок:\")\n",
    "print(train_features.shape, valid_features.shape, test_features.shape)"
   ]
  },
  {
   "cell_type": "markdown",
   "metadata": {
    "id": "T0CqRVYSMuIA"
   },
   "source": [
    "Категориальные данные были закодированы при помощи сочетания методов кодирования OHE & OE."
   ]
  },
  {
   "cell_type": "markdown",
   "metadata": {
    "id": "bupQbPBIW8MS"
   },
   "source": [
    "### 2.3. Маштабирование признаков"
   ]
  },
  {
   "cell_type": "code",
   "execution_count": 28,
   "metadata": {
    "id": "B4fYkQiMXAHw"
   },
   "outputs": [],
   "source": [
    "def scaled_features(train_features, valid_features, test_features):\n",
    "    scaler = StandardScaler()\n",
    "    num_features = [\"RegistrationYear\", \"Power\", \"Kilometer\", \"RegistrationMonth\"]\n",
    "    scaler.fit(train_features.loc[:, num_features]) \n",
    "\n",
    "    train_features_scaled = scaler.transform(train_features.loc[:, num_features])\n",
    "    valid_features_scaled = scaler.transform(valid_features.loc[:, num_features])\n",
    "    test_features_scaled = scaler.transform(test_features.loc[:, num_features])\n",
    "    pd.options.mode.chained_assignment = None\n",
    "\n",
    "    for i, column in enumerate([\"RegistrationYear\", \"Power\", \"Kilometer\", \"RegistrationMonth\"]):\n",
    "        train_features[column]= train_features_scaled[:, i]\n",
    "        test_features[column]= test_features_scaled[:, i]\n",
    "        valid_features[column]= valid_features_scaled[:, i]\n",
    "    return train_features, valid_features, test_features\n"
   ]
  },
  {
   "cell_type": "code",
   "execution_count": 29,
   "metadata": {
    "id": "smJZHJU7ctdw"
   },
   "outputs": [],
   "source": [
    "train_features, valid_features, test_features = scaled_features(train_features, valid_features, test_features)\n"
   ]
  },
  {
   "cell_type": "code",
   "execution_count": 30,
   "metadata": {
    "colab": {
     "base_uri": "https://localhost:8080/",
     "height": 300
    },
    "id": "EV2V_Ne0wOnK",
    "outputId": "3a8b45d4-9259-4170-c17d-921f8a04d877"
   },
   "outputs": [
    {
     "data": {
      "text/html": [
       "<div>\n",
       "<style scoped>\n",
       "    .dataframe tbody tr th:only-of-type {\n",
       "        vertical-align: middle;\n",
       "    }\n",
       "\n",
       "    .dataframe tbody tr th {\n",
       "        vertical-align: top;\n",
       "    }\n",
       "\n",
       "    .dataframe thead th {\n",
       "        text-align: right;\n",
       "    }\n",
       "</style>\n",
       "<table border=\"1\" class=\"dataframe\">\n",
       "  <thead>\n",
       "    <tr style=\"text-align: right;\">\n",
       "      <th></th>\n",
       "      <th>RegistrationYear</th>\n",
       "      <th>Power</th>\n",
       "      <th>Model</th>\n",
       "      <th>Kilometer</th>\n",
       "      <th>RegistrationMonth</th>\n",
       "      <th>VehicleType_bus</th>\n",
       "      <th>VehicleType_convertible</th>\n",
       "      <th>VehicleType_coupe</th>\n",
       "      <th>VehicleType_other</th>\n",
       "      <th>VehicleType_sedan</th>\n",
       "      <th>...</th>\n",
       "      <th>FuelType_electric</th>\n",
       "      <th>FuelType_gasoline</th>\n",
       "      <th>FuelType_hybrid</th>\n",
       "      <th>FuelType_lpg</th>\n",
       "      <th>FuelType_other</th>\n",
       "      <th>FuelType_petrol</th>\n",
       "      <th>FuelType_unknown</th>\n",
       "      <th>Repaired_no</th>\n",
       "      <th>Repaired_unknown</th>\n",
       "      <th>Repaired_yes</th>\n",
       "    </tr>\n",
       "  </thead>\n",
       "  <tbody>\n",
       "    <tr>\n",
       "      <th>74612</th>\n",
       "      <td>0.666821</td>\n",
       "      <td>3.926818</td>\n",
       "      <td>19.0</td>\n",
       "      <td>-1.045573</td>\n",
       "      <td>-0.771931</td>\n",
       "      <td>0.0</td>\n",
       "      <td>0.0</td>\n",
       "      <td>0.0</td>\n",
       "      <td>0.0</td>\n",
       "      <td>1.0</td>\n",
       "      <td>...</td>\n",
       "      <td>0.0</td>\n",
       "      <td>0.0</td>\n",
       "      <td>0.0</td>\n",
       "      <td>0.0</td>\n",
       "      <td>0.0</td>\n",
       "      <td>1.0</td>\n",
       "      <td>0.0</td>\n",
       "      <td>1.0</td>\n",
       "      <td>0.0</td>\n",
       "      <td>0.0</td>\n",
       "    </tr>\n",
       "    <tr>\n",
       "      <th>52375</th>\n",
       "      <td>-0.021055</td>\n",
       "      <td>0.185702</td>\n",
       "      <td>29.0</td>\n",
       "      <td>0.577445</td>\n",
       "      <td>-1.318614</td>\n",
       "      <td>0.0</td>\n",
       "      <td>0.0</td>\n",
       "      <td>0.0</td>\n",
       "      <td>0.0</td>\n",
       "      <td>1.0</td>\n",
       "      <td>...</td>\n",
       "      <td>0.0</td>\n",
       "      <td>0.0</td>\n",
       "      <td>0.0</td>\n",
       "      <td>0.0</td>\n",
       "      <td>0.0</td>\n",
       "      <td>1.0</td>\n",
       "      <td>0.0</td>\n",
       "      <td>1.0</td>\n",
       "      <td>0.0</td>\n",
       "      <td>0.0</td>\n",
       "    </tr>\n",
       "    <tr>\n",
       "      <th>300091</th>\n",
       "      <td>0.391671</td>\n",
       "      <td>0.328372</td>\n",
       "      <td>28.0</td>\n",
       "      <td>-0.098812</td>\n",
       "      <td>-1.045272</td>\n",
       "      <td>0.0</td>\n",
       "      <td>0.0</td>\n",
       "      <td>0.0</td>\n",
       "      <td>0.0</td>\n",
       "      <td>0.0</td>\n",
       "      <td>...</td>\n",
       "      <td>0.0</td>\n",
       "      <td>1.0</td>\n",
       "      <td>0.0</td>\n",
       "      <td>0.0</td>\n",
       "      <td>0.0</td>\n",
       "      <td>0.0</td>\n",
       "      <td>0.0</td>\n",
       "      <td>0.0</td>\n",
       "      <td>0.0</td>\n",
       "      <td>1.0</td>\n",
       "    </tr>\n",
       "    <tr>\n",
       "      <th>302382</th>\n",
       "      <td>-2.634980</td>\n",
       "      <td>-0.702020</td>\n",
       "      <td>129.0</td>\n",
       "      <td>0.577445</td>\n",
       "      <td>-0.498589</td>\n",
       "      <td>0.0</td>\n",
       "      <td>0.0</td>\n",
       "      <td>0.0</td>\n",
       "      <td>0.0</td>\n",
       "      <td>1.0</td>\n",
       "      <td>...</td>\n",
       "      <td>0.0</td>\n",
       "      <td>0.0</td>\n",
       "      <td>0.0</td>\n",
       "      <td>0.0</td>\n",
       "      <td>0.0</td>\n",
       "      <td>1.0</td>\n",
       "      <td>0.0</td>\n",
       "      <td>0.0</td>\n",
       "      <td>0.0</td>\n",
       "      <td>1.0</td>\n",
       "    </tr>\n",
       "    <tr>\n",
       "      <th>14974</th>\n",
       "      <td>-0.571355</td>\n",
       "      <td>-0.939803</td>\n",
       "      <td>5.0</td>\n",
       "      <td>-1.316076</td>\n",
       "      <td>-1.045272</td>\n",
       "      <td>0.0</td>\n",
       "      <td>0.0</td>\n",
       "      <td>0.0</td>\n",
       "      <td>0.0</td>\n",
       "      <td>0.0</td>\n",
       "      <td>...</td>\n",
       "      <td>0.0</td>\n",
       "      <td>0.0</td>\n",
       "      <td>0.0</td>\n",
       "      <td>0.0</td>\n",
       "      <td>0.0</td>\n",
       "      <td>1.0</td>\n",
       "      <td>0.0</td>\n",
       "      <td>1.0</td>\n",
       "      <td>0.0</td>\n",
       "      <td>0.0</td>\n",
       "    </tr>\n",
       "  </tbody>\n",
       "</table>\n",
       "<p>5 rows × 68 columns</p>\n",
       "</div>"
      ],
      "text/plain": [
       "        RegistrationYear     Power  Model  Kilometer  RegistrationMonth  \\\n",
       "74612           0.666821  3.926818   19.0  -1.045573          -0.771931   \n",
       "52375          -0.021055  0.185702   29.0   0.577445          -1.318614   \n",
       "300091          0.391671  0.328372   28.0  -0.098812          -1.045272   \n",
       "302382         -2.634980 -0.702020  129.0   0.577445          -0.498589   \n",
       "14974          -0.571355 -0.939803    5.0  -1.316076          -1.045272   \n",
       "\n",
       "        VehicleType_bus  VehicleType_convertible  VehicleType_coupe  \\\n",
       "74612               0.0                      0.0                0.0   \n",
       "52375               0.0                      0.0                0.0   \n",
       "300091              0.0                      0.0                0.0   \n",
       "302382              0.0                      0.0                0.0   \n",
       "14974               0.0                      0.0                0.0   \n",
       "\n",
       "        VehicleType_other  VehicleType_sedan  ...  FuelType_electric  \\\n",
       "74612                 0.0                1.0  ...                0.0   \n",
       "52375                 0.0                1.0  ...                0.0   \n",
       "300091                0.0                0.0  ...                0.0   \n",
       "302382                0.0                1.0  ...                0.0   \n",
       "14974                 0.0                0.0  ...                0.0   \n",
       "\n",
       "        FuelType_gasoline  FuelType_hybrid  FuelType_lpg  FuelType_other  \\\n",
       "74612                 0.0              0.0           0.0             0.0   \n",
       "52375                 0.0              0.0           0.0             0.0   \n",
       "300091                1.0              0.0           0.0             0.0   \n",
       "302382                0.0              0.0           0.0             0.0   \n",
       "14974                 0.0              0.0           0.0             0.0   \n",
       "\n",
       "        FuelType_petrol  FuelType_unknown  Repaired_no  Repaired_unknown  \\\n",
       "74612               1.0               0.0          1.0               0.0   \n",
       "52375               1.0               0.0          1.0               0.0   \n",
       "300091              0.0               0.0          0.0               0.0   \n",
       "302382              1.0               0.0          0.0               0.0   \n",
       "14974               1.0               0.0          1.0               0.0   \n",
       "\n",
       "        Repaired_yes  \n",
       "74612            0.0  \n",
       "52375            0.0  \n",
       "300091           1.0  \n",
       "302382           1.0  \n",
       "14974            0.0  \n",
       "\n",
       "[5 rows x 68 columns]"
      ]
     },
     "execution_count": 30,
     "metadata": {},
     "output_type": "execute_result"
    }
   ],
   "source": [
    "train_features.head()"
   ]
  },
  {
   "cell_type": "markdown",
   "metadata": {
    "id": "MU3v_cNzXEmb"
   },
   "source": [
    "### 2.3. Обучение разных моделей с подбором гиперпараметров и поиск лучшей."
   ]
  },
  {
   "cell_type": "code",
   "execution_count": 77,
   "metadata": {
    "id": "cV7LmUwbFOe2"
   },
   "outputs": [],
   "source": [
    "times = {\"lr\":[], \"lgbm\":[], \"nn\":[]}"
   ]
  },
  {
   "cell_type": "markdown",
   "metadata": {
    "id": "oJFHlxqMXQNy"
   },
   "source": [
    "#### 2.3.1 Линейная регрессия"
   ]
  },
  {
   "cell_type": "code",
   "execution_count": 78,
   "metadata": {
    "colab": {
     "base_uri": "https://localhost:8080/"
    },
    "id": "ypxZBRzCouIr",
    "outputId": "b41f15cb-0017-4b63-f2bd-a845c794964f"
   },
   "outputs": [],
   "source": [
    "start_time = time.time()\n",
    "\n",
    "model = LinearRegression()\n",
    "model.fit(train_features, train_target)\n",
    "\n",
    "times[\"lr\"].append((time.time() - start_time))\n",
    "print(\"Время обучения %s\" % times[\"lr\"][0])\n",
    "\n",
    "start_time = time.time()\n",
    "valid_predictions = model.predict(valid_features)\n",
    "times[\"lr\"].append((time.time() - start_time))\n",
    "print(\"Время предсказания %s\" % times[\"lr\"][1])\n",
    "print()\n",
    "print(\"Значение RMSE на валидационной выборке:\", np.sqrt(mean_squared_error(valid_target, valid_predictions)))\n"
   ]
  },
  {
   "cell_type": "markdown",
   "metadata": {
    "id": "Om6QRj7AXLAI"
   },
   "source": [
    "#### 2.3.2 LightGBM"
   ]
  },
  {
   "cell_type": "code",
   "execution_count": 79,
   "metadata": {
    "colab": {
     "base_uri": "https://localhost:8080/"
    },
    "id": "oBe1cyInpMnG",
    "outputId": "19ce0dd8-ba83-4eac-c7c4-e6efb27753d9"
   },
   "outputs": [],
   "source": [
    "start_time = time.time()\n",
    "model = LGBMRegressor()\n",
    "model.fit(train_features, train_target)\n",
    "times[\"lgbm\"].append((time.time() - start_time))\n",
    "print(\"Время обучения %s\" % times[\"lgbm\"][0])\n",
    "\n",
    "start_time = time.time()\n",
    "valid_predictions = model.predict(valid_features)\n",
    "times[\"lgbm\"].append((time.time() - start_time))\n",
    "print(\"Время предсказания %s\" % times[\"lgbm\"][1])\n",
    "print()\n",
    "print(\"Значение RMSE на валидационной выборке:\", np.sqrt(mean_squared_error(valid_target, valid_predictions)))"
   ]
  },
  {
   "cell_type": "code",
   "execution_count": 80,
   "metadata": {
    "colab": {
     "base_uri": "https://localhost:8080/"
    },
    "collapsed": true,
    "id": "jHTkNcRF3AiF",
    "outputId": "085ec926-1ce8-494b-f5f0-2651c2cdcfaf"
   },
   "outputs": [],
   "source": [
    "start_time = time.time()\n",
    "params = {'learning_rate':[0.1, 0.01], \"n_estimators\":[50, 100, 150, 200]}\n",
    "gr_s = GridSearchCV(model, params, scoring = 'neg_mean_squared_error', cv=10, verbose=10)\n",
    "gr_s.fit(valid_features, valid_target)\n",
    "print(\"Время подбора гиперпараметров %s\" % (time.time() - start_time))"
   ]
  },
  {
   "cell_type": "code",
   "execution_count": 81,
   "metadata": {
    "colab": {
     "base_uri": "https://localhost:8080/"
    },
    "id": "N0-tsPlL_NO2",
    "outputId": "bd4c1bd3-a368-4df0-dd30-8111006d1934"
   },
   "outputs": [],
   "source": [
    "print(gr_s.best_params_)\n",
    "print(\"Значение RMSE на валидационной выборке:\", np.sqrt((-1)*gr_s.best_score_))"
   ]
  },
  {
   "cell_type": "markdown",
   "metadata": {
    "id": "lkiqRQlhpDHn"
   },
   "source": [
    "#### 2.3.3 Трехслойная нейронная сеть"
   ]
  },
  {
   "cell_type": "markdown",
   "metadata": {
    "id": "5hsgdr8Qux3d"
   },
   "source": [
    "Воспользуемся в качестве модели трехслойной нейронной сетью с функцией активации ReLU.  В качестве функции потерь будем использовать сразу RMSE, реализуем ее через функцию MSE Pytorch. В качестве алгоритма оптимизации будем использовать RProp, т.к. он адаптирует скорость обучения в процессе обучения. "
   ]
  },
  {
   "cell_type": "code",
   "execution_count": 82,
   "metadata": {
    "id": "q-vyTvWHpNs6"
   },
   "outputs": [],
   "source": [
    "class Triple_Layer_NN(nn.Module):\n",
    "    def __init__(self, input, output):        \n",
    "        super(Triple_Layer_NN, self).__init__() \n",
    "        self.fc1 = nn.Linear(input, int(input/2))\n",
    "        self.fc2 = nn.Linear(int(input/2), int(input/4))\n",
    "        self.fc3 = nn.Linear(int(input/4), 1)\n",
    "        self.relu = nn.ReLU()\n",
    "        \n",
    "\n",
    "    def forward(self, x): \n",
    "        x = self.fc1(x)\n",
    "        x = self.relu(x)\n",
    "        x = self.fc2(x)\n",
    "        x = self.relu(x)\n",
    "        x = self.fc3(x)\n",
    "        return x"
   ]
  },
  {
   "cell_type": "code",
   "execution_count": 83,
   "metadata": {
    "id": "kEQ_UBFTAhrr"
   },
   "outputs": [],
   "source": [
    "class RMSELoss(nn.Module):\n",
    "    def __init__(self, eps=1e-6):\n",
    "        super().__init__()\n",
    "        self.mse = nn.MSELoss()\n",
    "        self.eps = eps\n",
    "        \n",
    "    def forward(self,yhat,y):\n",
    "        loss = torch.sqrt(self.mse(yhat,y) + self.eps)\n",
    "        return loss"
   ]
  },
  {
   "cell_type": "code",
   "execution_count": 84,
   "metadata": {
    "id": "TZY9yzlYtZYr"
   },
   "outputs": [],
   "source": [
    "def set_seed(seed):\n",
    "    torch.backends.cudnn.deterministic = True\n",
    "    torch.backends.cudnn.benchmark = False\n",
    "    torch.manual_seed(seed)\n",
    "    torch.cuda.manual_seed_all(seed)\n",
    "    np.random.seed(seed)\n",
    "    random.seed(seed)"
   ]
  },
  {
   "cell_type": "code",
   "execution_count": 85,
   "metadata": {
    "id": "tKpPLCOR2xK_"
   },
   "outputs": [],
   "source": [
    "set_seed(12345)\n",
    "device = torch.device('cuda' if torch.cuda.is_available() else 'cpu')\n",
    "\n",
    "model = Triple_Layer_NN(train_features.shape[1], 1).to(device)\n",
    "optimizer = torch.optim.Rprop(model.parameters(), lr=0.01)\n",
    "loss_function = RMSELoss()"
   ]
  },
  {
   "cell_type": "code",
   "execution_count": 86,
   "metadata": {
    "id": "CbPm7QLk2CRb"
   },
   "outputs": [],
   "source": [
    "def train(model, train_loader, valid_features, valid_target, loss_function, optimizer, n_epoch):\n",
    "    epoch_score_train = np.array([])\n",
    "    epoch_score_val = np.array([])\n",
    "\n",
    "    for epoch in tqdm(range(1, n_epoch + 1)):\n",
    "        train_score = []\n",
    "\n",
    "        for i, data in enumerate(train_loader, 0):\n",
    "            train_features, train_target = data\n",
    "            target_pred = model.forward(train_features)\n",
    "            train_loss = loss_function(target_pred, train_target)\n",
    "            train_score.append(train_loss.cpu().detach().numpy())\n",
    "\n",
    "            optimizer.zero_grad()\n",
    "            train_loss.backward()\n",
    "            optimizer.step()\n",
    "        \n",
    "          with torch.no_grad():\n",
    "            valid_predictions = model(valid_features.float())\n",
    "            valid_loss = loss_function(valid_target, valid_predictions)\n",
    "\n",
    "        np.append(epoch_score_train, np.mean(train_score))\n",
    "        np.append(epoch_score_train, train_loss.cpu().detach().numpy())\n",
    "        if (epoch % 20 == 0):\n",
    "            print('Epoch : {:3d} / {}, train RMSE : {:.2f}, valid RMSE : {:.2f}'.format(\n",
    "            epoch, n_epoch, np.mean(train_score), valid_loss))\n",
    "    return model"
   ]
  },
  {
   "cell_type": "code",
   "execution_count": 87,
   "metadata": {
    "id": "1TEXuNsQDOEJ"
   },
   "outputs": [],
   "source": [
    "train_features_tensor = torch.tensor(train_features.values).to(torch.float32).to(device)\n",
    "train_target_tensor = torch.tensor(train_target.values.reshape(train_target.shape[0], 1)).to(torch.float32).to(device)\n",
    "\n",
    "valid_features_tensor = torch.tensor(valid_features.values).to(torch.float32).to(device)\n",
    "valid_target_tensor = torch.tensor(valid_target.values.reshape(valid_target.shape[0], 1)).to(torch.float32).to(device)\n",
    "\n"
   ]
  },
  {
   "cell_type": "code",
   "execution_count": 88,
   "metadata": {
    "id": "zfNjjlOIhpfM"
   },
   "outputs": [],
   "source": [
    "data_train = TensorDataset(train_features_tensor, train_target_tensor)"
   ]
  },
  {
   "cell_type": "code",
   "execution_count": 89,
   "metadata": {
    "id": "dvHyHg6WGSuR"
   },
   "outputs": [],
   "source": [
    "train_loader = torch.utils.data.DataLoader(data_train, batch_size=60000, shuffle=True)"
   ]
  },
  {
   "cell_type": "code",
   "execution_count": 90,
   "metadata": {
    "colab": {
     "base_uri": "https://localhost:8080/",
     "height": 319,
     "referenced_widgets": [
      "49343cf99e4b48bf8bace8f41497d79d",
      "4e2d9a94b21a499d8c6a4aab50c56da3",
      "a37e6509f17f4655a11cbeb3b4e8abf6",
      "6a05743ffbbb4ff1b7ef2ca2811a1f10",
      "0f081d764fe543b18114a4ed1d85f49b",
      "7bbc4e12af884389bdcad134d5f9c656",
      "652f014a1cf04532aed593c64886698d",
      "9ff219d95c9c4c8a99e04d61338a1610",
      "87e014b0898e494ba9acde255f2581d7",
      "4c6a9fce3bdf4035b17455d59598a298",
      "3aabf7c6246e45dc95d6db8b52bbe99f"
     ]
    },
    "id": "i_XIdgDt2K3W",
    "outputId": "4536f0bd-53df-46f6-f5cd-a8eb491638c6",
    "scrolled": true
   },
   "outputs": [
    {
     "data": {
      "application/vnd.jupyter.widget-view+json": {
       "model_id": "49343cf99e4b48bf8bace8f41497d79d",
       "version_major": 2,
       "version_minor": 0
      }
     },
     "metadata": {},
     "output_type": "display_data"
    }
   ],
   "source": [
    "start_time = time.time()\n",
    "trained_model = train(model,\n",
    "                      train_loader,\n",
    "                      valid_features_tensor,\n",
    "                      valid_target_tensor,\n",
    "                      loss_function, \n",
    "                      optimizer, \n",
    "                      n_epoch = 200)\n",
    "times[\"nn\"].append((time.time() - start_time))\n",
    "print(\"Время обучения %s\" % times[\"nn\"][0])\n",
    "\n",
    "start_time = time.time()\n",
    "valid_predictions = trained_model.forward(valid_features_tensor)\n",
    "times[\"nn\"].append((time.time() - start_time))\n",
    "print(\"Время предсказания %s\" % times[\"nn\"][1])\n",
    "print()\n",
    "print(\"Значение RMSE на валидационной выборке:\", loss_function(valid_target_tensor, valid_predictions))\n"
   ]
  },
  {
   "cell_type": "markdown",
   "metadata": {
    "id": "Z4aOJ7exT7Qc"
   },
   "source": [
    "### 4. Применение наилучшей модели"
   ]
  },
  {
   "cell_type": "code",
   "execution_count": 93,
   "metadata": {
    "colab": {
     "base_uri": "https://localhost:8080/"
    },
    "id": "yOiBWcv6UIpd",
    "outputId": "3bc4c422-6bfb-4da3-8fbd-19768cb908d7"
   },
   "outputs": [],
   "source": [
    "best_model = LGBMRegressor(learning_rate = 0.1,n_estimators = 200)\n",
    "best_model.fit(train_features, train_target)\n",
    "test_predictions = best_model.predict(test_features)\n",
    "print(\"Значение RMSE на тестовой выборке:\", np.sqrt(mean_squared_error(test_target, test_predictions)))\n"
   ]
  },
  {
   "cell_type": "markdown",
   "metadata": {
    "id": "ENuaYyduYhAP"
   },
   "source": [
    "Итоговым результатом применения наилучшей модели к тестовому множеству стало значение метрики на уровне 1675."
   ]
  },
  {
   "cell_type": "markdown",
   "metadata": {
    "id": "r_t_J9oFXyTk"
   },
   "source": [
    "### 5. Выводы"
   ]
  },
  {
   "cell_type": "markdown",
   "metadata": {
    "id": "q-4SoobCefAZ"
   },
   "source": [
    "Задачей исследования было построение модели предсказания определения стоимости автомобиля, с учетом качества предсказания, скорости предсказания и времени обучения. Значение метрики RMSE должно составлять менее 2500.\n",
    "\n",
    "В ходе исследования были изучены предоставленные данные, произведена предобработка данных, включая проверку на пропуски, дубликаты и выбросы, кодирование и маштабирование признаков.\n",
    "\n",
    "Были рассмотрены три регрессионных модели: линейная регрессия, ансамблевая модель LightGBM и модель на основе нейронной сети. Для модели LightGBM при помощи при помощи перебора по сетке с использованием кросс-валидации, были подобраны гиперпараметры, дающие наилучший результат на тренировочном множестве.\n",
    "\n",
    "По итогам исследования наиболее быстрой в вопросах обучения и предсказания оказалась модель **LightGBM**. Без учета времени подбора гиперпараметров модель обучается за 3 секунд, время предсказания составляет **0.2** секунды, значение метрики при использовании базовой модели составляет **1716**. Время подбора гиперпараметров составило **270 секунд**, после подбора значение метрики составило **1706**.\n",
    "\n",
    "На втором месте по точности предсказания располагается модель, основанная на **трехслойной нейронной сети**. Время обучения сети велико и составляет порядка **487 секунд** до уровня значения метрики **1816** на тестовой выборке, однако время предсказания составляет **0.0006 секунд**. \n",
    "\n",
    "Самой слабой оказалась модель **линейной регрессии**. Модель слишком простая для имющихся данных и не способна увидеть сложные зависимости в них. Значение метрики составило **2727** при времени обучения порядка **11 секунд** и \n",
    "времени предсказания **0.06 секунд**.\n",
    "\n",
    "Рекомендации: Модель LightGBM обладает хорошей точностью предсказания и малым временем обучения, в случае мягких ограничений на время предсказания имеет смысл использовать ее. Однако, если в приоритете обработка большого количества данных и важна скорость предсказания, то имеет смысл дообучить нейронную сеть, т.к. скорость предсказания данной модели **на 3 порядка выше**, чем у LightGBM ."
   ]
  }
 ],
 "metadata": {
  "ExecuteTimeLog": [
   {
    "duration": 2239,
    "start_time": "2023-03-23T12:25:51.601Z"
   },
   {
    "duration": 510,
    "start_time": "2023-03-23T12:25:53.842Z"
   },
   {
    "duration": 135,
    "start_time": "2023-03-23T12:25:54.354Z"
   },
   {
    "duration": 0,
    "start_time": "2023-03-23T12:25:54.491Z"
   },
   {
    "duration": 0,
    "start_time": "2023-03-23T12:25:54.493Z"
   },
   {
    "duration": 0,
    "start_time": "2023-03-23T12:25:54.494Z"
   },
   {
    "duration": 0,
    "start_time": "2023-03-23T12:25:54.496Z"
   },
   {
    "duration": 0,
    "start_time": "2023-03-23T12:25:54.497Z"
   },
   {
    "duration": 0,
    "start_time": "2023-03-23T12:25:54.498Z"
   },
   {
    "duration": 0,
    "start_time": "2023-03-23T12:25:54.499Z"
   },
   {
    "duration": 0,
    "start_time": "2023-03-23T12:25:54.501Z"
   },
   {
    "duration": 0,
    "start_time": "2023-03-23T12:25:54.502Z"
   },
   {
    "duration": 0,
    "start_time": "2023-03-23T12:25:54.503Z"
   },
   {
    "duration": 0,
    "start_time": "2023-03-23T12:25:54.504Z"
   },
   {
    "duration": 0,
    "start_time": "2023-03-23T12:25:54.506Z"
   },
   {
    "duration": 0,
    "start_time": "2023-03-23T12:25:54.507Z"
   },
   {
    "duration": 0,
    "start_time": "2023-03-23T12:25:54.508Z"
   },
   {
    "duration": 0,
    "start_time": "2023-03-23T12:25:54.509Z"
   },
   {
    "duration": 0,
    "start_time": "2023-03-23T12:25:54.510Z"
   },
   {
    "duration": 0,
    "start_time": "2023-03-23T12:25:54.511Z"
   },
   {
    "duration": 0,
    "start_time": "2023-03-23T12:25:54.512Z"
   },
   {
    "duration": 0,
    "start_time": "2023-03-23T12:25:54.513Z"
   },
   {
    "duration": 4,
    "start_time": "2023-03-23T12:26:27.003Z"
   },
   {
    "duration": 13,
    "start_time": "2023-03-23T12:26:27.010Z"
   },
   {
    "duration": 3187,
    "start_time": "2023-03-23T12:26:27.024Z"
   },
   {
    "duration": 1120,
    "start_time": "2023-03-23T12:26:30.213Z"
   },
   {
    "duration": 56,
    "start_time": "2023-03-23T12:26:31.336Z"
   },
   {
    "duration": 37,
    "start_time": "2023-03-23T12:26:31.395Z"
   },
   {
    "duration": 29,
    "start_time": "2023-03-23T12:26:31.434Z"
   },
   {
    "duration": 332,
    "start_time": "2023-03-23T12:26:31.465Z"
   },
   {
    "duration": 795,
    "start_time": "2023-03-23T12:26:31.798Z"
   },
   {
    "duration": 56,
    "start_time": "2023-03-23T12:26:32.595Z"
   },
   {
    "duration": 121,
    "start_time": "2023-03-23T12:26:32.653Z"
   },
   {
    "duration": 373,
    "start_time": "2023-03-23T12:26:32.776Z"
   },
   {
    "duration": 12,
    "start_time": "2023-03-23T12:26:33.151Z"
   },
   {
    "duration": 70,
    "start_time": "2023-03-23T12:26:33.166Z"
   },
   {
    "duration": 26,
    "start_time": "2023-03-23T12:26:33.238Z"
   },
   {
    "duration": 5186,
    "start_time": "2023-03-23T12:26:33.265Z"
   },
   {
    "duration": 7,
    "start_time": "2023-03-23T12:26:38.453Z"
   },
   {
    "duration": 338,
    "start_time": "2023-03-23T12:26:38.462Z"
   },
   {
    "duration": 413,
    "start_time": "2023-03-23T12:26:38.801Z"
   },
   {
    "duration": 834,
    "start_time": "2023-03-23T12:26:39.215Z"
   },
   {
    "duration": 542,
    "start_time": "2023-03-23T12:26:40.051Z"
   },
   {
    "duration": 2495,
    "start_time": "2023-03-23T12:26:40.595Z"
   },
   {
    "duration": 5,
    "start_time": "2023-03-23T12:26:49.676Z"
   },
   {
    "duration": 3,
    "start_time": "2023-03-23T12:26:50.279Z"
   },
   {
    "duration": 4,
    "start_time": "2023-03-23T12:26:50.802Z"
   },
   {
    "duration": 16,
    "start_time": "2023-03-23T12:26:51.442Z"
   },
   {
    "duration": 117,
    "start_time": "2023-03-23T12:26:52.472Z"
   },
   {
    "duration": 1142,
    "start_time": "2023-03-23T12:26:57.272Z"
   },
   {
    "duration": 5,
    "start_time": "2023-03-23T12:27:12.621Z"
   },
   {
    "duration": 4,
    "start_time": "2023-03-23T12:27:13.406Z"
   },
   {
    "duration": 1177932,
    "start_time": "2023-03-23T12:27:44.778Z"
   },
   {
    "duration": 2509,
    "start_time": "2023-04-21T15:47:24.828Z"
   },
   {
    "duration": 474,
    "start_time": "2023-04-21T15:47:27.339Z"
   },
   {
    "duration": 2987,
    "start_time": "2023-04-21T15:47:27.814Z"
   },
   {
    "duration": 117,
    "start_time": "2023-04-21T15:47:30.803Z"
   },
   {
    "duration": 0,
    "start_time": "2023-04-21T15:47:30.921Z"
   },
   {
    "duration": 0,
    "start_time": "2023-04-21T15:47:30.922Z"
   },
   {
    "duration": 0,
    "start_time": "2023-04-21T15:47:30.923Z"
   },
   {
    "duration": 0,
    "start_time": "2023-04-21T15:47:30.924Z"
   },
   {
    "duration": 0,
    "start_time": "2023-04-21T15:47:30.925Z"
   },
   {
    "duration": 0,
    "start_time": "2023-04-21T15:47:30.926Z"
   },
   {
    "duration": 0,
    "start_time": "2023-04-21T15:47:30.927Z"
   },
   {
    "duration": 0,
    "start_time": "2023-04-21T15:47:30.928Z"
   },
   {
    "duration": 0,
    "start_time": "2023-04-21T15:47:30.929Z"
   },
   {
    "duration": 0,
    "start_time": "2023-04-21T15:47:30.930Z"
   },
   {
    "duration": 0,
    "start_time": "2023-04-21T15:47:30.931Z"
   },
   {
    "duration": 0,
    "start_time": "2023-04-21T15:47:30.932Z"
   },
   {
    "duration": 1,
    "start_time": "2023-04-21T15:47:30.933Z"
   },
   {
    "duration": 0,
    "start_time": "2023-04-21T15:47:30.935Z"
   },
   {
    "duration": 0,
    "start_time": "2023-04-21T15:47:30.936Z"
   },
   {
    "duration": 0,
    "start_time": "2023-04-21T15:47:30.937Z"
   },
   {
    "duration": 0,
    "start_time": "2023-04-21T15:47:30.938Z"
   },
   {
    "duration": 0,
    "start_time": "2023-04-21T15:47:30.940Z"
   },
   {
    "duration": 0,
    "start_time": "2023-04-21T15:47:30.941Z"
   },
   {
    "duration": 0,
    "start_time": "2023-04-21T15:47:30.942Z"
   },
   {
    "duration": 0,
    "start_time": "2023-04-21T15:47:30.944Z"
   },
   {
    "duration": 0,
    "start_time": "2023-04-21T15:47:30.945Z"
   },
   {
    "duration": 106,
    "start_time": "2023-04-21T15:47:50.796Z"
   },
   {
    "duration": 1008,
    "start_time": "2023-04-21T15:48:05.286Z"
   },
   {
    "duration": 1001,
    "start_time": "2023-04-21T15:48:33.751Z"
   },
   {
    "duration": 936,
    "start_time": "2023-04-21T15:49:23.480Z"
   },
   {
    "duration": 2374,
    "start_time": "2023-04-21T15:49:46.978Z"
   },
   {
    "duration": 555,
    "start_time": "2023-04-21T15:49:49.356Z"
   },
   {
    "duration": 970,
    "start_time": "2023-04-21T15:49:49.913Z"
   },
   {
    "duration": 1115,
    "start_time": "2023-04-21T15:49:50.885Z"
   },
   {
    "duration": 32,
    "start_time": "2023-04-21T15:49:52.001Z"
   },
   {
    "duration": 56,
    "start_time": "2023-04-21T15:49:52.035Z"
   },
   {
    "duration": 16,
    "start_time": "2023-04-21T15:49:52.093Z"
   },
   {
    "duration": 352,
    "start_time": "2023-04-21T15:49:52.111Z"
   },
   {
    "duration": 764,
    "start_time": "2023-04-21T15:49:52.465Z"
   },
   {
    "duration": 48,
    "start_time": "2023-04-21T15:49:53.232Z"
   },
   {
    "duration": 133,
    "start_time": "2023-04-21T15:49:53.282Z"
   },
   {
    "duration": 286,
    "start_time": "2023-04-21T15:49:53.417Z"
   },
   {
    "duration": 12,
    "start_time": "2023-04-21T15:49:53.705Z"
   },
   {
    "duration": 100,
    "start_time": "2023-04-21T15:49:53.718Z"
   },
   {
    "duration": 24,
    "start_time": "2023-04-21T15:49:53.820Z"
   },
   {
    "duration": 4423,
    "start_time": "2023-04-21T15:49:53.855Z"
   },
   {
    "duration": 7,
    "start_time": "2023-04-21T15:49:58.280Z"
   },
   {
    "duration": 324,
    "start_time": "2023-04-21T15:49:58.289Z"
   },
   {
    "duration": 12,
    "start_time": "2023-04-21T15:49:58.615Z"
   },
   {
    "duration": 412,
    "start_time": "2023-04-21T15:49:58.629Z"
   },
   {
    "duration": 4,
    "start_time": "2023-04-21T15:49:59.043Z"
   },
   {
    "duration": 136,
    "start_time": "2023-04-21T15:49:59.055Z"
   },
   {
    "duration": 3,
    "start_time": "2023-04-21T15:49:59.192Z"
   },
   {
    "duration": 47,
    "start_time": "2023-04-21T15:49:59.196Z"
   },
   {
    "duration": 430,
    "start_time": "2023-04-21T15:49:59.244Z"
   },
   {
    "duration": 0,
    "start_time": "2023-04-21T15:49:59.676Z"
   },
   {
    "duration": 0,
    "start_time": "2023-04-21T15:49:59.677Z"
   },
   {
    "duration": 0,
    "start_time": "2023-04-21T15:49:59.679Z"
   },
   {
    "duration": 0,
    "start_time": "2023-04-21T15:49:59.796Z"
   },
   {
    "duration": 6861,
    "start_time": "2023-04-21T15:51:17.615Z"
   },
   {
    "duration": 1372,
    "start_time": "2023-04-21T15:51:24.478Z"
   },
   {
    "duration": 1646,
    "start_time": "2023-04-21T15:51:25.852Z"
   },
   {
    "duration": 844,
    "start_time": "2023-04-21T15:51:27.500Z"
   },
   {
    "duration": 955,
    "start_time": "2023-04-21T15:51:28.346Z"
   },
   {
    "duration": 27,
    "start_time": "2023-04-21T15:51:29.303Z"
   },
   {
    "duration": 49,
    "start_time": "2023-04-21T15:51:29.332Z"
   },
   {
    "duration": 14,
    "start_time": "2023-04-21T15:51:29.383Z"
   },
   {
    "duration": 262,
    "start_time": "2023-04-21T15:51:29.398Z"
   },
   {
    "duration": 702,
    "start_time": "2023-04-21T15:51:29.663Z"
   },
   {
    "duration": 46,
    "start_time": "2023-04-21T15:51:30.367Z"
   },
   {
    "duration": 104,
    "start_time": "2023-04-21T15:51:30.415Z"
   },
   {
    "duration": 297,
    "start_time": "2023-04-21T15:51:30.521Z"
   },
   {
    "duration": 12,
    "start_time": "2023-04-21T15:51:30.819Z"
   },
   {
    "duration": 146,
    "start_time": "2023-04-21T15:51:30.833Z"
   },
   {
    "duration": 26,
    "start_time": "2023-04-21T15:51:30.980Z"
   },
   {
    "duration": 4526,
    "start_time": "2023-04-21T15:51:31.008Z"
   },
   {
    "duration": 6,
    "start_time": "2023-04-21T15:51:35.536Z"
   },
   {
    "duration": 300,
    "start_time": "2023-04-21T15:51:35.543Z"
   },
   {
    "duration": 15,
    "start_time": "2023-04-21T15:51:35.844Z"
   },
   {
    "duration": 368,
    "start_time": "2023-04-21T15:51:35.860Z"
   },
   {
    "duration": 4,
    "start_time": "2023-04-21T15:52:15.753Z"
   },
   {
    "duration": 130,
    "start_time": "2023-04-21T15:52:16.244Z"
   },
   {
    "duration": 2,
    "start_time": "2023-04-21T15:52:18.040Z"
   },
   {
    "duration": 43,
    "start_time": "2023-04-21T15:52:18.619Z"
   },
   {
    "duration": 13274,
    "start_time": "2023-04-21T15:52:19.217Z"
   },
   {
    "duration": 4,
    "start_time": "2023-04-21T15:52:32.493Z"
   },
   {
    "duration": 7,
    "start_time": "2023-04-21T15:52:32.498Z"
   },
   {
    "duration": 337,
    "start_time": "2023-04-21T15:52:32.507Z"
   },
   {
    "duration": 23,
    "start_time": "2023-04-21T15:52:32.845Z"
   }
  ],
  "accelerator": "GPU",
  "colab": {
   "provenance": []
  },
  "gpuClass": "standard",
  "kernelspec": {
   "display_name": "Python 3 (ipykernel)",
   "language": "python",
   "name": "python3"
  },
  "language_info": {
   "codemirror_mode": {
    "name": "ipython",
    "version": 3
   },
   "file_extension": ".py",
   "mimetype": "text/x-python",
   "name": "python",
   "nbconvert_exporter": "python",
   "pygments_lexer": "ipython3",
   "version": "3.11.2"
  },
  "toc": {
   "base_numbering": 1,
   "nav_menu": {},
   "number_sections": true,
   "sideBar": true,
   "skip_h1_title": true,
   "title_cell": "Table of Contents",
   "title_sidebar": "Contents",
   "toc_cell": false,
   "toc_position": {
    "height": "calc(100% - 180px)",
    "left": "10px",
    "top": "150px",
    "width": "384px"
   },
   "toc_section_display": true,
   "toc_window_display": true
  },
  "widgets": {
   "application/vnd.jupyter.widget-state+json": {
    "0f081d764fe543b18114a4ed1d85f49b": {
     "model_module": "@jupyter-widgets/base",
     "model_module_version": "1.2.0",
     "model_name": "LayoutModel",
     "state": {
      "_model_module": "@jupyter-widgets/base",
      "_model_module_version": "1.2.0",
      "_model_name": "LayoutModel",
      "_view_count": null,
      "_view_module": "@jupyter-widgets/base",
      "_view_module_version": "1.2.0",
      "_view_name": "LayoutView",
      "align_content": null,
      "align_items": null,
      "align_self": null,
      "border": null,
      "bottom": null,
      "display": null,
      "flex": null,
      "flex_flow": null,
      "grid_area": null,
      "grid_auto_columns": null,
      "grid_auto_flow": null,
      "grid_auto_rows": null,
      "grid_column": null,
      "grid_gap": null,
      "grid_row": null,
      "grid_template_areas": null,
      "grid_template_columns": null,
      "grid_template_rows": null,
      "height": null,
      "justify_content": null,
      "justify_items": null,
      "left": null,
      "margin": null,
      "max_height": null,
      "max_width": null,
      "min_height": null,
      "min_width": null,
      "object_fit": null,
      "object_position": null,
      "order": null,
      "overflow": null,
      "overflow_x": null,
      "overflow_y": null,
      "padding": null,
      "right": null,
      "top": null,
      "visibility": null,
      "width": null
     }
    },
    "3aabf7c6246e45dc95d6db8b52bbe99f": {
     "model_module": "@jupyter-widgets/controls",
     "model_module_version": "1.5.0",
     "model_name": "DescriptionStyleModel",
     "state": {
      "_model_module": "@jupyter-widgets/controls",
      "_model_module_version": "1.5.0",
      "_model_name": "DescriptionStyleModel",
      "_view_count": null,
      "_view_module": "@jupyter-widgets/base",
      "_view_module_version": "1.2.0",
      "_view_name": "StyleView",
      "description_width": ""
     }
    },
    "49343cf99e4b48bf8bace8f41497d79d": {
     "model_module": "@jupyter-widgets/controls",
     "model_module_version": "1.5.0",
     "model_name": "HBoxModel",
     "state": {
      "_dom_classes": [],
      "_model_module": "@jupyter-widgets/controls",
      "_model_module_version": "1.5.0",
      "_model_name": "HBoxModel",
      "_view_count": null,
      "_view_module": "@jupyter-widgets/controls",
      "_view_module_version": "1.5.0",
      "_view_name": "HBoxView",
      "box_style": "",
      "children": [
       "IPY_MODEL_4e2d9a94b21a499d8c6a4aab50c56da3",
       "IPY_MODEL_a37e6509f17f4655a11cbeb3b4e8abf6",
       "IPY_MODEL_6a05743ffbbb4ff1b7ef2ca2811a1f10"
      ],
      "layout": "IPY_MODEL_0f081d764fe543b18114a4ed1d85f49b"
     }
    },
    "4c6a9fce3bdf4035b17455d59598a298": {
     "model_module": "@jupyter-widgets/base",
     "model_module_version": "1.2.0",
     "model_name": "LayoutModel",
     "state": {
      "_model_module": "@jupyter-widgets/base",
      "_model_module_version": "1.2.0",
      "_model_name": "LayoutModel",
      "_view_count": null,
      "_view_module": "@jupyter-widgets/base",
      "_view_module_version": "1.2.0",
      "_view_name": "LayoutView",
      "align_content": null,
      "align_items": null,
      "align_self": null,
      "border": null,
      "bottom": null,
      "display": null,
      "flex": null,
      "flex_flow": null,
      "grid_area": null,
      "grid_auto_columns": null,
      "grid_auto_flow": null,
      "grid_auto_rows": null,
      "grid_column": null,
      "grid_gap": null,
      "grid_row": null,
      "grid_template_areas": null,
      "grid_template_columns": null,
      "grid_template_rows": null,
      "height": null,
      "justify_content": null,
      "justify_items": null,
      "left": null,
      "margin": null,
      "max_height": null,
      "max_width": null,
      "min_height": null,
      "min_width": null,
      "object_fit": null,
      "object_position": null,
      "order": null,
      "overflow": null,
      "overflow_x": null,
      "overflow_y": null,
      "padding": null,
      "right": null,
      "top": null,
      "visibility": null,
      "width": null
     }
    },
    "4e2d9a94b21a499d8c6a4aab50c56da3": {
     "model_module": "@jupyter-widgets/controls",
     "model_module_version": "1.5.0",
     "model_name": "HTMLModel",
     "state": {
      "_dom_classes": [],
      "_model_module": "@jupyter-widgets/controls",
      "_model_module_version": "1.5.0",
      "_model_name": "HTMLModel",
      "_view_count": null,
      "_view_module": "@jupyter-widgets/controls",
      "_view_module_version": "1.5.0",
      "_view_name": "HTMLView",
      "description": "",
      "description_tooltip": null,
      "layout": "IPY_MODEL_7bbc4e12af884389bdcad134d5f9c656",
      "placeholder": "​",
      "style": "IPY_MODEL_652f014a1cf04532aed593c64886698d",
      "value": "100%"
     }
    },
    "652f014a1cf04532aed593c64886698d": {
     "model_module": "@jupyter-widgets/controls",
     "model_module_version": "1.5.0",
     "model_name": "DescriptionStyleModel",
     "state": {
      "_model_module": "@jupyter-widgets/controls",
      "_model_module_version": "1.5.0",
      "_model_name": "DescriptionStyleModel",
      "_view_count": null,
      "_view_module": "@jupyter-widgets/base",
      "_view_module_version": "1.2.0",
      "_view_name": "StyleView",
      "description_width": ""
     }
    },
    "6a05743ffbbb4ff1b7ef2ca2811a1f10": {
     "model_module": "@jupyter-widgets/controls",
     "model_module_version": "1.5.0",
     "model_name": "HTMLModel",
     "state": {
      "_dom_classes": [],
      "_model_module": "@jupyter-widgets/controls",
      "_model_module_version": "1.5.0",
      "_model_name": "HTMLModel",
      "_view_count": null,
      "_view_module": "@jupyter-widgets/controls",
      "_view_module_version": "1.5.0",
      "_view_name": "HTMLView",
      "description": "",
      "description_tooltip": null,
      "layout": "IPY_MODEL_4c6a9fce3bdf4035b17455d59598a298",
      "placeholder": "​",
      "style": "IPY_MODEL_3aabf7c6246e45dc95d6db8b52bbe99f",
      "value": " 200/200 [08:33&lt;00:00,  2.38s/it]"
     }
    },
    "7bbc4e12af884389bdcad134d5f9c656": {
     "model_module": "@jupyter-widgets/base",
     "model_module_version": "1.2.0",
     "model_name": "LayoutModel",
     "state": {
      "_model_module": "@jupyter-widgets/base",
      "_model_module_version": "1.2.0",
      "_model_name": "LayoutModel",
      "_view_count": null,
      "_view_module": "@jupyter-widgets/base",
      "_view_module_version": "1.2.0",
      "_view_name": "LayoutView",
      "align_content": null,
      "align_items": null,
      "align_self": null,
      "border": null,
      "bottom": null,
      "display": null,
      "flex": null,
      "flex_flow": null,
      "grid_area": null,
      "grid_auto_columns": null,
      "grid_auto_flow": null,
      "grid_auto_rows": null,
      "grid_column": null,
      "grid_gap": null,
      "grid_row": null,
      "grid_template_areas": null,
      "grid_template_columns": null,
      "grid_template_rows": null,
      "height": null,
      "justify_content": null,
      "justify_items": null,
      "left": null,
      "margin": null,
      "max_height": null,
      "max_width": null,
      "min_height": null,
      "min_width": null,
      "object_fit": null,
      "object_position": null,
      "order": null,
      "overflow": null,
      "overflow_x": null,
      "overflow_y": null,
      "padding": null,
      "right": null,
      "top": null,
      "visibility": null,
      "width": null
     }
    },
    "87e014b0898e494ba9acde255f2581d7": {
     "model_module": "@jupyter-widgets/controls",
     "model_module_version": "1.5.0",
     "model_name": "ProgressStyleModel",
     "state": {
      "_model_module": "@jupyter-widgets/controls",
      "_model_module_version": "1.5.0",
      "_model_name": "ProgressStyleModel",
      "_view_count": null,
      "_view_module": "@jupyter-widgets/base",
      "_view_module_version": "1.2.0",
      "_view_name": "StyleView",
      "bar_color": null,
      "description_width": ""
     }
    },
    "9ff219d95c9c4c8a99e04d61338a1610": {
     "model_module": "@jupyter-widgets/base",
     "model_module_version": "1.2.0",
     "model_name": "LayoutModel",
     "state": {
      "_model_module": "@jupyter-widgets/base",
      "_model_module_version": "1.2.0",
      "_model_name": "LayoutModel",
      "_view_count": null,
      "_view_module": "@jupyter-widgets/base",
      "_view_module_version": "1.2.0",
      "_view_name": "LayoutView",
      "align_content": null,
      "align_items": null,
      "align_self": null,
      "border": null,
      "bottom": null,
      "display": null,
      "flex": null,
      "flex_flow": null,
      "grid_area": null,
      "grid_auto_columns": null,
      "grid_auto_flow": null,
      "grid_auto_rows": null,
      "grid_column": null,
      "grid_gap": null,
      "grid_row": null,
      "grid_template_areas": null,
      "grid_template_columns": null,
      "grid_template_rows": null,
      "height": null,
      "justify_content": null,
      "justify_items": null,
      "left": null,
      "margin": null,
      "max_height": null,
      "max_width": null,
      "min_height": null,
      "min_width": null,
      "object_fit": null,
      "object_position": null,
      "order": null,
      "overflow": null,
      "overflow_x": null,
      "overflow_y": null,
      "padding": null,
      "right": null,
      "top": null,
      "visibility": null,
      "width": null
     }
    },
    "a37e6509f17f4655a11cbeb3b4e8abf6": {
     "model_module": "@jupyter-widgets/controls",
     "model_module_version": "1.5.0",
     "model_name": "FloatProgressModel",
     "state": {
      "_dom_classes": [],
      "_model_module": "@jupyter-widgets/controls",
      "_model_module_version": "1.5.0",
      "_model_name": "FloatProgressModel",
      "_view_count": null,
      "_view_module": "@jupyter-widgets/controls",
      "_view_module_version": "1.5.0",
      "_view_name": "ProgressView",
      "bar_style": "success",
      "description": "",
      "description_tooltip": null,
      "layout": "IPY_MODEL_9ff219d95c9c4c8a99e04d61338a1610",
      "max": 200,
      "min": 0,
      "orientation": "horizontal",
      "style": "IPY_MODEL_87e014b0898e494ba9acde255f2581d7",
      "value": 200
     }
    }
   }
  }
 },
 "nbformat": 4,
 "nbformat_minor": 1
}
